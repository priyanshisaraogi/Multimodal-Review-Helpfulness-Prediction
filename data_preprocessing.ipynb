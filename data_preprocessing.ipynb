{
 "cells": [
  {
   "cell_type": "code",
   "execution_count": 3,
   "id": "eef8bba8",
   "metadata": {},
   "outputs": [
    {
     "name": "stdout",
     "output_type": "stream",
     "text": [
      "Requirement already satisfied: torch in ./venv/lib/python3.12/site-packages (2.2.2)\n",
      "Requirement already satisfied: filelock in ./venv/lib/python3.12/site-packages (from torch) (3.18.0)\n",
      "Requirement already satisfied: typing-extensions>=4.8.0 in ./venv/lib/python3.12/site-packages (from torch) (4.12.2)\n",
      "Requirement already satisfied: sympy in ./venv/lib/python3.12/site-packages (from torch) (1.13.3)\n",
      "Requirement already satisfied: networkx in ./venv/lib/python3.12/site-packages (from torch) (3.4.2)\n",
      "Requirement already satisfied: jinja2 in ./venv/lib/python3.12/site-packages (from torch) (3.1.6)\n",
      "Requirement already satisfied: fsspec in ./venv/lib/python3.12/site-packages (from torch) (2024.12.0)\n",
      "Requirement already satisfied: MarkupSafe>=2.0 in ./venv/lib/python3.12/site-packages (from jinja2->torch) (3.0.2)\n",
      "Requirement already satisfied: mpmath<1.4,>=1.1.0 in ./venv/lib/python3.12/site-packages (from sympy->torch) (1.3.0)\n",
      "\n",
      "\u001b[1m[\u001b[0m\u001b[34;49mnotice\u001b[0m\u001b[1;39;49m]\u001b[0m\u001b[39;49m A new release of pip is available: \u001b[0m\u001b[31;49m23.2.1\u001b[0m\u001b[39;49m -> \u001b[0m\u001b[32;49m25.0.1\u001b[0m\n",
      "\u001b[1m[\u001b[0m\u001b[34;49mnotice\u001b[0m\u001b[1;39;49m]\u001b[0m\u001b[39;49m To update, run: \u001b[0m\u001b[32;49mpip install --upgrade pip\u001b[0m\n",
      "Requirement already satisfied: opencv-python in ./venv/lib/python3.12/site-packages (4.11.0.86)\n",
      "Requirement already satisfied: numpy>=1.21.2 in ./venv/lib/python3.12/site-packages (from opencv-python) (1.26.4)\n",
      "\n",
      "\u001b[1m[\u001b[0m\u001b[34;49mnotice\u001b[0m\u001b[1;39;49m]\u001b[0m\u001b[39;49m A new release of pip is available: \u001b[0m\u001b[31;49m23.2.1\u001b[0m\u001b[39;49m -> \u001b[0m\u001b[32;49m25.0.1\u001b[0m\n",
      "\u001b[1m[\u001b[0m\u001b[34;49mnotice\u001b[0m\u001b[1;39;49m]\u001b[0m\u001b[39;49m To update, run: \u001b[0m\u001b[32;49mpip install --upgrade pip\u001b[0m\n",
      "Requirement already satisfied: umap in ./venv/lib/python3.12/site-packages (0.1.1)\n",
      "\n",
      "\u001b[1m[\u001b[0m\u001b[34;49mnotice\u001b[0m\u001b[1;39;49m]\u001b[0m\u001b[39;49m A new release of pip is available: \u001b[0m\u001b[31;49m23.2.1\u001b[0m\u001b[39;49m -> \u001b[0m\u001b[32;49m25.0.1\u001b[0m\n",
      "\u001b[1m[\u001b[0m\u001b[34;49mnotice\u001b[0m\u001b[1;39;49m]\u001b[0m\u001b[39;49m To update, run: \u001b[0m\u001b[32;49mpip install --upgrade pip\u001b[0m\n",
      "Requirement already satisfied: seaborn in ./venv/lib/python3.12/site-packages (0.13.2)\n",
      "Requirement already satisfied: sentence-transformers in ./venv/lib/python3.12/site-packages (4.0.2)\n",
      "Requirement already satisfied: textstat in ./venv/lib/python3.12/site-packages (0.7.5)\n",
      "Requirement already satisfied: scikit-image in ./venv/lib/python3.12/site-packages (0.25.2)\n",
      "Requirement already satisfied: fasttext in ./venv/lib/python3.12/site-packages (0.9.3)\n",
      "Requirement already satisfied: numpy!=1.24.0,>=1.20 in ./venv/lib/python3.12/site-packages (from seaborn) (1.26.4)\n",
      "Requirement already satisfied: pandas>=1.2 in ./venv/lib/python3.12/site-packages (from seaborn) (2.2.3)\n",
      "Requirement already satisfied: matplotlib!=3.6.1,>=3.4 in ./venv/lib/python3.12/site-packages (from seaborn) (3.10.1)\n",
      "Requirement already satisfied: transformers<5.0.0,>=4.41.0 in ./venv/lib/python3.12/site-packages (from sentence-transformers) (4.51.2)\n",
      "Requirement already satisfied: tqdm in ./venv/lib/python3.12/site-packages (from sentence-transformers) (4.67.1)\n",
      "Requirement already satisfied: torch>=1.11.0 in ./venv/lib/python3.12/site-packages (from sentence-transformers) (2.2.2)\n",
      "Requirement already satisfied: scikit-learn in ./venv/lib/python3.12/site-packages (from sentence-transformers) (1.6.1)\n",
      "Requirement already satisfied: scipy in ./venv/lib/python3.12/site-packages (from sentence-transformers) (1.15.2)\n",
      "Requirement already satisfied: huggingface-hub>=0.20.0 in ./venv/lib/python3.12/site-packages (from sentence-transformers) (0.30.2)\n",
      "Requirement already satisfied: Pillow in ./venv/lib/python3.12/site-packages (from sentence-transformers) (11.1.0)\n",
      "Requirement already satisfied: typing_extensions>=4.5.0 in ./venv/lib/python3.12/site-packages (from sentence-transformers) (4.12.2)\n",
      "Requirement already satisfied: pyphen in ./venv/lib/python3.12/site-packages (from textstat) (0.17.2)\n",
      "Requirement already satisfied: cmudict in ./venv/lib/python3.12/site-packages (from textstat) (1.0.32)\n",
      "Requirement already satisfied: setuptools in ./venv/lib/python3.12/site-packages (from textstat) (78.1.0)\n",
      "Requirement already satisfied: networkx>=3.0 in ./venv/lib/python3.12/site-packages (from scikit-image) (3.4.2)\n",
      "Requirement already satisfied: imageio!=2.35.0,>=2.33 in ./venv/lib/python3.12/site-packages (from scikit-image) (2.37.0)\n",
      "Requirement already satisfied: tifffile>=2022.8.12 in ./venv/lib/python3.12/site-packages (from scikit-image) (2025.3.30)\n",
      "Requirement already satisfied: packaging>=21 in ./venv/lib/python3.12/site-packages (from scikit-image) (24.2)\n",
      "Requirement already satisfied: lazy-loader>=0.4 in ./venv/lib/python3.12/site-packages (from scikit-image) (0.4)\n",
      "Requirement already satisfied: pybind11>=2.2 in ./venv/lib/python3.12/site-packages (from fasttext) (2.13.6)\n",
      "Requirement already satisfied: filelock in ./venv/lib/python3.12/site-packages (from huggingface-hub>=0.20.0->sentence-transformers) (3.18.0)\n",
      "Requirement already satisfied: fsspec>=2023.5.0 in ./venv/lib/python3.12/site-packages (from huggingface-hub>=0.20.0->sentence-transformers) (2024.12.0)\n",
      "Requirement already satisfied: pyyaml>=5.1 in ./venv/lib/python3.12/site-packages (from huggingface-hub>=0.20.0->sentence-transformers) (6.0.2)\n",
      "Requirement already satisfied: requests in ./venv/lib/python3.12/site-packages (from huggingface-hub>=0.20.0->sentence-transformers) (2.32.3)\n",
      "Requirement already satisfied: contourpy>=1.0.1 in ./venv/lib/python3.12/site-packages (from matplotlib!=3.6.1,>=3.4->seaborn) (1.3.1)\n",
      "Requirement already satisfied: cycler>=0.10 in ./venv/lib/python3.12/site-packages (from matplotlib!=3.6.1,>=3.4->seaborn) (0.12.1)\n",
      "Requirement already satisfied: fonttools>=4.22.0 in ./venv/lib/python3.12/site-packages (from matplotlib!=3.6.1,>=3.4->seaborn) (4.56.0)\n",
      "Requirement already satisfied: kiwisolver>=1.3.1 in ./venv/lib/python3.12/site-packages (from matplotlib!=3.6.1,>=3.4->seaborn) (1.4.8)\n",
      "Requirement already satisfied: pyparsing>=2.3.1 in ./venv/lib/python3.12/site-packages (from matplotlib!=3.6.1,>=3.4->seaborn) (3.2.1)\n",
      "Requirement already satisfied: python-dateutil>=2.7 in ./venv/lib/python3.12/site-packages (from matplotlib!=3.6.1,>=3.4->seaborn) (2.9.0.post0)\n",
      "Requirement already satisfied: pytz>=2020.1 in ./venv/lib/python3.12/site-packages (from pandas>=1.2->seaborn) (2025.1)\n",
      "Requirement already satisfied: tzdata>=2022.7 in ./venv/lib/python3.12/site-packages (from pandas>=1.2->seaborn) (2025.1)\n",
      "Requirement already satisfied: sympy in ./venv/lib/python3.12/site-packages (from torch>=1.11.0->sentence-transformers) (1.13.3)\n",
      "Requirement already satisfied: jinja2 in ./venv/lib/python3.12/site-packages (from torch>=1.11.0->sentence-transformers) (3.1.6)\n",
      "Requirement already satisfied: regex!=2019.12.17 in ./venv/lib/python3.12/site-packages (from transformers<5.0.0,>=4.41.0->sentence-transformers) (2024.11.6)\n",
      "Requirement already satisfied: tokenizers<0.22,>=0.21 in ./venv/lib/python3.12/site-packages (from transformers<5.0.0,>=4.41.0->sentence-transformers) (0.21.1)\n",
      "Requirement already satisfied: safetensors>=0.4.3 in ./venv/lib/python3.12/site-packages (from transformers<5.0.0,>=4.41.0->sentence-transformers) (0.5.3)\n",
      "Requirement already satisfied: importlib-metadata>=5 in ./venv/lib/python3.12/site-packages (from cmudict->textstat) (8.6.1)\n",
      "Requirement already satisfied: importlib-resources>=5 in ./venv/lib/python3.12/site-packages (from cmudict->textstat) (6.5.2)\n",
      "Requirement already satisfied: joblib>=1.2.0 in ./venv/lib/python3.12/site-packages (from scikit-learn->sentence-transformers) (1.4.2)\n",
      "Requirement already satisfied: threadpoolctl>=3.1.0 in ./venv/lib/python3.12/site-packages (from scikit-learn->sentence-transformers) (3.6.0)\n",
      "Requirement already satisfied: zipp>=3.20 in ./venv/lib/python3.12/site-packages (from importlib-metadata>=5->cmudict->textstat) (3.21.0)\n",
      "Requirement already satisfied: six>=1.5 in ./venv/lib/python3.12/site-packages (from python-dateutil>=2.7->matplotlib!=3.6.1,>=3.4->seaborn) (1.17.0)\n",
      "Requirement already satisfied: MarkupSafe>=2.0 in ./venv/lib/python3.12/site-packages (from jinja2->torch>=1.11.0->sentence-transformers) (3.0.2)\n",
      "Requirement already satisfied: charset-normalizer<4,>=2 in ./venv/lib/python3.12/site-packages (from requests->huggingface-hub>=0.20.0->sentence-transformers) (3.4.1)\n",
      "Requirement already satisfied: idna<4,>=2.5 in ./venv/lib/python3.12/site-packages (from requests->huggingface-hub>=0.20.0->sentence-transformers) (3.10)\n",
      "Requirement already satisfied: urllib3<3,>=1.21.1 in ./venv/lib/python3.12/site-packages (from requests->huggingface-hub>=0.20.0->sentence-transformers) (2.3.0)\n",
      "Requirement already satisfied: certifi>=2017.4.17 in ./venv/lib/python3.12/site-packages (from requests->huggingface-hub>=0.20.0->sentence-transformers) (2025.1.31)\n",
      "Requirement already satisfied: mpmath<1.4,>=1.1.0 in ./venv/lib/python3.12/site-packages (from sympy->torch>=1.11.0->sentence-transformers) (1.3.0)\n",
      "\n",
      "\u001b[1m[\u001b[0m\u001b[34;49mnotice\u001b[0m\u001b[1;39;49m]\u001b[0m\u001b[39;49m A new release of pip is available: \u001b[0m\u001b[31;49m23.2.1\u001b[0m\u001b[39;49m -> \u001b[0m\u001b[32;49m25.0.1\u001b[0m\n",
      "\u001b[1m[\u001b[0m\u001b[34;49mnotice\u001b[0m\u001b[1;39;49m]\u001b[0m\u001b[39;49m To update, run: \u001b[0m\u001b[32;49mpip install --upgrade pip\u001b[0m\n"
     ]
    },
    {
     "name": "stderr",
     "output_type": "stream",
     "text": [
      "[nltk_data] Downloading package vader_lexicon to\n",
      "[nltk_data]     /Users/priyanshisaraogi/nltk_data...\n",
      "[nltk_data]   Package vader_lexicon is already up-to-date!\n",
      "[nltk_data] Downloading package punkt to\n",
      "[nltk_data]     /Users/priyanshisaraogi/nltk_data...\n",
      "[nltk_data]   Package punkt is already up-to-date!\n",
      "[nltk_data] Downloading package stopwords to\n",
      "[nltk_data]     /Users/priyanshisaraogi/nltk_data...\n",
      "[nltk_data]   Package stopwords is already up-to-date!\n",
      "[nltk_data] Downloading package wordnet to\n",
      "[nltk_data]     /Users/priyanshisaraogi/nltk_data...\n",
      "[nltk_data]   Package wordnet is already up-to-date!\n",
      "[nltk_data] Downloading package punkt_tab to\n",
      "[nltk_data]     /Users/priyanshisaraogi/nltk_data...\n",
      "[nltk_data]   Package punkt_tab is already up-to-date!\n"
     ]
    },
    {
     "data": {
      "text/plain": [
       "True"
      ]
     },
     "execution_count": 3,
     "metadata": {},
     "output_type": "execute_result"
    }
   ],
   "source": [
    "!pip install torch\n",
    "!pip install opencv-python\n",
    "!pip install umap\n",
    "!pip install seaborn sentence-transformers textstat scikit-image fasttext\n",
    "\n",
    "\n",
    "\n",
    "import pandas as pd\n",
    "import numpy as np\n",
    "import torch\n",
    "import cv2\n",
    "import umap\n",
    "import seaborn as sns\n",
    "import matplotlib.pyplot as plt\n",
    "from datetime import datetime\n",
    "from transformers import DistilBertTokenizer, DistilBertModel, pipeline\n",
    "from sentence_transformers import SentenceTransformer\n",
    "from textstat import flesch_reading_ease\n",
    "from nltk.sentiment import SentimentIntensityAnalyzer\n",
    "import nltk\n",
    "import re\n",
    "from nltk.corpus import stopwords\n",
    "from nltk.tokenize import word_tokenize\n",
    "from nltk.stem import WordNetLemmatizer\n",
    "from skimage import io\n",
    "from datasets import load_dataset\n",
    "from scipy.stats import kurtosis  # Added for sharpness estimation\n",
    "import fasttext.util\n",
    "from sklearn.model_selection import train_test_split\n",
    "from concurrent.futures import ThreadPoolExecutor\n",
    "\n",
    "# Download required NLTK data\n",
    "nltk.download('vader_lexicon')\n",
    "nltk.download('punkt')\n",
    "nltk.download('stopwords')\n",
    "nltk.download('wordnet')\n",
    "nltk.download('punkt_tab')"
   ]
  },
  {
   "cell_type": "code",
   "execution_count": 10,
   "id": "4e743dfa",
   "metadata": {},
   "outputs": [
    {
     "name": "stdout",
     "output_type": "stream",
     "text": [
      "Filtered dataset size (before sampling): 26321 reviews\n",
      "Sampled dataset size (after selecting 10%): 26321 reviews\n",
      "Sampled dataset size (after selecting 10%): 112590 reviews\n",
      "0                                                                                                                                                                                                                                                                                                                                     [{'attachment_type': 'IMAGE', 'large_image_url': 'https://images-na.ssl-images-amazon.com/images/I/41FMcmkZDLL._SL1600_.jpg', 'medium_image_url': 'https://images-na.ssl-images-amazon.com/images/I/41FMcmkZDLL._SL800_.jpg', 'small_image_url': 'https://images-na.ssl-images-amazon.com/images/I/41FMcmkZDLL._SL256_.jpg'}, {'attachment_type': 'IMAGE', 'large_image_url': 'https://images-na.ssl-images-amazon.com/images/I/41pcNrIv9YL._SL1600_.jpg', 'medium_image_url': 'https://images-na.ssl-images-amazon.com/images/I/41pcNrIv9YL._SL800_.jpg', 'small_image_url': 'https://images-na.ssl-images-amazon.com/images/I/41pcNrIv9YL._SL256_.jpg'}]\n",
      "1        [{'attachment_type': 'IMAGE', 'large_image_url': 'https://images-na.ssl-images-amazon.com/images/I/51FFKVqctXL._SL1600_.jpg', 'medium_image_url': 'https://images-na.ssl-images-amazon.com/images/I/51FFKVqctXL._SL800_.jpg', 'small_image_url': 'https://images-na.ssl-images-amazon.com/images/I/51FFKVqctXL._SL256_.jpg'}, {'attachment_type': 'IMAGE', 'large_image_url': 'https://images-na.ssl-images-amazon.com/images/I/51U-Jj8nvvL._SL1600_.jpg', 'medium_image_url': 'https://images-na.ssl-images-amazon.com/images/I/51U-Jj8nvvL._SL800_.jpg', 'small_image_url': 'https://images-na.ssl-images-amazon.com/images/I/51U-Jj8nvvL._SL256_.jpg'}, {'attachment_type': 'IMAGE', 'large_image_url': 'https://images-na.ssl-images-amazon.com/images/I/51WbXeRwNwL._SL1600_.jpg', 'medium_image_url': 'https://images-na.ssl-images-amazon.com/images/I/51WbXeRwNwL._SL800_.jpg', 'small_image_url': 'https://images-na.ssl-images-amazon.com/images/I/51WbXeRwNwL._SL256_.jpg'}]\n",
      "2                                                                                                                                                                                                                                                                                                                                                                                                                                                                                                                                                                                                                                                                           [{'attachment_type': 'IMAGE', 'large_image_url': 'https://images-na.ssl-images-amazon.com/images/I/71x9TGPNYpL.jpg', 'medium_image_url': 'https://images-na.ssl-images-amazon.com/images/I/71x9TGPNYpL._SL800_.jpg', 'small_image_url': 'https://images-na.ssl-images-amazon.com/images/I/71x9TGPNYpL._SL256_.jpg'}]\n",
      "3                                                                                                                                                                                                                                                                                                                                                                                                                                                                                                                                                                                                                                                                           [{'attachment_type': 'IMAGE', 'large_image_url': 'https://images-na.ssl-images-amazon.com/images/I/71OmgsRmxCL.jpg', 'medium_image_url': 'https://images-na.ssl-images-amazon.com/images/I/71OmgsRmxCL._SL800_.jpg', 'small_image_url': 'https://images-na.ssl-images-amazon.com/images/I/71OmgsRmxCL._SL256_.jpg'}]\n",
      "4                                                                                                                                                                                                                                                                                                                                                                                                                                                                                                                                                                                                                                                                                                         [{'attachment_type': 'IMAGE', 'large_image_url': 'https://m.media-amazon.com/images/I/61ZRsMPnINL._SL1600_.jpg', 'medium_image_url': 'https://m.media-amazon.com/images/I/61ZRsMPnINL._SL800_.jpg', 'small_image_url': 'https://m.media-amazon.com/images/I/61ZRsMPnINL._SL256_.jpg'}]\n",
      "                                                                                                                                                                                                                                                                                                                                                                                                                                                                                                  ...                                                                                                                                                                                                                                                                                                                                                                                                                                                                                           \n",
      "26316                                                                                                                                                                                                                                                                                                                                                   [{'attachment_type': 'IMAGE', 'large_image_url': 'https://images-na.ssl-images-amazon.com/images/I/71+lIPLHBSL.jpg', 'medium_image_url': 'https://images-na.ssl-images-amazon.com/images/I/71+lIPLHBSL._SL800_.jpg', 'small_image_url': 'https://images-na.ssl-images-amazon.com/images/I/71+lIPLHBSL._SL256_.jpg'}, {'attachment_type': 'IMAGE', 'large_image_url': 'https://images-na.ssl-images-amazon.com/images/I/81z9aaorDuL.jpg', 'medium_image_url': 'https://images-na.ssl-images-amazon.com/images/I/81z9aaorDuL._SL800_.jpg', 'small_image_url': 'https://images-na.ssl-images-amazon.com/images/I/81z9aaorDuL._SL256_.jpg'}]\n",
      "26317                                                                                                                                                                                                                                                                                                                                                   [{'attachment_type': 'IMAGE', 'large_image_url': 'https://images-na.ssl-images-amazon.com/images/I/71RYp6iSvlL.jpg', 'medium_image_url': 'https://images-na.ssl-images-amazon.com/images/I/71RYp6iSvlL._SL800_.jpg', 'small_image_url': 'https://images-na.ssl-images-amazon.com/images/I/71RYp6iSvlL._SL256_.jpg'}, {'attachment_type': 'IMAGE', 'large_image_url': 'https://images-na.ssl-images-amazon.com/images/I/71wIt-CUFpL.jpg', 'medium_image_url': 'https://images-na.ssl-images-amazon.com/images/I/71wIt-CUFpL._SL800_.jpg', 'small_image_url': 'https://images-na.ssl-images-amazon.com/images/I/71wIt-CUFpL._SL256_.jpg'}]\n",
      "26318                                                                                                                                                                                                                                                                                                                                                                                                                                                                                                                                                                                                                                                                       [{'attachment_type': 'IMAGE', 'large_image_url': 'https://images-na.ssl-images-amazon.com/images/I/719DHG1W3gL.jpg', 'medium_image_url': 'https://images-na.ssl-images-amazon.com/images/I/719DHG1W3gL._SL800_.jpg', 'small_image_url': 'https://images-na.ssl-images-amazon.com/images/I/719DHG1W3gL._SL256_.jpg'}]\n",
      "26319                                                                                                                                                                                                                                                                                                                                 [{'attachment_type': 'IMAGE', 'large_image_url': 'https://images-na.ssl-images-amazon.com/images/I/81AudihFZTL._SL1600_.jpg', 'medium_image_url': 'https://images-na.ssl-images-amazon.com/images/I/81AudihFZTL._SL800_.jpg', 'small_image_url': 'https://images-na.ssl-images-amazon.com/images/I/81AudihFZTL._SL256_.jpg'}, {'attachment_type': 'IMAGE', 'large_image_url': 'https://images-na.ssl-images-amazon.com/images/I/91aJ+0p6UVL._SL1600_.jpg', 'medium_image_url': 'https://images-na.ssl-images-amazon.com/images/I/91aJ+0p6UVL._SL800_.jpg', 'small_image_url': 'https://images-na.ssl-images-amazon.com/images/I/91aJ+0p6UVL._SL256_.jpg'}]\n",
      "26320    [{'attachment_type': 'IMAGE', 'large_image_url': 'https://images-na.ssl-images-amazon.com/images/I/71KbVMbHeiL._SL1600_.jpg', 'medium_image_url': 'https://images-na.ssl-images-amazon.com/images/I/71KbVMbHeiL._SL800_.jpg', 'small_image_url': 'https://images-na.ssl-images-amazon.com/images/I/71KbVMbHeiL._SL256_.jpg'}, {'attachment_type': 'IMAGE', 'large_image_url': 'https://images-na.ssl-images-amazon.com/images/I/71WGtdmYCVL._SL1600_.jpg', 'medium_image_url': 'https://images-na.ssl-images-amazon.com/images/I/71WGtdmYCVL._SL800_.jpg', 'small_image_url': 'https://images-na.ssl-images-amazon.com/images/I/71WGtdmYCVL._SL256_.jpg'}, {'attachment_type': 'IMAGE', 'large_image_url': 'https://images-na.ssl-images-amazon.com/images/I/71zybs2u9qL._SL1600_.jpg', 'medium_image_url': 'https://images-na.ssl-images-amazon.com/images/I/71zybs2u9qL._SL800_.jpg', 'small_image_url': 'https://images-na.ssl-images-amazon.com/images/I/71zybs2u9qL._SL256_.jpg'}]\n",
      "Name: images, Length: 26321, dtype: object\n",
      "Final dataset saved as filtered_sampled_reviews.csv\n"
     ]
    }
   ],
   "source": [
    "from datasets import load_dataset\n",
    "\n",
    "category_reviews = \"raw_review_All_Beauty\"\n",
    "category_meta = \"raw_meta_All_Beauty\"\n",
    "\n",
    "# Load dataset from Hugging Face\n",
    "dataset_reviews = load_dataset(\"McAuley-Lab/Amazon-Reviews-2023\", category_reviews, split=\"full\")\n",
    "dataset_meta = load_dataset(\"McAuley-Lab/Amazon-Reviews-2023\", category_meta, split=\"full\")\n",
    "\n",
    "# ✅ Step 1: Remove reviews with 0 helpful votes BEFORE sampling\n",
    "dataset_reviews = dataset_reviews.filter(lambda x: x[\"helpful_vote\"] > 0)\n",
    "\n",
    "\n",
    "# Step 1: Remove reviews with 0 helpful votes\n",
    "dataset_reviews = dataset_reviews.filter(lambda x: x[\"helpful_vote\"] > 0)\n",
    "\n",
    "# Step 2: Remove rows where 'text' is missing\n",
    "dataset_reviews = dataset_reviews.filter(lambda x: x[\"text\"] is not None and x[\"text\"].strip() != \"\")\n",
    "\n",
    "# Keep only reviews with at least one image\n",
    "dataset_reviews = dataset_reviews.filter(lambda x: x.get(\"images\") is not None and len(x[\"images\"]) > 0)\n",
    "\n",
    "# # ✅ Step 2: Sample 10% of filtered data\n",
    "# num_samples = int(len(dataset_reviews) * 0.1)\n",
    "# dataset_reviews_new = dataset_reviews.shuffle(seed=42).select(range(num_samples))\n",
    "\n",
    "# num_samples_meta = int(len(dataset_meta) * 0.1)\n",
    "# dataset_meta = dataset_meta.shuffle(seed=42).select(range(num_samples_meta))\n",
    "\n",
    "# Convert to Pandas DataFrame\n",
    "df_reviews = dataset_reviews.to_pandas()\n",
    "df_meta = dataset_meta.to_pandas()\n",
    "\n",
    "# Display the shape of the dataset\n",
    "print(f\"Filtered dataset size (before sampling): {len(dataset_reviews)} reviews\")\n",
    "print(f\"Sampled dataset size (after selecting 10%): {df_reviews.shape[0]} reviews\")\n",
    "print(f\"Sampled dataset size (after selecting 10%): {df_meta.shape[0]} reviews\")\n",
    "\n",
    "pd.set_option('display.max_colwidth', None)\n",
    "\n",
    "# Display first few rows of the 'images' column\n",
    "print(df_reviews['images'])\n",
    "\n",
    "# Optionally save the final filtered dataset\n",
    "df_reviews.to_csv(\"filtered_sampled_reviews.csv\", index=False)\n",
    "print(\"Final dataset saved as filtered_sampled_reviews.csv\")\n"
   ]
  },
  {
   "cell_type": "code",
   "execution_count": null,
   "id": "be5b7d62",
   "metadata": {},
   "outputs": [
    {
     "name": "stdout",
     "output_type": "stream",
     "text": [
      "Sampled dataset size (after selecting 10%): 26321 reviews\n"
     ]
    }
   ],
   "source": [
    "# Merge reviews with metadata on 'parent_asin'\n",
    "df = pd.merge(df_reviews, df_meta, on='parent_asin', how='left')\n",
    "print(f\"Dataset size: {df.shape[0]} reviews and metadata\")"
   ]
  },
  {
   "cell_type": "code",
   "execution_count": 12,
   "id": "3e7cadf8",
   "metadata": {},
   "outputs": [],
   "source": [
    "df['helpfulness_score'] = df['helpful_vote'] / (df['helpful_vote'].max() + 1)"
   ]
  },
  {
   "cell_type": "code",
   "execution_count": 13,
   "id": "7f261339",
   "metadata": {},
   "outputs": [],
   "source": [
    "# Initialize NLP Models\n",
    "lemmatizer = WordNetLemmatizer()\n",
    "stop_words = set(stopwords.words('english'))\n",
    "sia = SentimentIntensityAnalyzer()"
   ]
  },
  {
   "cell_type": "code",
   "execution_count": 14,
   "id": "32267e7b",
   "metadata": {},
   "outputs": [],
   "source": [
    "# Text Preprocessing\n",
    "def clean_text(text):\n",
    "    text = text.lower()\n",
    "    text = re.sub(r'[^\\w\\s]', '', text)\n",
    "    words = word_tokenize(text)\n",
    "    words = [lemmatizer.lemmatize(word) for word in words if word not in stop_words]\n",
    "    return \" \".join(words)"
   ]
  },
  {
   "cell_type": "code",
   "execution_count": 15,
   "id": "12afef7e",
   "metadata": {},
   "outputs": [],
   "source": [
    "# Apply text cleaning\n",
    "df['cleaned_text'] = df['text'].astype(str).apply(clean_text)"
   ]
  },
  {
   "cell_type": "code",
   "execution_count": 16,
   "id": "5fd770b4",
   "metadata": {},
   "outputs": [],
   "source": [
    "from transformers import BertTokenizer, BertModel\n",
    "import torch\n",
    "# Load the pre-trained BERT tokenizer and model\n",
    "tokenizer = BertTokenizer.from_pretrained('bert-base-uncased')\n",
    "model = BertModel.from_pretrained('bert-base-uncased')\n",
    "\n",
    "# Define a function to get BERT embeddings for a given text\n",
    "def get_bert_embeddings(text):\n",
    "    # Tokenize the input text and convert it to input IDs\n",
    "    inputs = tokenizer(text, return_tensors='pt', truncation=True, padding=True, max_length=512)\n",
    "    \n",
    "    # Get the BERT model's outputs\n",
    "    with torch.no_grad():\n",
    "        outputs = model(**inputs)\n",
    "    \n",
    "    # The output embeddings are in the last_hidden_state\n",
    "    embeddings = outputs.last_hidden_state.mean(dim=1)  # Take the mean of all token embeddings (for the entire sentence)\n",
    "    \n",
    "    return embeddings\n"
   ]
  },
  {
   "cell_type": "code",
   "execution_count": null,
   "id": "09fe6ad6",
   "metadata": {},
   "outputs": [],
   "source": [
    "# # Get FastText Embeddings\n",
    "# def get_fasttext_embedding(text):\n",
    "#     words = text.split()\n",
    "#     word_vectors = [ft.get_word_vector(word) for word in words]\n",
    "#     if len(word_vectors) > 0:\n",
    "#         return np.mean(word_vectors, axis=0)\n",
    "#     else:\n",
    "#         return np.zeros(300)"
   ]
  },
  {
   "cell_type": "code",
   "execution_count": 17,
   "id": "7380ce41",
   "metadata": {},
   "outputs": [],
   "source": [
    "df['bert_embedding'] = df['cleaned_text'].apply(lambda x: get_bert_embeddings(x))"
   ]
  },
  {
   "cell_type": "code",
   "execution_count": 18,
   "id": "3e007fe7",
   "metadata": {},
   "outputs": [],
   "source": [
    "# Compute Other Text Features\n",
    "df['sentiment'] = df['cleaned_text'].apply(lambda t: sia.polarity_scores(t)['compound'])\n",
    "df['readability'] = df['cleaned_text'].apply(flesch_reading_ease)\n",
    "df['review_length'] = df['cleaned_text'].apply(len)\n",
    "df['punctuation_count'] = df['text'].apply(lambda t: t.count(\".\") if isinstance(t, str) else 0)"
   ]
  },
  {
   "cell_type": "code",
   "execution_count": 20,
   "id": "970e28ed",
   "metadata": {},
   "outputs": [],
   "source": [
    "import cv2\n",
    "import numpy as np\n",
    "from scipy.ndimage import sobel\n",
    "\n",
    "def estimate_image_quality(img):\n",
    "    \"\"\" Compute an optimized quality score using Laplacian (blur), mean brightness, and Sobel (sharpness). \"\"\"\n",
    "    gray = cv2.cvtColor(img, cv2.COLOR_RGB2GRAY)\n",
    "\n",
    "    # Blur detection (Laplacian variance with slight Gaussian smoothing for noise reduction)\n",
    "    blur_score = cv2.Laplacian(cv2.GaussianBlur(gray, (3,3), 0), cv2.CV_64F).var()\n",
    "\n",
    "    # Brightness (Mean pixel value)\n",
    "    brightness = np.mean(gray)\n",
    "\n",
    "    # Faster Sharpness Estimation using Sobel Edge Magnitude\n",
    "    sobel_x = sobel(gray, axis=0, mode='constant')\n",
    "    sobel_y = sobel(gray, axis=1, mode='constant')\n",
    "    sharpness = np.mean(np.sqrt(sobel_x**2 + sobel_y**2))\n",
    "\n",
    "    # Weighted quality score (adjust weights if needed)\n",
    "    quality_score = (blur_score * (-0.1)) + (sharpness * 0.7) + (brightness * 0.4)\n",
    "\n",
    "    return quality_score\n"
   ]
  },
  {
   "cell_type": "code",
   "execution_count": 21,
   "id": "b3f51c60",
   "metadata": {},
   "outputs": [],
   "source": [
    "# Process images\n",
    "def process_image(img_url):\n",
    "    try:\n",
    "        img = io.imread(img_url)\n",
    "        return estimate_image_quality(img)\n",
    "    except:\n",
    "        return None  # Return None if the image cannot be processed"
   ]
  },
  {
   "cell_type": "code",
   "execution_count": 50,
   "id": "9a91feab",
   "metadata": {},
   "outputs": [],
   "source": [
    "import numpy as np\n",
    "\n",
    "def extract_large_image_urls(image_list):\n",
    "    \"\"\"\n",
    "    Extract all large_image_urls from a list or numpy array of image dictionaries.\n",
    "    Returns a list of URLs, or an empty list if none are found.\n",
    "    \"\"\"\n",
    "    # Convert numpy.ndarray to list if necessary\n",
    "    if isinstance(image_list, np.ndarray):\n",
    "        image_list = image_list.tolist()\n",
    "    \n",
    "    # Now check if it's a list\n",
    "    if not isinstance(image_list, list):\n",
    "        print(f\"Input is not a list: {image_list}\")\n",
    "        return []\n",
    "    \n",
    "    urls = []\n",
    "    for img_dict in image_list:\n",
    "        if not isinstance(img_dict, dict):\n",
    "            print(f\"Item is not a dict: {img_dict}\")\n",
    "            continue\n",
    "        url = img_dict.get('large_image_url')\n",
    "        if url:\n",
    "            urls.append(url)\n",
    "        else:\n",
    "            print(f\"No URL found in 'large_image_url'. Available keys: {list(img_dict.keys())}\")\n",
    "    \n",
    "    return urls if urls else []"
   ]
  },
  {
   "cell_type": "code",
   "execution_count": 51,
   "id": "16fe5884",
   "metadata": {},
   "outputs": [
    {
     "name": "stdout",
     "output_type": "stream",
     "text": [
      "0                                                                                                                                                                                                                                                                                                                                 [{'attachment_type': 'IMAGE', 'large_image_url': 'https://images-na.ssl-images-amazon.com/images/I/41FMcmkZDLL._SL1600_.jpg', 'medium_image_url': 'https://images-na.ssl-images-amazon.com/images/I/41FMcmkZDLL._SL800_.jpg', 'small_image_url': 'https://images-na.ssl-images-amazon.com/images/I/41FMcmkZDLL._SL256_.jpg'}, {'attachment_type': 'IMAGE', 'large_image_url': 'https://images-na.ssl-images-amazon.com/images/I/41pcNrIv9YL._SL1600_.jpg', 'medium_image_url': 'https://images-na.ssl-images-amazon.com/images/I/41pcNrIv9YL._SL800_.jpg', 'small_image_url': 'https://images-na.ssl-images-amazon.com/images/I/41pcNrIv9YL._SL256_.jpg'}]\n",
      "1    [{'attachment_type': 'IMAGE', 'large_image_url': 'https://images-na.ssl-images-amazon.com/images/I/51FFKVqctXL._SL1600_.jpg', 'medium_image_url': 'https://images-na.ssl-images-amazon.com/images/I/51FFKVqctXL._SL800_.jpg', 'small_image_url': 'https://images-na.ssl-images-amazon.com/images/I/51FFKVqctXL._SL256_.jpg'}, {'attachment_type': 'IMAGE', 'large_image_url': 'https://images-na.ssl-images-amazon.com/images/I/51U-Jj8nvvL._SL1600_.jpg', 'medium_image_url': 'https://images-na.ssl-images-amazon.com/images/I/51U-Jj8nvvL._SL800_.jpg', 'small_image_url': 'https://images-na.ssl-images-amazon.com/images/I/51U-Jj8nvvL._SL256_.jpg'}, {'attachment_type': 'IMAGE', 'large_image_url': 'https://images-na.ssl-images-amazon.com/images/I/51WbXeRwNwL._SL1600_.jpg', 'medium_image_url': 'https://images-na.ssl-images-amazon.com/images/I/51WbXeRwNwL._SL800_.jpg', 'small_image_url': 'https://images-na.ssl-images-amazon.com/images/I/51WbXeRwNwL._SL256_.jpg'}]\n",
      "2                                                                                                                                                                                                                                                                                                                                                                                                                                                                                                                                                                                                                                                                       [{'attachment_type': 'IMAGE', 'large_image_url': 'https://images-na.ssl-images-amazon.com/images/I/71x9TGPNYpL.jpg', 'medium_image_url': 'https://images-na.ssl-images-amazon.com/images/I/71x9TGPNYpL._SL800_.jpg', 'small_image_url': 'https://images-na.ssl-images-amazon.com/images/I/71x9TGPNYpL._SL256_.jpg'}]\n",
      "3                                                                                                                                                                                                                                                                                                                                                                                                                                                                                                                                                                                                                                                                       [{'attachment_type': 'IMAGE', 'large_image_url': 'https://images-na.ssl-images-amazon.com/images/I/71OmgsRmxCL.jpg', 'medium_image_url': 'https://images-na.ssl-images-amazon.com/images/I/71OmgsRmxCL._SL800_.jpg', 'small_image_url': 'https://images-na.ssl-images-amazon.com/images/I/71OmgsRmxCL._SL256_.jpg'}]\n",
      "4                                                                                                                                                                                                                                                                                                                                                                                                                                                                                                                                                                                                                                                                                                     [{'attachment_type': 'IMAGE', 'large_image_url': 'https://m.media-amazon.com/images/I/61ZRsMPnINL._SL1600_.jpg', 'medium_image_url': 'https://m.media-amazon.com/images/I/61ZRsMPnINL._SL800_.jpg', 'small_image_url': 'https://m.media-amazon.com/images/I/61ZRsMPnINL._SL256_.jpg'}]\n",
      "Name: images_x, dtype: object\n",
      "0                                                                               [https://images-na.ssl-images-amazon.com/images/I/41FMcmkZDLL._SL1600_.jpg, https://images-na.ssl-images-amazon.com/images/I/41pcNrIv9YL._SL1600_.jpg]\n",
      "1    [https://images-na.ssl-images-amazon.com/images/I/51FFKVqctXL._SL1600_.jpg, https://images-na.ssl-images-amazon.com/images/I/51U-Jj8nvvL._SL1600_.jpg, https://images-na.ssl-images-amazon.com/images/I/51WbXeRwNwL._SL1600_.jpg]\n",
      "2                                                                                                                                                                   [https://images-na.ssl-images-amazon.com/images/I/71x9TGPNYpL.jpg]\n",
      "3                                                                                                                                                                   [https://images-na.ssl-images-amazon.com/images/I/71OmgsRmxCL.jpg]\n",
      "4                                                                                                                                                                       [https://m.media-amazon.com/images/I/61ZRsMPnINL._SL1600_.jpg]\n",
      "Name: image_urls, dtype: object\n",
      "RAW: [{'attachment_type': 'IMAGE', 'large_image_url': 'https://m.media-amazon.com/images/I/61ZRsMPnINL._SL1600_.jpg', 'medium_image_url': 'https://m.media-amazon.com/images/I/61ZRsMPnINL._SL800_.jpg', 'small_image_url': 'https://m.media-amazon.com/images/I/61ZRsMPnINL._SL256_.jpg'}]\n",
      "EXTRACTED: ['https://m.media-amazon.com/images/I/61ZRsMPnINL._SL1600_.jpg']\n"
     ]
    }
   ],
   "source": [
    "# Apply the function to extract URLs\n",
    "df['image_urls'] = df['images_x'].apply(extract_large_image_urls)\n",
    "\n",
    "# Print to verify\n",
    "print(df['images_x'].head())\n",
    "print(df['image_urls'].head())\n",
    "\n",
    "sample = df['images_x'].iloc[4]\n",
    "print(\"RAW:\", sample)\n",
    "print(\"EXTRACTED:\", extract_large_image_urls(sample))\n"
   ]
  },
  {
   "cell_type": "code",
   "execution_count": 52,
   "id": "e31ff32c",
   "metadata": {},
   "outputs": [],
   "source": [
    "def compute_average_quality(urls):\n",
    "    if not urls:\n",
    "        return None  # Skip if there are no URLs\n",
    "    with ThreadPoolExecutor() as executor:\n",
    "        scores = list(executor.map(process_image, urls))\n",
    "    scores = [s for s in scores if s is not None]  # Remove None values\n",
    "    return np.mean(scores) if scores else None  # Compute average score"
   ]
  },
  {
   "cell_type": "code",
   "execution_count": 53,
   "id": "2ad0e52f",
   "metadata": {},
   "outputs": [
    {
     "name": "stderr",
     "output_type": "stream",
     "text": [
      "Processing Images: 100%|██████████| 26321/26321 [6:03:00<00:00,  1.21it/s]   \n"
     ]
    }
   ],
   "source": [
    "from tqdm import tqdm\n",
    "\n",
    "# Apply tqdm progress bar\n",
    "tqdm.pandas(desc=\"Processing Images\")\n",
    "\n",
    "# Apply function with progress bar\n",
    "df['avg_quality_score'] = df['image_urls'].progress_apply(compute_average_quality)\n"
   ]
  },
  {
   "cell_type": "code",
   "execution_count": 54,
   "id": "c54a9165",
   "metadata": {},
   "outputs": [
    {
     "name": "stdout",
     "output_type": "stream",
     "text": [
      "✅ DataFrame saved to: processed_images.csv\n"
     ]
    }
   ],
   "source": [
    "output_path = \"processed_images.csv\"\n",
    "df.to_csv(output_path, index=False)\n",
    "print(f\"✅ DataFrame saved to: {output_path}\")\n"
   ]
  },
  {
   "cell_type": "code",
   "execution_count": null,
   "id": "65b8f332",
   "metadata": {},
   "outputs": [
    {
     "name": "stdout",
     "output_type": "stream",
     "text": [
      "       rating  \\\n",
      "0         5.0   \n",
      "1         4.0   \n",
      "2         5.0   \n",
      "3         5.0   \n",
      "4         3.0   \n",
      "...       ...   \n",
      "26316     1.0   \n",
      "26317     5.0   \n",
      "26318     5.0   \n",
      "26319     5.0   \n",
      "26320     5.0   \n",
      "\n",
      "                                                                                                   title_x  \\\n",
      "0                                                                           Doesn't Sting or Burn My Eyes!   \n",
      "1                                                                                              Fun to Use!   \n",
      "2                                                                                             Looks Great!   \n",
      "3                                                          Big Bottle of Acetone-Based Nail Polish Remover   \n",
      "4                  This fragrance is neither offensive nor enticing; it is very subtle & lasts a few hours   \n",
      "...                                                                                                    ...   \n",
      "26316  Huge red flags. Website printed on box does not exist. Product arrived opened and label peeing off.   \n",
      "26317                                             If you’re looking for a reason to buy these, here it is!   \n",
      "26318                                                                                        Super simple!   \n",
      "26319                                                                     Just like Queen B braiding hair!   \n",
      "26320                                                                              Perfect hair choice!!!!   \n",
      "\n",
      "                                                                                                                                                                                                                                                                                                                                                                                                                                                                                                                                                                                                                                                                                                                                                                                                                                                                                                                                                                                                                                                                                                                                                                                                                                                                                                                                                                                                                                                                                                                                                                                                                                                                                                 text  \\\n",
      "0                                                                                                                                                                                                                                                                                                                                                                                                                                                                                                                                                                         I am in my late 40's and started using anti-aging products a few years ago. Because I have been using products to work on wrinkles and younger looking skin regularly for the past few years, it's difficult to see new results. This eye cream is a nice creamy consistency. I don't notice any smell from it at all. I am able to apply this to the eye area of both of my eyes with just one dispense from the pump. It absorbs nicely into my skin and keeps my delicate eye skin well hydrated. One thing that I especially like is that it doesn't sting my eyes! I have ultra sensitive eyes and if I sweat, make up and skin care products will often get rubbed into my eyes. Some products cause them to sting or burn. We're having a hot summer here in Georgia and even with sweating, I have not had any issues with it stinging or burning. I've had to stop using some of my favorite beauty products in the past for that problem. I'm very happy with this eye cream so far!<br /><br />*I received this for free in exchange for my honest &amp; unbiased review. My thoughts &amp; opinions are my own.   \n",
      "1      My daughter and I discovered facial sheet masks over the summer and have become fans of them. They are easy and fun to use. This box of Anti-Aging sheet masks comes with 5 masks. Each mask is individually wrapped. When you open up a mask and remove it from the packing, you see that there are 2 layers. One is the sheet mask which is thin and papery like. The other is a plastic type material. The two layers are together, so I put both of them on my face. The other masks that I have used didn't have this plastic layer. I couldn't get it to lay flat on my skin very well, so I peeled the plastic layer off leaving just the paper one. This was what I was more familiar with. That layer was easy to mold to my face. The mask was very cold which felt refreshing. It's very wet - not to the point of dripping off my face, but enough that you want to spread it around more on the mask as it is on your face. It says to leave it on for 15-20 minutes. I opted for the lesser time because my coffee was ready & I didn't want to wait any longer for it! Then you are supposed to rub any left over &#34;goo&#34; (for a lack of a better word) into you skin. I accidently got a little into my eye, but it didn't burn or sting at all, which surprised me. I have very sensitive eyes and was expecting to feel some pain. I regularly use anti-aging products, plus I have only used one of these sheet masks so far, so I don't notice any difference to my skin, but I would definitely add this to my beauty routine.<br /><br />*I purchased these masks at a reduced price for the purpose of trying out & reviewing. My thoughts & opinions are my own.   \n",
      "2                                                                                                                                                                                                                                                                                                                                                                                    I am very happy with my Marrywindix acrylic organizer! I have limited counter space for my cosmetics and beauty products. Prior to ordering this organizer, I had all of my lipsticks & lip glosses shoved in a small drawer. Because they were over crowded, I had difficulties finding the ones that I wanted when I wanted them. Now I can easily see most of my lip products at a quick glance. The organizer is only 6 inches wide and 4 inches deep, so it doesn't take up a whole lot of counter space. The acrylic is sturdy & solid and is easy to clean. Recently I have been looking at acrylic organizers recently in my local stores and they seem to be over priced! This one is bargain!! My teenage daughter tried to claim this one from me, but since it is such a reasonable price, I will probably just go ahead & order her one, too.<br /><br />****Update - I ended up ordering another style of the Marrywindix acrylic organizer for my daughter. This one has drawers in addition to storage on top for brushes & bottles. She LOVES it! It is very well made and looks great! Each drawer comes with a liner to keep things nice and neat.<br /><br />*I received my acrylic organizer from Marrywindix for the purpose of trying out & reviewing. My thoughts & opinions are my own.   \n",
      "3                                                                                                                                                                                                                                                                                                                                                                                                                                                                                                                                                                                                                                                                                                                                                                                                                      Like other nail polish removers, this MOUNTAIN FALLS REGULAR NAIL POLISH REMOVER (for Natural Nails with Vitamin E and Panthenol, 16 Fluid Ounce) is mostly acetone.  It smells like all the other nail polish removers that I’ve tried, and works like them, too.<br /><br />I use nail polish remover to take gummy stuff off my hands and other things.  If you use it this way, it’s important to remember that it can damage synthetic fabrics, wood finishes, and plastic.  Also, when using or storing it, remember that it’s highly flammable, and should NOT be used or stored near fire, flames, or heat.  (See my photo of the bottle label, with all the warnings.)<br /><br />The big 16-oz. bottle is equivalent to two of the regular-size bottles (e.g., [[ASIN:B004X8IFEI Sally Hansen Nail Polish Remover]]) that you find at local grocery and drug stores.   \n",
      "4                                                                                                                                                                                                                                                                                                                                                                                                                                                                                                                                                                                                                                                                                                                                                                                                                                                                                                                                                                                                                                                                                                                                                                                                                                  I wish I loved this. This is a nicely packaged perfume in an attractive bottle with a gold-colored tassel hanging from the side. The scent is neither offensive nor enticing. I can't even describe what it smells like. It is so very subtle but it lasts a few hours.<br /><br />The current price of $44.99 ($49.99 minus $5) is competitively priced for perfume like this but it is not one I would order again as I have to really love it to pay that much.   \n",
      "...                                                                                                                                                                                                                                                                                                                                                                                                                                                                                                                                                                                                                                                                                                                                                                                                                                                                                                                                                                                                                                                                                                                                                                                                                                                                                                                                                                                                                                                                                                                                                                                                                                                                                               ...   \n",
      "26316                                                                                                                                                                                                                                                                                                                                                                                                                                                                                                                                                                                                                                                                                                                                                                                                                                                                                                                                                                                                                                                                                                                                                                                                                                                                                                                                                                                                                                                                             The website printed on the box does not exist. No other website seems to exist to provide information.  Product came with the box open, no type of seal. Label is peeling off. Extremely suspicious, huge red flag.   \n",
      "26317                                                                                                                                                                                                                                                                                                                                                                                                                                                                                                                                                                                                                                                                                                                                                                                                                  I have been on the hunt for the perfect pair of lashes for 9 months now... I’ve had my eyes on these for a couple of months and finally took the plunge and purchased. I was always scared of volume lashes because from my past experiences with them, the band was way too hard to work with. Let me tell you about these mf’in lashes. They’re light, soft, noticeable, durable and hands down the easiest to apply. I am in awe of just how amazing these are. Ticked every one of my boxes; and for the price I feel like I should buy 20 boxes for the off chance they may not be available someday (terrifying thought). I’m not an eyeshadow type of girl but still want to look feminine and these absolutely do the trick. I receive compliments on these every. single. damn. day. I am seriously considering dropping half a paycheck to stock up. I 500% approve.   \n",
      "26318                                                                                                                                                                                                                                                                                                                                                                                                                                                                                                                                                                                                                                                                                                                                                                                                                                                                                                                                                                                                                                                                                                                                                                                                                                                                                                                                                                                                                                                                                                  Works perfect! Took maybe 5 minutes to switch out the old module with the new one. Looks identical to my OEM mod, lights are exact same blue as the rest of the interior lights. Super simple!   \n",
      "26319                                                                                                                                                                                                                                                                                                                                                                                                                                                                                                                                                                                                                                                                                                                                                                                                                                                                                                                                                                                                                                                                                                                                                                                                                                                                                                                                                                                                                                                                                                   This is great. Just like Queen B pre stretched braiding hair. A little bit shorter and not quite as much in a bundle tho. The color is very accurate, looks just like the photo above. Happy!   \n",
      "26320                                                                                                                                                                                                                                                                                                                                                                                                                                                                                                                                                                                                                                                                                                                                                                                                                                                                                                                                                                                                                                                                                                                                                                                                                                                                                                                                                                                                                                                                                                                                                                          Absolutely love!! It hold curls well. It dyed perfectly. Little to no tangling or shedding! Just five stars all around   \n",
      "\n",
      "                                                                                                                                                                                                                                                                                                                                                                                                                                                                                                                                                                                                                                                                                                                                                                                                                                                                                                                                                                                      images_x  \\\n",
      "0                                                                                                                                                                                                                                                                                                                                   [{'attachment_type': 'IMAGE', 'large_image_url': 'https://images-na.ssl-images-amazon.com/images/I/41FMcmkZDLL._SL1600_.jpg', 'medium_image_url': 'https://images-na.ssl-images-amazon.com/images/I/41FMcmkZDLL._SL800_.jpg', 'small_image_url': 'https://images-na.ssl-images-amazon.com/images/I/41FMcmkZDLL._SL256_.jpg'}, {'attachment_type': 'IMAGE', 'large_image_url': 'https://images-na.ssl-images-amazon.com/images/I/41pcNrIv9YL._SL1600_.jpg', 'medium_image_url': 'https://images-na.ssl-images-amazon.com/images/I/41pcNrIv9YL._SL800_.jpg', 'small_image_url': 'https://images-na.ssl-images-amazon.com/images/I/41pcNrIv9YL._SL256_.jpg'}]   \n",
      "1      [{'attachment_type': 'IMAGE', 'large_image_url': 'https://images-na.ssl-images-amazon.com/images/I/51FFKVqctXL._SL1600_.jpg', 'medium_image_url': 'https://images-na.ssl-images-amazon.com/images/I/51FFKVqctXL._SL800_.jpg', 'small_image_url': 'https://images-na.ssl-images-amazon.com/images/I/51FFKVqctXL._SL256_.jpg'}, {'attachment_type': 'IMAGE', 'large_image_url': 'https://images-na.ssl-images-amazon.com/images/I/51U-Jj8nvvL._SL1600_.jpg', 'medium_image_url': 'https://images-na.ssl-images-amazon.com/images/I/51U-Jj8nvvL._SL800_.jpg', 'small_image_url': 'https://images-na.ssl-images-amazon.com/images/I/51U-Jj8nvvL._SL256_.jpg'}, {'attachment_type': 'IMAGE', 'large_image_url': 'https://images-na.ssl-images-amazon.com/images/I/51WbXeRwNwL._SL1600_.jpg', 'medium_image_url': 'https://images-na.ssl-images-amazon.com/images/I/51WbXeRwNwL._SL800_.jpg', 'small_image_url': 'https://images-na.ssl-images-amazon.com/images/I/51WbXeRwNwL._SL256_.jpg'}]   \n",
      "2                                                                                                                                                                                                                                                                                                                                                                                                                                                                                                                                                                                                                                                                         [{'attachment_type': 'IMAGE', 'large_image_url': 'https://images-na.ssl-images-amazon.com/images/I/71x9TGPNYpL.jpg', 'medium_image_url': 'https://images-na.ssl-images-amazon.com/images/I/71x9TGPNYpL._SL800_.jpg', 'small_image_url': 'https://images-na.ssl-images-amazon.com/images/I/71x9TGPNYpL._SL256_.jpg'}]   \n",
      "3                                                                                                                                                                                                                                                                                                                                                                                                                                                                                                                                                                                                                                                                         [{'attachment_type': 'IMAGE', 'large_image_url': 'https://images-na.ssl-images-amazon.com/images/I/71OmgsRmxCL.jpg', 'medium_image_url': 'https://images-na.ssl-images-amazon.com/images/I/71OmgsRmxCL._SL800_.jpg', 'small_image_url': 'https://images-na.ssl-images-amazon.com/images/I/71OmgsRmxCL._SL256_.jpg'}]   \n",
      "4                                                                                                                                                                                                                                                                                                                                                                                                                                                                                                                                                                                                                                                                                                       [{'attachment_type': 'IMAGE', 'large_image_url': 'https://m.media-amazon.com/images/I/61ZRsMPnINL._SL1600_.jpg', 'medium_image_url': 'https://m.media-amazon.com/images/I/61ZRsMPnINL._SL800_.jpg', 'small_image_url': 'https://m.media-amazon.com/images/I/61ZRsMPnINL._SL256_.jpg'}]   \n",
      "...                                                                                                                                                                                                                                                                                                                                                                                                                                                                                                                                                                                                                                                                                                                                                                                                                                                                                                                                                                                        ...   \n",
      "26316                                                                                                                                                                                                                                                                                                                                                 [{'attachment_type': 'IMAGE', 'large_image_url': 'https://images-na.ssl-images-amazon.com/images/I/71+lIPLHBSL.jpg', 'medium_image_url': 'https://images-na.ssl-images-amazon.com/images/I/71+lIPLHBSL._SL800_.jpg', 'small_image_url': 'https://images-na.ssl-images-amazon.com/images/I/71+lIPLHBSL._SL256_.jpg'}, {'attachment_type': 'IMAGE', 'large_image_url': 'https://images-na.ssl-images-amazon.com/images/I/81z9aaorDuL.jpg', 'medium_image_url': 'https://images-na.ssl-images-amazon.com/images/I/81z9aaorDuL._SL800_.jpg', 'small_image_url': 'https://images-na.ssl-images-amazon.com/images/I/81z9aaorDuL._SL256_.jpg'}]   \n",
      "26317                                                                                                                                                                                                                                                                                                                                                 [{'attachment_type': 'IMAGE', 'large_image_url': 'https://images-na.ssl-images-amazon.com/images/I/71RYp6iSvlL.jpg', 'medium_image_url': 'https://images-na.ssl-images-amazon.com/images/I/71RYp6iSvlL._SL800_.jpg', 'small_image_url': 'https://images-na.ssl-images-amazon.com/images/I/71RYp6iSvlL._SL256_.jpg'}, {'attachment_type': 'IMAGE', 'large_image_url': 'https://images-na.ssl-images-amazon.com/images/I/71wIt-CUFpL.jpg', 'medium_image_url': 'https://images-na.ssl-images-amazon.com/images/I/71wIt-CUFpL._SL800_.jpg', 'small_image_url': 'https://images-na.ssl-images-amazon.com/images/I/71wIt-CUFpL._SL256_.jpg'}]   \n",
      "26318                                                                                                                                                                                                                                                                                                                                                                                                                                                                                                                                                                                                                                                                     [{'attachment_type': 'IMAGE', 'large_image_url': 'https://images-na.ssl-images-amazon.com/images/I/719DHG1W3gL.jpg', 'medium_image_url': 'https://images-na.ssl-images-amazon.com/images/I/719DHG1W3gL._SL800_.jpg', 'small_image_url': 'https://images-na.ssl-images-amazon.com/images/I/719DHG1W3gL._SL256_.jpg'}]   \n",
      "26319                                                                                                                                                                                                                                                                                                                               [{'attachment_type': 'IMAGE', 'large_image_url': 'https://images-na.ssl-images-amazon.com/images/I/81AudihFZTL._SL1600_.jpg', 'medium_image_url': 'https://images-na.ssl-images-amazon.com/images/I/81AudihFZTL._SL800_.jpg', 'small_image_url': 'https://images-na.ssl-images-amazon.com/images/I/81AudihFZTL._SL256_.jpg'}, {'attachment_type': 'IMAGE', 'large_image_url': 'https://images-na.ssl-images-amazon.com/images/I/91aJ+0p6UVL._SL1600_.jpg', 'medium_image_url': 'https://images-na.ssl-images-amazon.com/images/I/91aJ+0p6UVL._SL800_.jpg', 'small_image_url': 'https://images-na.ssl-images-amazon.com/images/I/91aJ+0p6UVL._SL256_.jpg'}]   \n",
      "26320  [{'attachment_type': 'IMAGE', 'large_image_url': 'https://images-na.ssl-images-amazon.com/images/I/71KbVMbHeiL._SL1600_.jpg', 'medium_image_url': 'https://images-na.ssl-images-amazon.com/images/I/71KbVMbHeiL._SL800_.jpg', 'small_image_url': 'https://images-na.ssl-images-amazon.com/images/I/71KbVMbHeiL._SL256_.jpg'}, {'attachment_type': 'IMAGE', 'large_image_url': 'https://images-na.ssl-images-amazon.com/images/I/71WGtdmYCVL._SL1600_.jpg', 'medium_image_url': 'https://images-na.ssl-images-amazon.com/images/I/71WGtdmYCVL._SL800_.jpg', 'small_image_url': 'https://images-na.ssl-images-amazon.com/images/I/71WGtdmYCVL._SL256_.jpg'}, {'attachment_type': 'IMAGE', 'large_image_url': 'https://images-na.ssl-images-amazon.com/images/I/71zybs2u9qL._SL1600_.jpg', 'medium_image_url': 'https://images-na.ssl-images-amazon.com/images/I/71zybs2u9qL._SL800_.jpg', 'small_image_url': 'https://images-na.ssl-images-amazon.com/images/I/71zybs2u9qL._SL256_.jpg'}]   \n",
      "\n",
      "             asin parent_asin                       user_id      timestamp  \\\n",
      "0      B01CO73OIQ  B01CO73OIQ  AHV6QCNBJNSGLATP56JAWJ3C4G2A  1467123218000   \n",
      "1      B015ZXMSFQ  B015ZXMSFQ  AHV6QCNBJNSGLATP56JAWJ3C4G2A  1455464933000   \n",
      "2      B010B0S67C  B010B0S67C  AHV6QCNBJNSGLATP56JAWJ3C4G2A  1442016268000   \n",
      "3      B07S8F3LRC  B07S8F3LRC  AEYGPUCRKH7G4VM22FM3VAKSQ23Q  1577295338919   \n",
      "4      B0B8F6MWFJ  B0B8F6MWFJ  AFXF3EGQTQDXMRLDWFU7UBFQZB7Q  1666268588427   \n",
      "...           ...         ...                           ...            ...   \n",
      "26316  B07YF5CH4G  B07YF5CH4G  AEUB5ZWAR3TECNESU6UCKQLD77FQ  1581287565083   \n",
      "26317  B07Q7FXWCY  B07Q7FXWCY  AFDVJMYGJZJ35XTWAIGVUZMXHDGA  1570688420824   \n",
      "26318  B07HC84V8D  B07HC84V8D  AECZXE5ELSQIX4C2RKA2Z36HNHZA  1561144994576   \n",
      "26319  B08144D28M  B08144D28M  AEAPDTDZCYVGL6FNVOZNMZRSWNTA  1618072412265   \n",
      "26320  B00H1L4RAU  B00H1L4RAU  AHMU2NL2V6PT7KCAR6FNCM2GAYSA  1433552959000   \n",
      "\n",
      "       helpful_vote  verified_purchase  ...  \\\n",
      "0                 8                  1  ...   \n",
      "1                 3                  0  ...   \n",
      "2                 1                  0  ...   \n",
      "3                 1                  0  ...   \n",
      "4                 1                  0  ...   \n",
      "...             ...                ...  ...   \n",
      "26316             2                  1  ...   \n",
      "26317            84                  1  ...   \n",
      "26318             3                  1  ...   \n",
      "26319             1                  1  ...   \n",
      "26320             9                  1  ...   \n",
      "\n",
      "                                                                                                                                                                                                                                                                                                                                                                                                                                                                                                                                                                                                                                                                                                                                                                                                                                                                                                        cleaned_text  \\\n",
      "0                                                                                                                                                                                                                                                       late 40 started using antiaging product year ago using product work wrinkle younger looking skin regularly past year difficult see new result eye cream nice creamy consistency dont notice smell able apply eye area eye one dispense pump absorbs nicely skin keep delicate eye skin well hydrated one thing especially like doesnt sting eye ultra sensitive eye sweat make skin care product often get rubbed eye product cause sting burn hot summer georgia even sweating issue stinging burning ive stop using favorite beauty product past problem im happy eye cream farbr br received free exchange honest amp unbiased review thought amp opinion   \n",
      "1      daughter discovered facial sheet mask summer become fan easy fun use box antiaging sheet mask come 5 mask mask individually wrapped open mask remove packing see 2 layer one sheet mask thin papery like plastic type material two layer together put face mask used didnt plastic layer couldnt get lay flat skin well peeled plastic layer leaving paper one familiar layer easy mold face mask cold felt refreshing wet point dripping face enough want spread around mask face say leave 1520 minute opted lesser time coffee ready didnt want wait longer supposed rub left 34goo34 lack better word skin accidently got little eye didnt burn sting surprised sensitive eye expecting feel pain regularly use antiaging product plus used one sheet mask far dont notice difference skin would definitely add beauty routinebr br purchased mask reduced price purpose trying reviewing thought opinion   \n",
      "2                                                                                                                happy marrywindix acrylic organizer limited counter space cosmetic beauty product prior ordering organizer lipstick lip gloss shoved small drawer crowded difficulty finding one wanted wanted easily see lip product quick glance organizer 6 inch wide 4 inch deep doesnt take whole lot counter space acrylic sturdy solid easy clean recently looking acrylic organizer recently local store seem priced one bargain teenage daughter tried claim one since reasonable price probably go ahead order one toobr br update ended ordering another style marrywindix acrylic organizer daughter one drawer addition storage top brush bottle love well made look great drawer come liner keep thing nice neatbr br received acrylic organizer marrywindix purpose trying reviewing thought opinion   \n",
      "3                                                                                                                                                                                                                                                                                                                                     like nail polish remover mountain fall regular nail polish remover natural nail vitamin e panthenol 16 fluid ounce mostly acetone smell like nail polish remover ive tried work like toobr br use nail polish remover take gummy stuff hand thing use way important remember damage synthetic fabric wood finish plastic also using storing remember highly flammable used stored near fire flame heat see photo bottle label warningsbr br big 16oz bottle equivalent two regularsize bottle eg asinb004x8ifei sally hansen nail polish remover find local grocery drug store   \n",
      "4                                                                                                                                                                                                                                                                                                                                                                                                                                                                                                                                                                                                                                  wish loved nicely packaged perfume attractive bottle goldcolored tassel hanging side scent neither offensive enticing cant even describe smell like subtle last hoursbr br current price 4499 4999 minus 5 competitively priced perfume like one would order really love pay much   \n",
      "...                                                                                                                                                                                                                                                                                                                                                                                                                                                                                                                                                                                                                                                                                                                                                                                                                                                                                                              ...   \n",
      "26316                                                                                                                                                                                                                                                                                                                                                                                                                                                                                                                                                                                                                                                                                                                                                             website printed box exist website seems exist provide information product came box open type seal label peeling extremely suspicious huge red flag   \n",
      "26317                                                                                                                                                                                                                                                                                                                                                                                                 hunt perfect pair lash 9 month ive eye couple month finally took plunge purchased always scared volume lash past experience band way hard work let tell mfin lash theyre light soft noticeable durable hand easiest apply awe amazing ticked every one box price feel like buy 20 box chance may available someday terrifying thought im eyeshadow type girl still want look feminine absolutely trick receive compliment every single damn day seriously considering dropping half paycheck stock 500 approve   \n",
      "26318                                                                                                                                                                                                                                                                                                                                                                                                                                                                                                                                                                                                                                                                                                                                                                            work perfect took maybe 5 minute switch old module new one look identical oem mod light exact blue rest interior light super simple   \n",
      "26319                                                                                                                                                                                                                                                                                                                                                                                                                                                                                                                                                                                                                                                                                                                                                                                   great like queen b pre stretched braiding hair little bit shorter quite much bundle tho color accurate look like photo happy   \n",
      "26320                                                                                                                                                                                                                                                                                                                                                                                                                                                                                                                                                                                                                                                                                                                                                                                                                        absolutely love hold curl well dyed perfectly little tangling shedding five star around   \n",
      "\n",
      "                                                                                                                                                                                                                                                                                                                                                                                                                                                                                                                                                                                                                                                                                                                                                                                                                                                                                                                                                                                                                                                                                                                                                                                                                                                                                                                                                                                                                                                                                                                                                                                                                                                                                                                        bert_embedding  \\\n",
      "0            [[tensor(-0.0950), tensor(0.0420), tensor(0.6244), tensor(-0.1249), tensor(0.1551), tensor(-0.0276), tensor(0.1672), tensor(0.2039), tensor(0.0357), tensor(-0.3475), tensor(0.1828), tensor(-0.0439), tensor(-0.0295), tensor(0.1713), tensor(-0.4107), tensor(0.3574), tensor(0.2231), tensor(0.1049), tensor(-0.2172), tensor(0.4436), tensor(0.4832), tensor(-0.0931), tensor(0.1963), tensor(0.1508), tensor(0.1030), tensor(-0.2550), tensor(-0.1828), tensor(-0.0823), tensor(-0.0655), tensor(-0.2650), tensor(0.4350), tensor(0.2307), tensor(-0.0499), tensor(-0.0756), tensor(-0.0311), tensor(0.0900), tensor(-0.0366), tensor(0.1228), tensor(0.1070), tensor(0.1425), tensor(-0.2172), tensor(-0.2381), tensor(0.0097), tensor(-0.0919), tensor(-0.2625), tensor(-0.2838), tensor(-0.4520), tensor(0.2671), tensor(-0.0067), tensor(0.0452), tensor(-0.1424), tensor(0.0432), tensor(0.1772), tensor(-0.3682), tensor(-0.0688), tensor(0.4452), tensor(-0.1452), tensor(-0.2475), tensor(-0.2001), tensor(-0.1712), tensor(0.1726), tensor(-0.2160), tensor(0.2057), tensor(-0.1583), tensor(-0.1464), tensor(0.0597), tensor(-0.1451), tensor(-0.0174), tensor(-0.4312), tensor(-0.1213), tensor(-0.0363), tensor(-0.1590), tensor(-0.2862), tensor(0.0177), tensor(-0.0058), tensor(0.0286), tensor(-0.2203), tensor(0.0819), tensor(0.4191), tensor(0.1371), tensor(-0.2960), tensor(0.0584), tensor(-0.4619), tensor(0.2856), tensor(0.1010), tensor(0.0536), tensor(0.2004), tensor(0.2543), tensor(-0.4135), tensor(0.4332), tensor(0.3806), tensor(-0.2048), tensor(0.3673), tensor(0.0834), tensor(0.1361), tensor(-0.4152), tensor(0.1033), tensor(0.0619), tensor(-0.0689), tensor(0.4166), ...]]   \n",
      "1       [[tensor(0.0527), tensor(-0.0792), tensor(0.6104), tensor(-0.0712), tensor(0.0886), tensor(-0.0425), tensor(0.1471), tensor(0.1433), tensor(0.0288), tensor(-0.4046), tensor(0.1499), tensor(-0.1270), tensor(0.1768), tensor(0.2733), tensor(-0.5520), tensor(0.0845), tensor(0.2559), tensor(-0.0878), tensor(-0.2623), tensor(0.4296), tensor(0.6386), tensor(-0.0811), tensor(0.2248), tensor(-0.0337), tensor(0.2787), tensor(-0.3700), tensor(-0.2023), tensor(-0.2240), tensor(0.0611), tensor(-0.0232), tensor(0.2453), tensor(0.0481), tensor(-0.1883), tensor(-0.2001), tensor(-0.0301), tensor(-0.1278), tensor(-0.0886), tensor(0.0909), tensor(-0.0921), tensor(0.2429), tensor(-0.2643), tensor(-0.1914), tensor(-0.0607), tensor(-0.1800), tensor(-0.0882), tensor(-0.1901), tensor(-0.1894), tensor(0.0981), tensor(-0.0155), tensor(-0.0987), tensor(-0.0878), tensor(0.0026), tensor(-0.0849), tensor(-0.2964), tensor(0.0697), tensor(0.4187), tensor(-0.0346), tensor(-0.2123), tensor(-0.3632), tensor(-0.1018), tensor(0.0787), tensor(0.0678), tensor(0.3585), tensor(-0.0591), tensor(0.0875), tensor(0.1902), tensor(-0.1182), tensor(0.0311), tensor(-0.4640), tensor(-0.1950), tensor(-0.2805), tensor(-0.0215), tensor(-0.1332), tensor(0.1237), tensor(0.0576), tensor(0.1036), tensor(-0.2129), tensor(-0.0348), tensor(0.5138), tensor(0.1843), tensor(-0.3629), tensor(-0.0817), tensor(-0.5647), tensor(0.3012), tensor(0.3297), tensor(-0.0529), tensor(0.2546), tensor(0.1487), tensor(-0.3567), tensor(0.4585), tensor(0.3377), tensor(-0.2643), tensor(0.2891), tensor(-0.0439), tensor(0.0130), tensor(-0.1820), tensor(-0.1269), tensor(0.3031), tensor(-0.0403), tensor(0.4011), ...]]   \n",
      "2              [[tensor(-0.2020), tensor(-0.0347), tensor(0.5591), tensor(0.0731), tensor(0.5574), tensor(-0.0024), tensor(-0.0840), tensor(0.1530), tensor(0.1281), tensor(-0.2906), tensor(0.3114), tensor(-0.0601), tensor(0.2304), tensor(0.4695), tensor(-0.5478), tensor(0.3365), tensor(0.0440), tensor(0.1007), tensor(-0.1706), tensor(0.2528), tensor(0.4908), tensor(-0.2493), tensor(-0.0027), tensor(0.1359), tensor(0.1710), tensor(-0.0916), tensor(-0.0532), tensor(-0.1435), tensor(-0.0139), tensor(-0.0772), tensor(0.0688), tensor(0.1165), tensor(0.0722), tensor(-0.2434), tensor(0.0796), tensor(-0.3123), tensor(-0.1599), tensor(0.0946), tensor(-0.0348), tensor(0.1450), tensor(-0.2188), tensor(-0.1208), tensor(0.2072), tensor(0.0260), tensor(-0.2129), tensor(-0.0985), tensor(-0.5182), tensor(0.0716), tensor(0.0381), tensor(-0.0820), tensor(-0.2118), tensor(0.0626), tensor(0.1745), tensor(-0.1093), tensor(0.1373), tensor(0.3935), tensor(-0.0300), tensor(-0.2796), tensor(-0.1694), tensor(-0.2234), tensor(0.0315), tensor(-0.0746), tensor(0.2981), tensor(0.0451), tensor(0.0883), tensor(-0.0590), tensor(-0.0819), tensor(0.0413), tensor(-0.5396), tensor(-0.2367), tensor(-0.0922), tensor(-0.0811), tensor(0.1340), tensor(-0.0334), tensor(-0.0732), tensor(0.0224), tensor(-0.1756), tensor(0.1222), tensor(0.5068), tensor(-0.0178), tensor(-0.3092), tensor(0.0946), tensor(-0.2482), tensor(0.1959), tensor(0.0575), tensor(0.1128), tensor(0.0256), tensor(0.1755), tensor(-0.3353), tensor(0.5045), tensor(0.1412), tensor(-0.3016), tensor(0.1668), tensor(0.0132), tensor(0.0980), tensor(-0.0897), tensor(-0.0799), tensor(0.2631), tensor(0.0415), tensor(0.3069), ...]]   \n",
      "3             [[tensor(0.0527), tensor(0.1598), tensor(0.4965), tensor(-0.0371), tensor(0.4854), tensor(-0.0774), tensor(0.1246), tensor(0.2104), tensor(0.0450), tensor(-0.1776), tensor(0.1578), tensor(-0.0584), tensor(0.0428), tensor(0.4285), tensor(-0.3895), tensor(0.3560), tensor(0.1745), tensor(0.0938), tensor(-0.1339), tensor(0.1758), tensor(0.4550), tensor(-0.1861), tensor(0.1902), tensor(0.1945), tensor(0.3261), tensor(-0.0638), tensor(-0.1636), tensor(-0.0033), tensor(-0.0367), tensor(-0.0114), tensor(0.2941), tensor(0.2540), tensor(0.0642), tensor(-0.2470), tensor(0.2294), tensor(0.0217), tensor(-0.0618), tensor(0.0769), tensor(0.0027), tensor(0.1873), tensor(-0.1364), tensor(-0.0196), tensor(-0.0564), tensor(0.1047), tensor(-0.1674), tensor(-0.0327), tensor(-0.3253), tensor(0.1438), tensor(0.0648), tensor(-0.1932), tensor(-0.1101), tensor(0.0442), tensor(0.1849), tensor(-0.2601), tensor(-0.0888), tensor(0.4121), tensor(-0.0500), tensor(-0.3349), tensor(-0.0974), tensor(-0.1384), tensor(-0.1004), tensor(-0.2111), tensor(0.0589), tensor(0.0075), tensor(0.1035), tensor(0.0234), tensor(-0.1133), tensor(0.2574), tensor(-0.6222), tensor(-0.0027), tensor(-0.1677), tensor(0.0660), tensor(-0.1024), tensor(-0.0462), tensor(-0.0235), tensor(0.1458), tensor(-0.1119), tensor(-0.0272), tensor(0.2971), tensor(0.1845), tensor(-0.1130), tensor(-0.0117), tensor(-0.2996), tensor(0.2003), tensor(0.0772), tensor(0.1478), tensor(-0.0094), tensor(0.1540), tensor(-0.3514), tensor(0.3918), tensor(0.1484), tensor(-0.0436), tensor(0.2082), tensor(-0.0151), tensor(0.1020), tensor(-0.2459), tensor(-0.0039), tensor(0.1907), tensor(-0.0259), tensor(0.5257), ...]]   \n",
      "4            [[tensor(0.1633), tensor(-0.0792), tensor(0.6548), tensor(-0.0197), tensor(0.3122), tensor(-0.0746), tensor(0.0328), tensor(0.1160), tensor(0.4129), tensor(-0.1392), tensor(0.2724), tensor(-0.2961), tensor(0.1813), tensor(0.5513), tensor(-0.3270), tensor(0.3435), tensor(0.0335), tensor(0.1105), tensor(-0.1336), tensor(0.0934), tensor(0.3436), tensor(-0.0842), tensor(0.0120), tensor(0.2582), tensor(0.4256), tensor(0.0010), tensor(-0.0562), tensor(-0.0888), tensor(-0.1406), tensor(0.0937), tensor(0.6128), tensor(0.1408), tensor(0.0195), tensor(-0.2476), tensor(-0.1000), tensor(-0.1030), tensor(-0.1566), tensor(-0.1271), tensor(-0.2096), tensor(0.0979), tensor(-0.5632), tensor(-0.1879), tensor(0.3627), tensor(0.0490), tensor(-0.3572), tensor(-0.4345), tensor(-0.5212), tensor(-0.1449), tensor(0.0306), tensor(-0.1135), tensor(-0.0945), tensor(-0.0398), tensor(-0.2297), tensor(-0.1518), tensor(0.1406), tensor(0.8458), tensor(-0.3352), tensor(-0.4869), tensor(-0.3191), tensor(-0.1708), tensor(-0.0180), tensor(-0.1639), tensor(0.2006), tensor(-0.2669), tensor(0.0964), tensor(0.1570), tensor(-0.0474), tensor(0.0377), tensor(-0.6670), tensor(-0.1920), tensor(-0.0459), tensor(-0.0263), tensor(0.2015), tensor(0.1581), tensor(-0.4187), tensor(0.1590), tensor(-0.2834), tensor(0.2784), tensor(0.1517), tensor(0.0115), tensor(-0.2440), tensor(0.0713), tensor(-0.0459), tensor(0.3448), tensor(0.2116), tensor(0.3441), tensor(0.0806), tensor(0.3103), tensor(-0.2536), tensor(0.4812), tensor(0.2884), tensor(-0.3348), tensor(0.1929), tensor(-0.1645), tensor(0.0287), tensor(-0.2551), tensor(-0.0196), tensor(0.1464), tensor(-0.0573), tensor(0.5987), ...]]   \n",
      "...                                                                                                                                                                                                                                                                                                                                                                                                                                                                                                                                                                                                                                                                                                                                                                                                                                                                                                                                                                                                                                                                                                                                                                                                                                                                                                                                                                                                                                                                                                                                                                                                                                                                                                                                ...   \n",
      "26316          [[tensor(0.2508), tensor(0.1665), tensor(0.4249), tensor(-0.1253), tensor(0.3942), tensor(-0.2753), tensor(0.2136), tensor(0.1193), tensor(-0.0088), tensor(0.0080), tensor(0.0211), tensor(-0.4153), tensor(0.1468), tensor(0.7123), tensor(-0.5291), tensor(0.0462), tensor(-0.0189), tensor(0.2354), tensor(0.0006), tensor(0.3143), tensor(0.2111), tensor(-0.2499), tensor(-0.1915), tensor(-0.3654), tensor(0.3554), tensor(-0.1709), tensor(0.0335), tensor(-0.2241), tensor(-0.1671), tensor(0.0299), tensor(0.2554), tensor(0.2764), tensor(0.1533), tensor(0.0799), tensor(-0.2580), tensor(-0.6023), tensor(-0.1953), tensor(0.1400), tensor(-0.3247), tensor(0.3100), tensor(-0.2091), tensor(-0.1562), tensor(0.4687), tensor(0.0749), tensor(-0.2543), tensor(-0.1871), tensor(-0.0701), tensor(0.0637), tensor(-0.0554), tensor(0.2670), tensor(0.0057), tensor(-0.0626), tensor(-0.5733), tensor(-0.2803), tensor(0.2941), tensor(0.3259), tensor(-0.0073), tensor(-0.2994), tensor(-0.1161), tensor(-0.2122), tensor(0.3097), tensor(-0.2624), tensor(0.3966), tensor(-0.4083), tensor(0.3262), tensor(0.0628), tensor(-0.0422), tensor(0.4514), tensor(-0.4965), tensor(-0.1602), tensor(-0.3082), tensor(-0.1092), tensor(0.0639), tensor(-0.0988), tensor(-0.0019), tensor(0.1925), tensor(-0.1721), tensor(0.1773), tensor(0.0524), tensor(-0.2742), tensor(0.0221), tensor(0.2306), tensor(-0.2653), tensor(0.2045), tensor(0.2088), tensor(0.1668), tensor(-0.0158), tensor(0.1013), tensor(-0.2638), tensor(0.9912), tensor(0.4553), tensor(-0.1587), tensor(0.0974), tensor(-0.1522), tensor(-0.0649), tensor(-0.1365), tensor(-0.1118), tensor(0.1730), tensor(0.0118), tensor(0.2561), ...]]   \n",
      "26317         [[tensor(-0.0556), tensor(-0.0866), tensor(0.6209), tensor(0.0064), tensor(0.1495), tensor(-0.1382), tensor(0.2405), tensor(0.0427), tensor(-0.0938), tensor(-0.3337), tensor(0.2109), tensor(0.0449), tensor(0.2721), tensor(0.2296), tensor(-0.3905), tensor(0.2529), tensor(0.1678), tensor(0.0138), tensor(-0.1379), tensor(0.1670), tensor(0.3832), tensor(-0.0671), tensor(0.1559), tensor(-0.0761), tensor(0.2378), tensor(-0.1120), tensor(-0.1399), tensor(-0.2648), tensor(-0.0063), tensor(-0.0126), tensor(0.2455), tensor(-0.0152), tensor(-0.1329), tensor(0.0106), tensor(-0.1169), tensor(-0.1436), tensor(-0.1715), tensor(0.0606), tensor(0.0781), tensor(0.0412), tensor(-0.1590), tensor(-0.3241), tensor(0.1555), tensor(-0.0842), tensor(-0.4218), tensor(-0.2677), tensor(-0.3831), tensor(-0.0334), tensor(0.1439), tensor(-0.0225), tensor(0.0163), tensor(0.0840), tensor(-0.0788), tensor(-0.2625), tensor(0.0188), tensor(0.2708), tensor(-0.0636), tensor(-0.2711), tensor(-0.2385), tensor(-0.1016), tensor(0.2137), tensor(-0.1559), tensor(0.2620), tensor(-0.0055), tensor(0.0320), tensor(0.2115), tensor(0.0483), tensor(0.1011), tensor(-0.4803), tensor(-0.1040), tensor(0.0354), tensor(0.0210), tensor(-0.0402), tensor(-0.0745), tensor(-0.1514), tensor(-0.0259), tensor(-0.2164), tensor(0.2129), tensor(0.3689), tensor(0.2079), tensor(-0.0930), tensor(0.1334), tensor(-0.1462), tensor(0.2326), tensor(0.1218), tensor(0.0115), tensor(0.2297), tensor(0.3301), tensor(-0.2933), tensor(0.6574), tensor(0.3631), tensor(-0.1346), tensor(0.1420), tensor(0.0256), tensor(0.0682), tensor(-0.2193), tensor(-0.1755), tensor(0.1064), tensor(-0.0132), tensor(0.3930), ...]]   \n",
      "26318           [[tensor(0.0697), tensor(-0.3215), tensor(0.6580), tensor(0.1543), tensor(0.3559), tensor(0.0371), tensor(0.2410), tensor(-0.0463), tensor(0.1225), tensor(-0.1966), tensor(0.4324), tensor(-0.0314), tensor(0.0733), tensor(0.2033), tensor(-0.6720), tensor(0.2006), tensor(0.1906), tensor(-0.1078), tensor(-0.3926), tensor(0.3452), tensor(0.3619), tensor(0.0909), tensor(0.0089), tensor(0.2145), tensor(0.0547), tensor(-0.0863), tensor(0.0625), tensor(-0.2086), tensor(-0.0829), tensor(0.0163), tensor(0.0142), tensor(0.0296), tensor(-0.3101), tensor(-0.1577), tensor(-0.2729), tensor(-0.3118), tensor(-0.0646), tensor(0.1864), tensor(-0.1279), tensor(0.3603), tensor(-0.4562), tensor(-0.3474), tensor(0.4379), tensor(-0.1542), tensor(-0.0377), tensor(-0.0366), tensor(-0.0376), tensor(0.1867), tensor(0.1466), tensor(0.2016), tensor(-0.0864), tensor(-0.1825), tensor(-0.4355), tensor(-0.0869), tensor(0.1722), tensor(0.5674), tensor(-0.1448), tensor(-0.6961), tensor(-0.1231), tensor(0.0309), tensor(0.1100), tensor(0.0846), tensor(0.0953), tensor(-0.3844), tensor(0.4088), tensor(-0.0771), tensor(-0.1463), tensor(0.1035), tensor(-0.4918), tensor(0.2188), tensor(-0.2525), tensor(-0.0524), tensor(0.0812), tensor(0.0513), tensor(0.0632), tensor(-0.2417), tensor(-0.2549), tensor(0.1862), tensor(0.3538), tensor(-0.2517), tensor(-0.1607), tensor(0.4139), tensor(-0.1190), tensor(0.2399), tensor(0.3585), tensor(0.2478), tensor(-0.1443), tensor(-0.0887), tensor(-0.6278), tensor(0.6606), tensor(0.1214), tensor(-0.3928), tensor(0.1034), tensor(0.2277), tensor(0.0861), tensor(-0.0408), tensor(-0.0367), tensor(0.3659), tensor(-0.0197), tensor(0.4701), ...]]   \n",
      "26319  [[tensor(0.4048), tensor(-0.3733), tensor(0.6260), tensor(-0.3048), tensor(0.4071), tensor(-0.2174), tensor(0.4956), tensor(0.4900), tensor(-0.0052), tensor(-0.0574), tensor(0.2839), tensor(-0.3687), tensor(0.2244), tensor(0.5828), tensor(-0.9411), tensor(0.1158), tensor(0.2056), tensor(-0.1047), tensor(-0.3804), tensor(0.3621), tensor(0.5005), tensor(-0.1552), tensor(-0.2766), tensor(-0.0464), tensor(0.2062), tensor(-0.2989), tensor(0.0993), tensor(0.3218), tensor(0.2692), tensor(-0.0091), tensor(0.4518), tensor(-0.1211), tensor(-0.1310), tensor(-0.0143), tensor(-0.0747), tensor(-0.5027), tensor(-0.0591), tensor(0.4141), tensor(-0.5221), tensor(0.0003), tensor(-0.6527), tensor(-0.2325), tensor(0.4305), tensor(-0.1098), tensor(-0.4207), tensor(-0.9376), tensor(-0.1530), tensor(0.4540), tensor(0.0620), tensor(-0.1791), tensor(0.1346), tensor(-0.1676), tensor(-0.4546), tensor(-0.4544), tensor(0.0406), tensor(0.7680), tensor(-0.1184), tensor(-0.5674), tensor(-0.4234), tensor(-0.1012), tensor(0.0909), tensor(-0.1009), tensor(0.2177), tensor(-0.4387), tensor(-0.0667), tensor(-0.1529), tensor(-0.2334), tensor(-0.0413), tensor(-0.6824), tensor(-0.4082), tensor(0.0376), tensor(0.3040), tensor(0.2567), tensor(0.2885), tensor(-0.3624), tensor(0.2085), tensor(-0.1508), tensor(0.1489), tensor(0.3483), tensor(-0.2660), tensor(-0.4789), tensor(0.2811), tensor(-0.2917), tensor(0.7140), tensor(0.2867), tensor(-0.0670), tensor(0.0976), tensor(-0.0009), tensor(-0.4810), tensor(0.9983), tensor(0.3119), tensor(-0.2123), tensor(-0.0509), tensor(-0.1361), tensor(0.3218), tensor(0.0127), tensor(-0.0386), tensor(0.0779), tensor(-0.1351), tensor(0.8316), ...]]   \n",
      "26320          [[tensor(0.3242), tensor(-0.4541), tensor(0.6955), tensor(0.0135), tensor(0.2312), tensor(-0.2245), tensor(0.1704), tensor(0.1437), tensor(0.2004), tensor(-0.1257), tensor(0.3579), tensor(-0.3625), tensor(-0.0712), tensor(0.6982), tensor(-0.4806), tensor(0.2753), tensor(-0.0027), tensor(-0.0163), tensor(0.2645), tensor(0.0718), tensor(0.3799), tensor(-0.1714), tensor(-0.2217), tensor(0.2594), tensor(0.5056), tensor(-0.0812), tensor(0.0679), tensor(-0.1476), tensor(0.4388), tensor(-0.1249), tensor(0.4548), tensor(0.1500), tensor(0.0304), tensor(-0.2571), tensor(-0.2528), tensor(-0.2363), tensor(-0.2806), tensor(0.0200), tensor(-0.4227), tensor(0.0164), tensor(-0.4005), tensor(-0.1552), tensor(0.5979), tensor(-0.2189), tensor(-0.2295), tensor(-0.7648), tensor(-0.8448), tensor(0.1807), tensor(0.3304), tensor(-0.1303), tensor(0.1756), tensor(-0.1164), tensor(-0.3160), tensor(-0.3992), tensor(0.0408), tensor(1.1089), tensor(-0.2593), tensor(-0.4653), tensor(-0.5344), tensor(-0.0738), tensor(-0.2838), tensor(0.0078), tensor(0.3517), tensor(-0.0590), tensor(0.1531), tensor(0.2759), tensor(-0.0209), tensor(0.2277), tensor(-0.8075), tensor(-0.2691), tensor(0.1101), tensor(0.1475), tensor(0.2548), tensor(0.2272), tensor(-0.7377), tensor(0.0973), tensor(-0.6340), tensor(0.2155), tensor(0.4892), tensor(-0.1782), tensor(-0.3774), tensor(0.0846), tensor(-0.3492), tensor(0.5883), tensor(0.2991), tensor(0.1464), tensor(-0.1329), tensor(0.3134), tensor(-0.2110), tensor(0.8711), tensor(0.2384), tensor(-0.3367), tensor(0.0485), tensor(0.1042), tensor(0.1824), tensor(-0.4172), tensor(-0.0145), tensor(0.3526), tensor(-0.1251), tensor(0.6834), ...]]   \n",
      "\n",
      "       sentiment  readability review_length punctuation_count  \\\n",
      "0         0.9738       -32.06           636                12   \n",
      "1         0.9640       -71.65           877                21   \n",
      "2         0.9810       -68.61           771                12   \n",
      "3         0.8625       -33.76           558                10   \n",
      "4         0.9709        21.40           273                 8   \n",
      "...          ...          ...           ...               ...   \n",
      "26316    -0.0553        32.22           146                 5   \n",
      "26317     0.7888       -16.16           494                16   \n",
      "26318     0.8225        48.13           131                 2   \n",
      "26319     0.9153        67.08           124                 4   \n",
      "26320     0.8955        49.82            87                 2   \n",
      "\n",
      "                                                                                                                                                                                                                              image_urls  \\\n",
      "0                                                                                 [https://images-na.ssl-images-amazon.com/images/I/41FMcmkZDLL._SL1600_.jpg, https://images-na.ssl-images-amazon.com/images/I/41pcNrIv9YL._SL1600_.jpg]   \n",
      "1      [https://images-na.ssl-images-amazon.com/images/I/51FFKVqctXL._SL1600_.jpg, https://images-na.ssl-images-amazon.com/images/I/51U-Jj8nvvL._SL1600_.jpg, https://images-na.ssl-images-amazon.com/images/I/51WbXeRwNwL._SL1600_.jpg]   \n",
      "2                                                                                                                                                                     [https://images-na.ssl-images-amazon.com/images/I/71x9TGPNYpL.jpg]   \n",
      "3                                                                                                                                                                     [https://images-na.ssl-images-amazon.com/images/I/71OmgsRmxCL.jpg]   \n",
      "4                                                                                                                                                                         [https://m.media-amazon.com/images/I/61ZRsMPnINL._SL1600_.jpg]   \n",
      "...                                                                                                                                                                                                                                  ...   \n",
      "26316                                                                                               [https://images-na.ssl-images-amazon.com/images/I/71+lIPLHBSL.jpg, https://images-na.ssl-images-amazon.com/images/I/81z9aaorDuL.jpg]   \n",
      "26317                                                                                               [https://images-na.ssl-images-amazon.com/images/I/71RYp6iSvlL.jpg, https://images-na.ssl-images-amazon.com/images/I/71wIt-CUFpL.jpg]   \n",
      "26318                                                                                                                                                                 [https://images-na.ssl-images-amazon.com/images/I/719DHG1W3gL.jpg]   \n",
      "26319                                                                             [https://images-na.ssl-images-amazon.com/images/I/81AudihFZTL._SL1600_.jpg, https://images-na.ssl-images-amazon.com/images/I/91aJ+0p6UVL._SL1600_.jpg]   \n",
      "26320  [https://images-na.ssl-images-amazon.com/images/I/71KbVMbHeiL._SL1600_.jpg, https://images-na.ssl-images-amazon.com/images/I/71WGtdmYCVL._SL1600_.jpg, https://images-na.ssl-images-amazon.com/images/I/71zybs2u9qL._SL1600_.jpg]   \n",
      "\n",
      "      image_url avg_quality_score has_image  \n",
      "0          None         55.118628         1  \n",
      "1          None         47.852516         1  \n",
      "2          None         45.324541         1  \n",
      "3          None         40.549181         1  \n",
      "4          None         48.759136         1  \n",
      "...         ...               ...       ...  \n",
      "26316      None         55.683654         1  \n",
      "26317      None         53.396350         1  \n",
      "26318      None         29.684640         1  \n",
      "26319      None         49.879295         1  \n",
      "26320      None         43.479069         1  \n",
      "\n",
      "[26321 rows x 36 columns]\n"
     ]
    }
   ],
   "source": [
    "# Metadata Features\n",
    "df['verified_purchase'] = df['verified_purchase'].astype(int)\n",
    "print (df)"
   ]
  },
  {
   "cell_type": "code",
   "execution_count": 56,
   "id": "621dee12",
   "metadata": {},
   "outputs": [
    {
     "name": "stdout",
     "output_type": "stream",
     "text": [
      "Requirement already satisfied: transformers in ./venv/lib/python3.12/site-packages (4.51.2)\n",
      "Requirement already satisfied: torchvision in ./venv/lib/python3.12/site-packages (0.17.2)\n",
      "Requirement already satisfied: pillow in ./venv/lib/python3.12/site-packages (11.1.0)\n",
      "Requirement already satisfied: filelock in ./venv/lib/python3.12/site-packages (from transformers) (3.18.0)\n",
      "Requirement already satisfied: huggingface-hub<1.0,>=0.30.0 in ./venv/lib/python3.12/site-packages (from transformers) (0.30.2)\n",
      "Requirement already satisfied: numpy>=1.17 in ./venv/lib/python3.12/site-packages (from transformers) (1.26.4)\n",
      "Requirement already satisfied: packaging>=20.0 in ./venv/lib/python3.12/site-packages (from transformers) (24.2)\n",
      "Requirement already satisfied: pyyaml>=5.1 in ./venv/lib/python3.12/site-packages (from transformers) (6.0.2)\n",
      "Requirement already satisfied: regex!=2019.12.17 in ./venv/lib/python3.12/site-packages (from transformers) (2024.11.6)\n",
      "Requirement already satisfied: requests in ./venv/lib/python3.12/site-packages (from transformers) (2.32.3)\n",
      "Requirement already satisfied: tokenizers<0.22,>=0.21 in ./venv/lib/python3.12/site-packages (from transformers) (0.21.1)\n",
      "Requirement already satisfied: safetensors>=0.4.3 in ./venv/lib/python3.12/site-packages (from transformers) (0.5.3)\n",
      "Requirement already satisfied: tqdm>=4.27 in ./venv/lib/python3.12/site-packages (from transformers) (4.67.1)\n",
      "Requirement already satisfied: torch==2.2.2 in ./venv/lib/python3.12/site-packages (from torchvision) (2.2.2)\n",
      "Requirement already satisfied: typing-extensions>=4.8.0 in ./venv/lib/python3.12/site-packages (from torch==2.2.2->torchvision) (4.12.2)\n",
      "Requirement already satisfied: sympy in ./venv/lib/python3.12/site-packages (from torch==2.2.2->torchvision) (1.13.3)\n",
      "Requirement already satisfied: networkx in ./venv/lib/python3.12/site-packages (from torch==2.2.2->torchvision) (3.4.2)\n",
      "Requirement already satisfied: jinja2 in ./venv/lib/python3.12/site-packages (from torch==2.2.2->torchvision) (3.1.6)\n",
      "Requirement already satisfied: fsspec in ./venv/lib/python3.12/site-packages (from torch==2.2.2->torchvision) (2024.12.0)\n",
      "Requirement already satisfied: charset-normalizer<4,>=2 in ./venv/lib/python3.12/site-packages (from requests->transformers) (3.4.1)\n",
      "Requirement already satisfied: idna<4,>=2.5 in ./venv/lib/python3.12/site-packages (from requests->transformers) (3.10)\n",
      "Requirement already satisfied: urllib3<3,>=1.21.1 in ./venv/lib/python3.12/site-packages (from requests->transformers) (2.3.0)\n",
      "Requirement already satisfied: certifi>=2017.4.17 in ./venv/lib/python3.12/site-packages (from requests->transformers) (2025.1.31)\n",
      "Requirement already satisfied: MarkupSafe>=2.0 in ./venv/lib/python3.12/site-packages (from jinja2->torch==2.2.2->torchvision) (3.0.2)\n",
      "Requirement already satisfied: mpmath<1.4,>=1.1.0 in ./venv/lib/python3.12/site-packages (from sympy->torch==2.2.2->torchvision) (1.3.0)\n",
      "\n",
      "\u001b[1m[\u001b[0m\u001b[34;49mnotice\u001b[0m\u001b[1;39;49m]\u001b[0m\u001b[39;49m A new release of pip is available: \u001b[0m\u001b[31;49m23.2.1\u001b[0m\u001b[39;49m -> \u001b[0m\u001b[32;49m25.0.1\u001b[0m\n",
      "\u001b[1m[\u001b[0m\u001b[34;49mnotice\u001b[0m\u001b[1;39;49m]\u001b[0m\u001b[39;49m To update, run: \u001b[0m\u001b[32;49mpip install --upgrade pip\u001b[0m\n",
      "Note: you may need to restart the kernel to use updated packages.\n"
     ]
    }
   ],
   "source": [
    "\n",
    "# Install CLIP and image libraries\n",
    "%pip install transformers torchvision pillow\n"
   ]
  },
  {
   "cell_type": "code",
   "execution_count": 61,
   "id": "a1bd5352",
   "metadata": {},
   "outputs": [
    {
     "name": "stdout",
     "output_type": "stream",
     "text": [
      "Requirement already satisfied: numpy<2.0 in ./venv/lib/python3.12/site-packages (1.26.4)\n",
      "\n",
      "\u001b[1m[\u001b[0m\u001b[34;49mnotice\u001b[0m\u001b[1;39;49m]\u001b[0m\u001b[39;49m A new release of pip is available: \u001b[0m\u001b[31;49m23.2.1\u001b[0m\u001b[39;49m -> \u001b[0m\u001b[32;49m25.0.1\u001b[0m\n",
      "\u001b[1m[\u001b[0m\u001b[34;49mnotice\u001b[0m\u001b[1;39;49m]\u001b[0m\u001b[39;49m To update, run: \u001b[0m\u001b[32;49mpip install --upgrade pip\u001b[0m\n",
      "4.51.2\n",
      "2.2.2\n",
      "11.1.0\n",
      "1.26.4\n"
     ]
    },
    {
     "name": "stderr",
     "output_type": "stream",
     "text": [
      "Processing Images:   0%|          | 96/26321 [00:13<1:49:50,  3.98it/s]"
     ]
    },
    {
     "name": "stdout",
     "output_type": "stream",
     "text": [
      "❌ Error for URL: ['https://m.media-amazon.com/images/I/6196mT32ueL._SL1600_.jpg', 'https://m.media-amazon.com/images/I/61iXDoul3WL._SL1600_.jpg'] — 404 Client Error: Not Found for url: https://m.media-amazon.com/images/I/6196mT32ueL._SL1600_.jpg\n"
     ]
    },
    {
     "name": "stderr",
     "output_type": "stream",
     "text": [
      "Processing Images:   2%|▏         | 596/26321 [03:11<1:35:57,  4.47it/s]"
     ]
    },
    {
     "name": "stdout",
     "output_type": "stream",
     "text": [
      "❌ Error for URL: ['https://images-na.ssl-images-amazon.com/images/I/71I1z6tt1LL._SL1600_.jpg', 'https://images-na.ssl-images-amazon.com/images/I/71KZUgGwgdL._SL1600_.jpg', 'https://images-na.ssl-images-amazon.com/images/I/71dmUk8RH3L._SL1600_.jpg', 'https://images-na.ssl-images-amazon.com/images/I/71v9XgVYFBL._SL1600_.jpg'] — 404 Client Error: Not Found for url: https://images-na.ssl-images-amazon.com/images/I/71I1z6tt1LL._SL1600_.jpg\n"
     ]
    },
    {
     "name": "stderr",
     "output_type": "stream",
     "text": [
      "Processing Images:   5%|▌         | 1353/26321 [05:02<2:29:41,  2.78it/s]"
     ]
    },
    {
     "name": "stdout",
     "output_type": "stream",
     "text": [
      "❌ Error for URL: ['https://images-na.ssl-images-amazon.com/images/I/91-BNNmPMBL._SL1600_.jpg'] — 404 Client Error: Not Found for url: https://images-na.ssl-images-amazon.com/images/I/91-BNNmPMBL._SL1600_.jpg\n"
     ]
    },
    {
     "name": "stderr",
     "output_type": "stream",
     "text": [
      "Processing Images:   5%|▌         | 1407/26321 [05:32<10:45:05,  1.55s/it]"
     ]
    },
    {
     "name": "stdout",
     "output_type": "stream",
     "text": [
      "❌ Error for URL: ['https://images-na.ssl-images-amazon.com/images/I/71OC4yITeyL._SL1600_.jpg'] — 404 Client Error: Not Found for url: https://images-na.ssl-images-amazon.com/images/I/71OC4yITeyL._SL1600_.jpg\n"
     ]
    },
    {
     "name": "stderr",
     "output_type": "stream",
     "text": [
      "Processing Images:   5%|▌         | 1440/26321 [05:43<1:31:38,  4.52it/s] "
     ]
    },
    {
     "name": "stdout",
     "output_type": "stream",
     "text": [
      "❌ Error for URL: ['https://images-na.ssl-images-amazon.com/images/I/71+zBf4TAfL.jpg', 'https://images-na.ssl-images-amazon.com/images/I/711lCOLRZ5L.jpg', 'https://images-na.ssl-images-amazon.com/images/I/71FtbGSALaL.jpg'] — 404 Client Error: Not Found for url: https://images-na.ssl-images-amazon.com/images/I/71+zBf4TAfL.jpg\n"
     ]
    },
    {
     "name": "stderr",
     "output_type": "stream",
     "text": [
      "Processing Images:   6%|▌         | 1630/26321 [06:14<1:06:00,  6.24it/s]"
     ]
    },
    {
     "name": "stdout",
     "output_type": "stream",
     "text": [
      "❌ Error for URL: ['https://images-na.ssl-images-amazon.com/images/I/911fGaxX-zL._SL1600_.jpg', 'https://images-na.ssl-images-amazon.com/images/I/91icY-n04xL._SL1600_.jpg', 'https://images-na.ssl-images-amazon.com/images/I/A12wgt6gLiL._SL1600_.jpg', 'https://images-na.ssl-images-amazon.com/images/I/A1nEN5h6exL._SL1600_.jpg', 'https://images-na.ssl-images-amazon.com/images/I/A1tANtcSNBL._SL1600_.jpg', 'https://images-na.ssl-images-amazon.com/images/I/A1vDkBMLU3L._SL1600_.jpg'] — 404 Client Error: Not Found for url: https://images-na.ssl-images-amazon.com/images/I/911fGaxX-zL._SL1600_.jpg\n"
     ]
    },
    {
     "name": "stderr",
     "output_type": "stream",
     "text": [
      "Processing Images:   7%|▋         | 1786/26321 [08:21<2:07:38,  3.20it/s] "
     ]
    },
    {
     "name": "stdout",
     "output_type": "stream",
     "text": [
      "❌ Error for URL: ['https://images-na.ssl-images-amazon.com/images/I/71RGX-VTdmL.jpg'] — 404 Client Error: Not Found for url: https://images-na.ssl-images-amazon.com/images/I/71RGX-VTdmL.jpg\n"
     ]
    },
    {
     "name": "stderr",
     "output_type": "stream",
     "text": [
      "Processing Images:   7%|▋         | 1824/26321 [08:27<2:10:31,  3.13it/s]"
     ]
    },
    {
     "name": "stdout",
     "output_type": "stream",
     "text": [
      "❌ Error for URL: ['https://images-na.ssl-images-amazon.com/images/I/71e3UYTrtVL._SL1600_.jpg'] — 404 Client Error: Not Found for url: https://images-na.ssl-images-amazon.com/images/I/71e3UYTrtVL._SL1600_.jpg\n"
     ]
    },
    {
     "name": "stderr",
     "output_type": "stream",
     "text": [
      "Processing Images:   7%|▋         | 1890/26321 [08:36<2:01:52,  3.34it/s]"
     ]
    },
    {
     "name": "stdout",
     "output_type": "stream",
     "text": [
      "❌ Error for URL: ['https://images-na.ssl-images-amazon.com/images/I/51QziCn162L._SL1600_.jpg', 'https://images-na.ssl-images-amazon.com/images/I/51rEBCZr3QL._SL1600_.jpg'] — 404 Client Error: Not Found for url: https://images-na.ssl-images-amazon.com/images/I/51QziCn162L._SL1600_.jpg\n"
     ]
    },
    {
     "name": "stderr",
     "output_type": "stream",
     "text": [
      "Processing Images:   7%|▋         | 1929/26321 [08:42<2:02:11,  3.33it/s]"
     ]
    },
    {
     "name": "stdout",
     "output_type": "stream",
     "text": [
      "❌ Error for URL: ['https://m.media-amazon.com/images/I/61MPerAfSOL._SL1600_.jpg', 'https://m.media-amazon.com/images/I/71amsVWhq7L._SL1600_.jpg', 'https://m.media-amazon.com/images/I/71iwUoh-7jL._SL1600_.jpg'] — 404 Client Error: Not Found for url: https://m.media-amazon.com/images/I/61MPerAfSOL._SL1600_.jpg\n"
     ]
    },
    {
     "name": "stderr",
     "output_type": "stream",
     "text": [
      "Processing Images:   7%|▋         | 1951/26321 [08:46<2:33:57,  2.64it/s]"
     ]
    },
    {
     "name": "stdout",
     "output_type": "stream",
     "text": [
      "❌ Error for URL: ['https://images-na.ssl-images-amazon.com/images/I/61nmgvqnDyL._SL1600_.jpg'] — 404 Client Error: Not Found for url: https://images-na.ssl-images-amazon.com/images/I/61nmgvqnDyL._SL1600_.jpg\n"
     ]
    },
    {
     "name": "stderr",
     "output_type": "stream",
     "text": [
      "Processing Images:   8%|▊         | 2030/26321 [08:59<2:47:30,  2.42it/s]"
     ]
    },
    {
     "name": "stdout",
     "output_type": "stream",
     "text": [
      "❌ Error for URL: ['https://images-na.ssl-images-amazon.com/images/I/71-dymOkoNL.jpg', 'https://images-na.ssl-images-amazon.com/images/I/710+J6Hh2IL.jpg', 'https://images-na.ssl-images-amazon.com/images/I/71freMowvvL.jpg'] — 404 Client Error: Not Found for url: https://images-na.ssl-images-amazon.com/images/I/71-dymOkoNL.jpg\n"
     ]
    },
    {
     "name": "stderr",
     "output_type": "stream",
     "text": [
      "Processing Images:   8%|▊         | 2209/26321 [10:51<1:44:18,  3.85it/s] "
     ]
    },
    {
     "name": "stdout",
     "output_type": "stream",
     "text": [
      "❌ Error for URL: ['https://images-na.ssl-images-amazon.com/images/I/81FnEU7L6IL._SL1600_.jpg'] — 404 Client Error: Not Found for url: https://images-na.ssl-images-amazon.com/images/I/81FnEU7L6IL._SL1600_.jpg\n"
     ]
    },
    {
     "name": "stderr",
     "output_type": "stream",
     "text": [
      "Processing Images:  11%|█         | 2858/26321 [14:32<1:32:33,  4.22it/s]"
     ]
    },
    {
     "name": "stdout",
     "output_type": "stream",
     "text": [
      "❌ Error for URL: ['https://images-na.ssl-images-amazon.com/images/I/71lVzRoC1XL._SL1600_.jpg'] — 404 Client Error: Not Found for url: https://images-na.ssl-images-amazon.com/images/I/71lVzRoC1XL._SL1600_.jpg\n"
     ]
    },
    {
     "name": "stderr",
     "output_type": "stream",
     "text": [
      "Processing Images:  11%|█         | 2875/26321 [14:37<1:56:56,  3.34it/s]"
     ]
    },
    {
     "name": "stdout",
     "output_type": "stream",
     "text": [
      "❌ Error for URL: ['https://images-na.ssl-images-amazon.com/images/I/71-wj3We14L.jpg'] — 404 Client Error: Not Found for url: https://images-na.ssl-images-amazon.com/images/I/71-wj3We14L.jpg\n"
     ]
    },
    {
     "name": "stderr",
     "output_type": "stream",
     "text": [
      "Processing Images:  11%|█         | 2957/26321 [15:13<2:11:28,  2.96it/s]"
     ]
    },
    {
     "name": "stdout",
     "output_type": "stream",
     "text": [
      "❌ Error for URL: ['https://images-na.ssl-images-amazon.com/images/I/81GsrEZuppL.jpg', 'https://images-na.ssl-images-amazon.com/images/I/81WZko6xWHL.jpg', 'https://images-na.ssl-images-amazon.com/images/I/81YukGBC1aL.jpg', 'https://images-na.ssl-images-amazon.com/images/I/81dAZKqqPZL.jpg', 'https://images-na.ssl-images-amazon.com/images/I/81m-x2EmkuL.jpg'] — 404 Client Error: Not Found for url: https://images-na.ssl-images-amazon.com/images/I/81GsrEZuppL.jpg\n"
     ]
    },
    {
     "name": "stderr",
     "output_type": "stream",
     "text": [
      "Processing Images:  11%|█▏        | 2978/26321 [15:21<2:19:25,  2.79it/s]"
     ]
    },
    {
     "name": "stdout",
     "output_type": "stream",
     "text": [
      "❌ Error for URL: ['https://images-na.ssl-images-amazon.com/images/I/71sF7-ovZ4L._SL1600_.jpg'] — 404 Client Error: Not Found for url: https://images-na.ssl-images-amazon.com/images/I/71sF7-ovZ4L._SL1600_.jpg\n"
     ]
    },
    {
     "name": "stderr",
     "output_type": "stream",
     "text": [
      "Processing Images:  12%|█▏        | 3179/26321 [16:25<2:01:06,  3.18it/s]"
     ]
    },
    {
     "name": "stdout",
     "output_type": "stream",
     "text": [
      "❌ Error for URL: ['https://images-na.ssl-images-amazon.com/images/I/61lFBSYObEL.jpg'] — 404 Client Error: Not Found for url: https://images-na.ssl-images-amazon.com/images/I/61lFBSYObEL.jpg\n"
     ]
    },
    {
     "name": "stderr",
     "output_type": "stream",
     "text": [
      "Processing Images:  14%|█▎        | 3578/26321 [18:17<2:01:50,  3.11it/s]"
     ]
    },
    {
     "name": "stdout",
     "output_type": "stream",
     "text": [
      "❌ Error for URL: ['https://images-na.ssl-images-amazon.com/images/I/61RyKYE57lL._SL1600_.jpg'] — 404 Client Error: Not Found for url: https://images-na.ssl-images-amazon.com/images/I/61RyKYE57lL._SL1600_.jpg\n"
     ]
    },
    {
     "name": "stderr",
     "output_type": "stream",
     "text": [
      "Processing Images:  14%|█▍        | 3784/26321 [18:57<1:57:21,  3.20it/s]"
     ]
    },
    {
     "name": "stdout",
     "output_type": "stream",
     "text": [
      "❌ Error for URL: ['https://images-na.ssl-images-amazon.com/images/I/714d45wF34L._SL1600_.jpg', 'https://images-na.ssl-images-amazon.com/images/I/81ifaHYr0RL._SL1600_.jpg', 'https://images-na.ssl-images-amazon.com/images/I/81pu-r9Z-wL._SL1600_.jpg'] — 404 Client Error: Not Found for url: https://images-na.ssl-images-amazon.com/images/I/714d45wF34L._SL1600_.jpg\n"
     ]
    },
    {
     "name": "stderr",
     "output_type": "stream",
     "text": [
      "Processing Images:  15%|█▍        | 3909/26321 [19:21<2:56:07,  2.12it/s]"
     ]
    },
    {
     "name": "stdout",
     "output_type": "stream",
     "text": [
      "❌ Error for URL: ['https://m.media-amazon.com/images/I/61cyQBisAEL._SL1600_.jpg'] — 404 Client Error: Not Found for url: https://m.media-amazon.com/images/I/61cyQBisAEL._SL1600_.jpg\n"
     ]
    },
    {
     "name": "stderr",
     "output_type": "stream",
     "text": [
      "Processing Images:  15%|█▌        | 4023/26321 [19:39<1:44:54,  3.54it/s]"
     ]
    },
    {
     "name": "stdout",
     "output_type": "stream",
     "text": [
      "❌ Error for URL: ['https://m.media-amazon.com/images/I/81rWCBsFQVL._SL1600_.jpg'] — 404 Client Error: Not Found for url: https://m.media-amazon.com/images/I/81rWCBsFQVL._SL1600_.jpg\n"
     ]
    },
    {
     "name": "stderr",
     "output_type": "stream",
     "text": [
      "Processing Images:  18%|█▊        | 4641/26321 [21:32<2:51:30,  2.11it/s]"
     ]
    },
    {
     "name": "stdout",
     "output_type": "stream",
     "text": [
      "❌ Error for URL: ['https://images-na.ssl-images-amazon.com/images/I/911qXRni8tL._SL1600_.jpg'] — 404 Client Error: Not Found for url: https://images-na.ssl-images-amazon.com/images/I/911qXRni8tL._SL1600_.jpg\n"
     ]
    },
    {
     "name": "stderr",
     "output_type": "stream",
     "text": [
      "Processing Images:  19%|█▉        | 5072/26321 [23:27<2:24:24,  2.45it/s] "
     ]
    },
    {
     "name": "stdout",
     "output_type": "stream",
     "text": [
      "❌ Error for URL: ['https://images-na.ssl-images-amazon.com/images/I/512r9-tUKlL._SL1600_.jpg'] — 404 Client Error: Not Found for url: https://images-na.ssl-images-amazon.com/images/I/512r9-tUKlL._SL1600_.jpg\n"
     ]
    },
    {
     "name": "stderr",
     "output_type": "stream",
     "text": [
      "Processing Images:  21%|██        | 5497/26321 [26:23<2:12:01,  2.63it/s]"
     ]
    },
    {
     "name": "stdout",
     "output_type": "stream",
     "text": [
      "❌ Error for URL: ['https://images-na.ssl-images-amazon.com/images/I/612mujpYeSL.jpg'] — 404 Client Error: Not Found for url: https://images-na.ssl-images-amazon.com/images/I/612mujpYeSL.jpg\n"
     ]
    },
    {
     "name": "stderr",
     "output_type": "stream",
     "text": [
      "Processing Images:  23%|██▎       | 6176/26321 [30:35<2:44:28,  2.04it/s]"
     ]
    },
    {
     "name": "stdout",
     "output_type": "stream",
     "text": [
      "❌ Error for URL: ['https://images-na.ssl-images-amazon.com/images/I/81CYlSckVnL.jpg', 'https://images-na.ssl-images-amazon.com/images/I/91UhBnM8q4L.jpg'] — 404 Client Error: Not Found for url: https://images-na.ssl-images-amazon.com/images/I/81CYlSckVnL.jpg\n"
     ]
    },
    {
     "name": "stderr",
     "output_type": "stream",
     "text": [
      "Processing Images:  24%|██▍       | 6337/26321 [31:50<2:34:20,  2.16it/s]"
     ]
    },
    {
     "name": "stdout",
     "output_type": "stream",
     "text": [
      "❌ Error for URL: ['https://m.media-amazon.com/images/I/71BRO3VEJTL._SL1600_.jpg', 'https://m.media-amazon.com/images/I/71HQND6TSbL._SL1600_.jpg'] — 404 Client Error: Not Found for url: https://m.media-amazon.com/images/I/71BRO3VEJTL._SL1600_.jpg\n"
     ]
    },
    {
     "name": "stderr",
     "output_type": "stream",
     "text": [
      "Processing Images:  24%|██▍       | 6368/26321 [32:01<2:42:06,  2.05it/s]"
     ]
    },
    {
     "name": "stdout",
     "output_type": "stream",
     "text": [
      "❌ Error for URL: ['https://images-na.ssl-images-amazon.com/images/I/61mlIkHseiL._SL1600_.jpg', 'https://images-na.ssl-images-amazon.com/images/I/61on+kDL+QL._SL1600_.jpg'] — 404 Client Error: Not Found for url: https://images-na.ssl-images-amazon.com/images/I/61mlIkHseiL._SL1600_.jpg\n"
     ]
    },
    {
     "name": "stderr",
     "output_type": "stream",
     "text": [
      "Processing Images:  25%|██▌       | 6706/26321 [33:22<1:53:06,  2.89it/s]"
     ]
    },
    {
     "name": "stdout",
     "output_type": "stream",
     "text": [
      "❌ Error for URL: ['https://m.media-amazon.com/images/I/61QMCGAN+0L._SL1600_.jpg'] — 404 Client Error: Not Found for url: https://m.media-amazon.com/images/I/61QMCGAN+0L._SL1600_.jpg\n"
     ]
    },
    {
     "name": "stderr",
     "output_type": "stream",
     "text": [
      "Processing Images:  26%|██▌       | 6733/26321 [33:32<3:15:43,  1.67it/s]"
     ]
    },
    {
     "name": "stdout",
     "output_type": "stream",
     "text": [
      "❌ Error for URL: ['https://images-na.ssl-images-amazon.com/images/I/C17JvHtL-IS._SL1600_.jpg', 'https://images-na.ssl-images-amazon.com/images/I/C1WMyXvIc-S._SL1600_.jpg'] — 404 Client Error: Not Found for url: https://images-na.ssl-images-amazon.com/images/I/C17JvHtL-IS._SL1600_.jpg\n"
     ]
    },
    {
     "name": "stderr",
     "output_type": "stream",
     "text": [
      "Processing Images:  26%|██▌       | 6858/26321 [33:55<1:33:48,  3.46it/s]"
     ]
    },
    {
     "name": "stdout",
     "output_type": "stream",
     "text": [
      "❌ Error for URL: ['https://images-na.ssl-images-amazon.com/images/I/81x2IRWMYQL._SL1600_.jpg'] — 404 Client Error: Not Found for url: https://images-na.ssl-images-amazon.com/images/I/81x2IRWMYQL._SL1600_.jpg\n"
     ]
    },
    {
     "name": "stderr",
     "output_type": "stream",
     "text": [
      "Processing Images:  26%|██▋       | 6955/26321 [34:09<1:43:16,  3.13it/s]"
     ]
    },
    {
     "name": "stdout",
     "output_type": "stream",
     "text": [
      "❌ Error for URL: ['https://images-na.ssl-images-amazon.com/images/I/C140wl09IlS._SL1600_.jpg', 'https://images-na.ssl-images-amazon.com/images/I/C1REGRi-vAS._SL1600_.jpg', 'https://images-na.ssl-images-amazon.com/images/I/C1viLNnYKtS._SL1600_.jpg'] — 404 Client Error: Not Found for url: https://images-na.ssl-images-amazon.com/images/I/C140wl09IlS._SL1600_.jpg\n"
     ]
    },
    {
     "name": "stderr",
     "output_type": "stream",
     "text": [
      "Processing Images:  28%|██▊       | 7392/26321 [35:56<1:49:40,  2.88it/s]"
     ]
    },
    {
     "name": "stdout",
     "output_type": "stream",
     "text": [
      "❌ Error for URL: ['https://m.media-amazon.com/images/I/81WPkibvmxL._SL1600_.jpg'] — 404 Client Error: Not Found for url: https://m.media-amazon.com/images/I/81WPkibvmxL._SL1600_.jpg\n"
     ]
    },
    {
     "name": "stderr",
     "output_type": "stream",
     "text": [
      "Processing Images:  30%|███       | 7925/26321 [38:08<2:05:02,  2.45it/s]"
     ]
    },
    {
     "name": "stdout",
     "output_type": "stream",
     "text": [
      "❌ Error for URL: ['https://images-na.ssl-images-amazon.com/images/I/61yYdOtiiiL._SL1600_.jpg', 'https://images-na.ssl-images-amazon.com/images/I/71MEPJPrSLL._SL1600_.jpg'] — 404 Client Error: Not Found for url: https://images-na.ssl-images-amazon.com/images/I/61yYdOtiiiL._SL1600_.jpg\n"
     ]
    },
    {
     "name": "stderr",
     "output_type": "stream",
     "text": [
      "Processing Images:  31%|███       | 8103/26321 [38:37<1:47:30,  2.82it/s]"
     ]
    },
    {
     "name": "stdout",
     "output_type": "stream",
     "text": [
      "❌ Error for URL: ['https://images-na.ssl-images-amazon.com/images/I/71BQMo+tgTL.jpg', 'https://images-na.ssl-images-amazon.com/images/I/71BQMo+tgTL.jpg'] — 404 Client Error: Not Found for url: https://images-na.ssl-images-amazon.com/images/I/71BQMo+tgTL.jpg\n"
     ]
    },
    {
     "name": "stderr",
     "output_type": "stream",
     "text": [
      "Processing Images:  32%|███▏      | 8429/26321 [40:42<1:48:18,  2.75it/s]"
     ]
    },
    {
     "name": "stdout",
     "output_type": "stream",
     "text": [
      "❌ Error for URL: ['https://images-na.ssl-images-amazon.com/images/I/61YPdmhzEOL._SL1600_.jpg', 'https://images-na.ssl-images-amazon.com/images/I/61n-ORyjnDL._SL1600_.jpg'] — 404 Client Error: Not Found for url: https://images-na.ssl-images-amazon.com/images/I/61YPdmhzEOL._SL1600_.jpg\n"
     ]
    },
    {
     "name": "stderr",
     "output_type": "stream",
     "text": [
      "Processing Images:  34%|███▎      | 8859/26321 [43:46<2:09:17,  2.25it/s] "
     ]
    },
    {
     "name": "stdout",
     "output_type": "stream",
     "text": [
      "❌ Error for URL: ['https://images-na.ssl-images-amazon.com/images/I/61j-oi59+EL.jpg'] — 404 Client Error: Not Found for url: https://images-na.ssl-images-amazon.com/images/I/61j-oi59+EL.jpg\n"
     ]
    },
    {
     "name": "stderr",
     "output_type": "stream",
     "text": [
      "Processing Images:  34%|███▍      | 9009/26321 [44:19<1:25:08,  3.39it/s]"
     ]
    },
    {
     "name": "stdout",
     "output_type": "stream",
     "text": [
      "❌ Error for URL: ['https://images-na.ssl-images-amazon.com/images/I/71j03m248TL.jpg'] — 404 Client Error: Not Found for url: https://images-na.ssl-images-amazon.com/images/I/71j03m248TL.jpg\n"
     ]
    },
    {
     "name": "stderr",
     "output_type": "stream",
     "text": [
      "Processing Images:  34%|███▍      | 9021/26321 [44:21<1:26:53,  3.32it/s]"
     ]
    },
    {
     "name": "stdout",
     "output_type": "stream",
     "text": [
      "❌ Error for URL: ['https://images-na.ssl-images-amazon.com/images/I/81G1xjMgzUL._SL1600_.jpg'] — 404 Client Error: Not Found for url: https://images-na.ssl-images-amazon.com/images/I/81G1xjMgzUL._SL1600_.jpg\n"
     ]
    },
    {
     "name": "stderr",
     "output_type": "stream",
     "text": [
      "Processing Images:  35%|███▍      | 9117/26321 [44:36<1:56:30,  2.46it/s]"
     ]
    },
    {
     "name": "stdout",
     "output_type": "stream",
     "text": [
      "❌ Error for URL: ['https://m.media-amazon.com/images/I/91EMV4HaYLL._SL1600_.jpg'] — 404 Client Error: Not Found for url: https://m.media-amazon.com/images/I/91EMV4HaYLL._SL1600_.jpg\n"
     ]
    },
    {
     "name": "stderr",
     "output_type": "stream",
     "text": [
      "Processing Images:  35%|███▌      | 9291/26321 [46:08<1:44:33,  2.71it/s]"
     ]
    },
    {
     "name": "stdout",
     "output_type": "stream",
     "text": [
      "❌ Error for URL: ['https://images-na.ssl-images-amazon.com/images/I/71QIYO3B56L.jpg'] — 404 Client Error: Not Found for url: https://images-na.ssl-images-amazon.com/images/I/71QIYO3B56L.jpg\n"
     ]
    },
    {
     "name": "stderr",
     "output_type": "stream",
     "text": [
      "Processing Images:  35%|███▌      | 9326/26321 [46:22<1:52:31,  2.52it/s]"
     ]
    },
    {
     "name": "stdout",
     "output_type": "stream",
     "text": [
      "❌ Error for URL: ['https://images-na.ssl-images-amazon.com/images/I/81LzskSoZXL._SL1600_.jpg'] — 404 Client Error: Not Found for url: https://images-na.ssl-images-amazon.com/images/I/81LzskSoZXL._SL1600_.jpg\n"
     ]
    },
    {
     "name": "stderr",
     "output_type": "stream",
     "text": [
      "Processing Images:  36%|███▌      | 9352/26321 [46:33<1:57:43,  2.40it/s]"
     ]
    },
    {
     "name": "stdout",
     "output_type": "stream",
     "text": [
      "❌ Error for URL: ['https://images-na.ssl-images-amazon.com/images/I/61BuRg13JzL._SL1600_.jpg', 'https://images-na.ssl-images-amazon.com/images/I/61pege3XVSL._SL1600_.jpg'] — 404 Client Error: Not Found for url: https://images-na.ssl-images-amazon.com/images/I/61BuRg13JzL._SL1600_.jpg\n"
     ]
    },
    {
     "name": "stderr",
     "output_type": "stream",
     "text": [
      "Processing Images:  36%|███▌      | 9401/26321 [47:03<2:21:38,  1.99it/s]"
     ]
    },
    {
     "name": "stdout",
     "output_type": "stream",
     "text": [
      "❌ Error for URL: ['https://m.media-amazon.com/images/I/61j-9KDFK+L._SL1600_.jpg'] — 404 Client Error: Not Found for url: https://m.media-amazon.com/images/I/61j-9KDFK+L._SL1600_.jpg\n"
     ]
    },
    {
     "name": "stderr",
     "output_type": "stream",
     "text": [
      "Processing Images:  39%|███▉      | 10236/26321 [53:43<1:53:44,  2.36it/s] "
     ]
    },
    {
     "name": "stdout",
     "output_type": "stream",
     "text": [
      "❌ Error for URL: ['https://m.media-amazon.com/images/I/61sJwOTFOdL._SL1600_.jpg'] — 404 Client Error: Not Found for url: https://m.media-amazon.com/images/I/61sJwOTFOdL._SL1600_.jpg\n"
     ]
    },
    {
     "name": "stderr",
     "output_type": "stream",
     "text": [
      "Processing Images:  39%|███▉      | 10316/26321 [54:55<2:11:16,  2.03it/s] "
     ]
    },
    {
     "name": "stdout",
     "output_type": "stream",
     "text": [
      "❌ Error for URL: ['https://images-na.ssl-images-amazon.com/images/I/71fYEhEOE7L.jpg'] — 404 Client Error: Not Found for url: https://images-na.ssl-images-amazon.com/images/I/71fYEhEOE7L.jpg\n"
     ]
    },
    {
     "name": "stderr",
     "output_type": "stream",
     "text": [
      "Processing Images:  40%|███▉      | 10471/26321 [55:59<1:43:30,  2.55it/s]"
     ]
    },
    {
     "name": "stdout",
     "output_type": "stream",
     "text": [
      "❌ Error for URL: ['https://images-na.ssl-images-amazon.com/images/I/61N+V+E0gqL._SL1600_.jpg'] — 404 Client Error: Not Found for url: https://images-na.ssl-images-amazon.com/images/I/61N+V+E0gqL._SL1600_.jpg\n"
     ]
    },
    {
     "name": "stderr",
     "output_type": "stream",
     "text": [
      "Processing Images:  41%|████      | 10666/26321 [56:56<2:37:36,  1.66it/s]"
     ]
    },
    {
     "name": "stdout",
     "output_type": "stream",
     "text": [
      "❌ Error for URL: ['https://images-na.ssl-images-amazon.com/images/I/7192pholcML._SL1600_.jpg', 'https://images-na.ssl-images-amazon.com/images/I/71G3uENiP+L.jpg', 'https://images-na.ssl-images-amazon.com/images/I/71G7tB2jBrL.jpg', 'https://images-na.ssl-images-amazon.com/images/I/71oiFs34JcL._SL1600_.jpg', 'https://images-na.ssl-images-amazon.com/images/I/71q-S4WxRDL._SL1600_.jpg', 'https://images-na.ssl-images-amazon.com/images/I/71wr+RZR0+L.jpg'] — 404 Client Error: Not Found for url: https://images-na.ssl-images-amazon.com/images/I/7192pholcML._SL1600_.jpg\n"
     ]
    },
    {
     "name": "stderr",
     "output_type": "stream",
     "text": [
      "Processing Images:  42%|████▏     | 11051/26321 [59:06<57:32,  4.42it/s]  "
     ]
    },
    {
     "name": "stdout",
     "output_type": "stream",
     "text": [
      "❌ Error for URL: ['https://images-na.ssl-images-amazon.com/images/I/71PTGIxrspL.jpg', 'https://images-na.ssl-images-amazon.com/images/I/71YTYi8pkXL._SL1600_.jpg', 'https://images-na.ssl-images-amazon.com/images/I/71w3H8TxC4L.jpg'] — 404 Client Error: Not Found for url: https://images-na.ssl-images-amazon.com/images/I/71PTGIxrspL.jpg\n",
      "❌ Error for URL: ['https://images-na.ssl-images-amazon.com/images/I/71PTGIxrspL.jpg', 'https://images-na.ssl-images-amazon.com/images/I/71YTYi8pkXL._SL1600_.jpg', 'https://images-na.ssl-images-amazon.com/images/I/71w3H8TxC4L.jpg'] — 404 Client Error: Not Found for url: https://images-na.ssl-images-amazon.com/images/I/71PTGIxrspL.jpg\n"
     ]
    },
    {
     "name": "stderr",
     "output_type": "stream",
     "text": [
      "Processing Images:  44%|████▎     | 11460/26321 [1:00:14<1:16:31,  3.24it/s]"
     ]
    },
    {
     "name": "stdout",
     "output_type": "stream",
     "text": [
      "❌ Error for URL: ['https://images-na.ssl-images-amazon.com/images/I/61hBIUASthL._SL1600_.jpg'] — 404 Client Error: Not Found for url: https://images-na.ssl-images-amazon.com/images/I/61hBIUASthL._SL1600_.jpg\n"
     ]
    },
    {
     "name": "stderr",
     "output_type": "stream",
     "text": [
      "Processing Images:  44%|████▍     | 11572/26321 [1:00:42<2:47:22,  1.47it/s]"
     ]
    },
    {
     "name": "stdout",
     "output_type": "stream",
     "text": [
      "❌ Error for URL: ['https://images-na.ssl-images-amazon.com/images/I/91QSMW8sjWL._SL1600_.jpg'] — 404 Client Error: Not Found for url: https://images-na.ssl-images-amazon.com/images/I/91QSMW8sjWL._SL1600_.jpg\n"
     ]
    },
    {
     "name": "stderr",
     "output_type": "stream",
     "text": [
      "Processing Images:  44%|████▍     | 11617/26321 [1:01:27<10:59:52,  2.69s/it]"
     ]
    },
    {
     "name": "stdout",
     "output_type": "stream",
     "text": [
      "❌ Error for URL: ['https://images-na.ssl-images-amazon.com/images/I/71kIwqqMifL._SL1600_.jpg'] — 404 Client Error: Not Found for url: https://images-na.ssl-images-amazon.com/images/I/71kIwqqMifL._SL1600_.jpg\n"
     ]
    },
    {
     "name": "stderr",
     "output_type": "stream",
     "text": [
      "Processing Images:  47%|████▋     | 12260/26321 [1:06:25<2:06:05,  1.86it/s] "
     ]
    },
    {
     "name": "stdout",
     "output_type": "stream",
     "text": [
      "❌ Error for URL: ['https://images-na.ssl-images-amazon.com/images/I/61Y5isR39nL._SL1600_.jpg', 'https://images-na.ssl-images-amazon.com/images/I/712kxjvcUJL._SL1600_.jpg', 'https://images-na.ssl-images-amazon.com/images/I/714lSXLIFcL._SL1600_.jpg', 'https://images-na.ssl-images-amazon.com/images/I/71qXh9phcYL._SL1600_.jpg'] — 404 Client Error: Not Found for url: https://images-na.ssl-images-amazon.com/images/I/61Y5isR39nL._SL1600_.jpg\n"
     ]
    },
    {
     "name": "stderr",
     "output_type": "stream",
     "text": [
      "Processing Images:  47%|████▋     | 12399/26321 [1:07:54<1:16:32,  3.03it/s] "
     ]
    },
    {
     "name": "stdout",
     "output_type": "stream",
     "text": [
      "❌ Error for URL: ['https://images-na.ssl-images-amazon.com/images/I/91rB+5No-VL._SL1600_.jpg'] — 404 Client Error: Not Found for url: https://images-na.ssl-images-amazon.com/images/I/91rB+5No-VL._SL1600_.jpg\n"
     ]
    },
    {
     "name": "stderr",
     "output_type": "stream",
     "text": [
      "Processing Images:  48%|████▊     | 12595/26321 [1:08:47<1:26:16,  2.65it/s]"
     ]
    },
    {
     "name": "stdout",
     "output_type": "stream",
     "text": [
      "❌ Error for URL: ['https://images-na.ssl-images-amazon.com/images/I/71+Jnyb-FtL._SL1600_.jpg', 'https://images-na.ssl-images-amazon.com/images/I/71zwf0mA6aL._SL1600_.jpg'] — 404 Client Error: Not Found for url: https://images-na.ssl-images-amazon.com/images/I/71+Jnyb-FtL._SL1600_.jpg\n"
     ]
    },
    {
     "name": "stderr",
     "output_type": "stream",
     "text": [
      "Processing Images:  49%|████▊     | 12783/26321 [1:10:46<12:34:21,  3.34s/it]"
     ]
    },
    {
     "name": "stdout",
     "output_type": "stream",
     "text": [
      "❌ Error for URL: ['https://images-na.ssl-images-amazon.com/images/I/71C--Vj7AXL.jpg'] — HTTPSConnectionPool(host='images-na.ssl-images-amazon.com', port=443): Read timed out. (read timeout=10)\n"
     ]
    },
    {
     "name": "stderr",
     "output_type": "stream",
     "text": [
      "Processing Images:  50%|█████     | 13200/26321 [1:13:17<1:20:47,  2.71it/s] "
     ]
    },
    {
     "name": "stdout",
     "output_type": "stream",
     "text": [
      "❌ Error for URL: ['https://images-na.ssl-images-amazon.com/images/I/71+Bf1G5hcL.jpg'] — 404 Client Error: Not Found for url: https://images-na.ssl-images-amazon.com/images/I/71+Bf1G5hcL.jpg\n"
     ]
    },
    {
     "name": "stderr",
     "output_type": "stream",
     "text": [
      "Processing Images:  50%|█████     | 13207/26321 [1:13:19<1:10:57,  3.08it/s]"
     ]
    },
    {
     "name": "stdout",
     "output_type": "stream",
     "text": [
      "❌ Error for URL: ['https://m.media-amazon.com/images/I/71rrq2YLS+L._SL1600_.jpg'] — 404 Client Error: Not Found for url: https://m.media-amazon.com/images/I/71rrq2YLS+L._SL1600_.jpg\n"
     ]
    },
    {
     "name": "stderr",
     "output_type": "stream",
     "text": [
      "Processing Images:  51%|█████     | 13487/26321 [1:15:18<1:57:02,  1.83it/s]"
     ]
    },
    {
     "name": "stdout",
     "output_type": "stream",
     "text": [
      "❌ Error for URL: ['https://images-na.ssl-images-amazon.com/images/I/61X++0dW3xL._SL1600_.jpg', 'https://images-na.ssl-images-amazon.com/images/I/71pOmTowmKL._SL1600_.jpg'] — 404 Client Error: Not Found for url: https://images-na.ssl-images-amazon.com/images/I/61X++0dW3xL._SL1600_.jpg\n"
     ]
    },
    {
     "name": "stderr",
     "output_type": "stream",
     "text": [
      "Processing Images:  51%|█████     | 13488/26321 [1:15:19<1:38:48,  2.16it/s]"
     ]
    },
    {
     "name": "stdout",
     "output_type": "stream",
     "text": [
      "❌ Error for URL: ['https://images-na.ssl-images-amazon.com/images/I/612LIbusYgL._SL1600_.jpg', 'https://images-na.ssl-images-amazon.com/images/I/61DNDPjOPPL._SL1600_.jpg', 'https://images-na.ssl-images-amazon.com/images/I/61RLs7YVOEL._SL1600_.jpg', 'https://images-na.ssl-images-amazon.com/images/I/61STXlEChDL._SL1600_.jpg', 'https://images-na.ssl-images-amazon.com/images/I/61dx1W6xNHL._SL1600_.jpg', 'https://images-na.ssl-images-amazon.com/images/I/61eIwOaZQIL._SL1600_.jpg', 'https://images-na.ssl-images-amazon.com/images/I/61wFyZZKt0L._SL1600_.jpg'] — 404 Client Error: Not Found for url: https://images-na.ssl-images-amazon.com/images/I/612LIbusYgL._SL1600_.jpg\n"
     ]
    },
    {
     "name": "stderr",
     "output_type": "stream",
     "text": [
      "Processing Images:  51%|█████▏    | 13517/26321 [1:15:46<12:08:13,  3.41s/it]"
     ]
    },
    {
     "name": "stdout",
     "output_type": "stream",
     "text": [
      "❌ Error for URL: ['https://images-na.ssl-images-amazon.com/images/I/618CsndqjGL.jpg', 'https://images-na.ssl-images-amazon.com/images/I/715SXpVelHL.jpg'] — HTTPSConnectionPool(host='images-na.ssl-images-amazon.com', port=443): Read timed out. (read timeout=10)\n"
     ]
    },
    {
     "name": "stderr",
     "output_type": "stream",
     "text": [
      "Processing Images:  52%|█████▏    | 13620/26321 [1:16:48<1:46:23,  1.99it/s] "
     ]
    },
    {
     "name": "stdout",
     "output_type": "stream",
     "text": [
      "❌ Error for URL: ['https://m.media-amazon.com/images/I/61j5-8rb4VL._SL1600_.jpg'] — 404 Client Error: Not Found for url: https://m.media-amazon.com/images/I/61j5-8rb4VL._SL1600_.jpg\n"
     ]
    },
    {
     "name": "stderr",
     "output_type": "stream",
     "text": [
      "Processing Images:  53%|█████▎    | 13899/26321 [1:18:44<57:49,  3.58it/s]  "
     ]
    },
    {
     "name": "stdout",
     "output_type": "stream",
     "text": [
      "❌ Error for URL: ['https://m.media-amazon.com/images/I/81YteLdGdkL._SL1600_.jpg', 'https://m.media-amazon.com/images/I/81nmogWZ6bL._SL1600_.jpg'] — 404 Client Error: Not Found for url: https://m.media-amazon.com/images/I/81YteLdGdkL._SL1600_.jpg\n"
     ]
    },
    {
     "name": "stderr",
     "output_type": "stream",
     "text": [
      "Processing Images:  53%|█████▎    | 13922/26321 [1:18:49<1:32:07,  2.24it/s]"
     ]
    },
    {
     "name": "stdout",
     "output_type": "stream",
     "text": [
      "❌ Error for URL: ['https://images-na.ssl-images-amazon.com/images/I/61YpVGiL8VL._SL1600_.jpg'] — 404 Client Error: Not Found for url: https://images-na.ssl-images-amazon.com/images/I/61YpVGiL8VL._SL1600_.jpg\n"
     ]
    },
    {
     "name": "stderr",
     "output_type": "stream",
     "text": [
      "Processing Images:  54%|█████▍    | 14265/26321 [1:19:59<1:07:49,  2.96it/s]"
     ]
    },
    {
     "name": "stdout",
     "output_type": "stream",
     "text": [
      "❌ Error for URL: ['https://m.media-amazon.com/images/I/61CfvD3giwL._SL1600_.jpg', 'https://m.media-amazon.com/images/I/61F591MuzVL._SL1600_.jpg', 'https://m.media-amazon.com/images/I/61Wyl0vZ65L._SL1600_.jpg'] — 404 Client Error: Not Found for url: https://m.media-amazon.com/images/I/61CfvD3giwL._SL1600_.jpg\n"
     ]
    },
    {
     "name": "stderr",
     "output_type": "stream",
     "text": [
      "Processing Images:  55%|█████▌    | 14523/26321 [1:21:50<1:20:30,  2.44it/s] "
     ]
    },
    {
     "name": "stdout",
     "output_type": "stream",
     "text": [
      "❌ Error for URL: ['https://images-na.ssl-images-amazon.com/images/I/815bWhuxWRL._SL1600_.jpg', 'https://images-na.ssl-images-amazon.com/images/I/81O1iFXO8LL._SL1600_.jpg', 'https://images-na.ssl-images-amazon.com/images/I/91aovkiCA4L._SL1600_.jpg', 'https://images-na.ssl-images-amazon.com/images/I/91bJQI-zYPL._SL1600_.jpg'] — 404 Client Error: Not Found for url: https://images-na.ssl-images-amazon.com/images/I/815bWhuxWRL._SL1600_.jpg\n"
     ]
    },
    {
     "name": "stderr",
     "output_type": "stream",
     "text": [
      "Processing Images:  58%|█████▊    | 15159/26321 [1:26:25<1:04:34,  2.88it/s] "
     ]
    },
    {
     "name": "stdout",
     "output_type": "stream",
     "text": [
      "❌ Error for URL: ['https://images-na.ssl-images-amazon.com/images/I/61V446WaaLL.jpg', 'https://images-na.ssl-images-amazon.com/images/I/7103A3tPuDL._SL1600_.jpg', 'https://images-na.ssl-images-amazon.com/images/I/719wDHgdd0L._SL1600_.jpg'] — 404 Client Error: Not Found for url: https://images-na.ssl-images-amazon.com/images/I/61V446WaaLL.jpg\n"
     ]
    },
    {
     "name": "stderr",
     "output_type": "stream",
     "text": [
      "Processing Images:  58%|█████▊    | 15164/26321 [1:26:27<1:01:07,  3.04it/s]"
     ]
    },
    {
     "name": "stdout",
     "output_type": "stream",
     "text": [
      "❌ Error for URL: ['https://images-na.ssl-images-amazon.com/images/I/71LNilYpbqL.jpg'] — 404 Client Error: Not Found for url: https://images-na.ssl-images-amazon.com/images/I/71LNilYpbqL.jpg\n"
     ]
    },
    {
     "name": "stderr",
     "output_type": "stream",
     "text": [
      "Processing Images:  60%|██████    | 15825/26321 [1:30:29<1:03:40,  2.75it/s]"
     ]
    },
    {
     "name": "stdout",
     "output_type": "stream",
     "text": [
      "❌ Error for URL: ['https://images-na.ssl-images-amazon.com/images/I/51mesVAJTqL._SL1600_.jpg'] — 404 Client Error: Not Found for url: https://images-na.ssl-images-amazon.com/images/I/51mesVAJTqL._SL1600_.jpg\n"
     ]
    },
    {
     "name": "stderr",
     "output_type": "stream",
     "text": [
      "Processing Images:  61%|██████    | 16110/26321 [1:31:29<1:13:57,  2.30it/s]"
     ]
    },
    {
     "name": "stdout",
     "output_type": "stream",
     "text": [
      "❌ Error for URL: ['https://images-na.ssl-images-amazon.com/images/I/71a71ckIrXL.jpg', 'https://images-na.ssl-images-amazon.com/images/I/71a71ckIrXL.jpg', 'https://images-na.ssl-images-amazon.com/images/I/71fNjeBuqqL.jpg', 'https://images-na.ssl-images-amazon.com/images/I/71fNjeBuqqL.jpg'] — 404 Client Error: Not Found for url: https://images-na.ssl-images-amazon.com/images/I/71a71ckIrXL.jpg\n"
     ]
    },
    {
     "name": "stderr",
     "output_type": "stream",
     "text": [
      "Processing Images:  64%|██████▍   | 16955/26321 [1:37:05<26:50,  5.81it/s]   "
     ]
    },
    {
     "name": "stdout",
     "output_type": "stream",
     "text": [
      "❌ Error for URL: ['https://images-na.ssl-images-amazon.com/images/I/91AzHr90aGL._SL1600_.jpg', 'https://images-na.ssl-images-amazon.com/images/I/A1dFk2AqGTL._SL1600_.jpg'] — 404 Client Error: Not Found for url: https://images-na.ssl-images-amazon.com/images/I/91AzHr90aGL._SL1600_.jpg\n"
     ]
    },
    {
     "name": "stderr",
     "output_type": "stream",
     "text": [
      "Processing Images:  65%|██████▌   | 17133/26321 [1:37:41<1:11:12,  2.15it/s]"
     ]
    },
    {
     "name": "stdout",
     "output_type": "stream",
     "text": [
      "❌ Error for URL: ['https://images-na.ssl-images-amazon.com/images/I/71FRarDvVoL.jpg', 'https://images-na.ssl-images-amazon.com/images/I/71qz4H5lfgL.jpg'] — 404 Client Error: Not Found for url: https://images-na.ssl-images-amazon.com/images/I/71FRarDvVoL.jpg\n"
     ]
    },
    {
     "name": "stderr",
     "output_type": "stream",
     "text": [
      "Processing Images:  66%|██████▌   | 17272/26321 [1:38:03<1:14:47,  2.02it/s]"
     ]
    },
    {
     "name": "stdout",
     "output_type": "stream",
     "text": [
      "❌ Error for URL: ['https://images-na.ssl-images-amazon.com/images/I/71cT4tqS9sL.jpg', 'https://images-na.ssl-images-amazon.com/images/I/71r3nQ9qIQL.jpg'] — 404 Client Error: Not Found for url: https://images-na.ssl-images-amazon.com/images/I/71cT4tqS9sL.jpg\n"
     ]
    },
    {
     "name": "stderr",
     "output_type": "stream",
     "text": [
      "Processing Images:  66%|██████▌   | 17413/26321 [1:38:37<50:58,  2.91it/s]  "
     ]
    },
    {
     "name": "stdout",
     "output_type": "stream",
     "text": [
      "❌ Error for URL: ['https://images-na.ssl-images-amazon.com/images/I/811ly77ZoOL.jpg', 'https://images-na.ssl-images-amazon.com/images/I/81PBCqp2yZL.jpg'] — 404 Client Error: Not Found for url: https://images-na.ssl-images-amazon.com/images/I/811ly77ZoOL.jpg\n"
     ]
    },
    {
     "name": "stderr",
     "output_type": "stream",
     "text": [
      "Processing Images:  67%|██████▋   | 17595/26321 [1:39:44<17:20:00,  7.15s/it]"
     ]
    },
    {
     "name": "stdout",
     "output_type": "stream",
     "text": [
      "❌ Error for URL: ['https://images-na.ssl-images-amazon.com/images/I/7135HjvUlsL.jpg', 'https://images-na.ssl-images-amazon.com/images/I/71qS7gDUTaL.jpg'] — 404 Client Error: Not Found for url: https://images-na.ssl-images-amazon.com/images/I/7135HjvUlsL.jpg\n"
     ]
    },
    {
     "name": "stderr",
     "output_type": "stream",
     "text": [
      "Processing Images:  70%|██████▉   | 18377/26321 [1:45:32<7:42:44,  3.50s/it] "
     ]
    },
    {
     "name": "stdout",
     "output_type": "stream",
     "text": [
      "❌ Error for URL: ['https://images-na.ssl-images-amazon.com/images/I/81-TXHKTH2L.jpg'] — HTTPSConnectionPool(host='images-na.ssl-images-amazon.com', port=443): Read timed out. (read timeout=10)\n"
     ]
    },
    {
     "name": "stderr",
     "output_type": "stream",
     "text": [
      "Processing Images:  73%|███████▎  | 19139/26321 [1:50:28<41:25,  2.89it/s]   "
     ]
    },
    {
     "name": "stdout",
     "output_type": "stream",
     "text": [
      "❌ Error for URL: ['https://images-na.ssl-images-amazon.com/images/I/714OxgYn4sL.jpg'] — 404 Client Error: Not Found for url: https://images-na.ssl-images-amazon.com/images/I/714OxgYn4sL.jpg\n"
     ]
    },
    {
     "name": "stderr",
     "output_type": "stream",
     "text": [
      "Processing Images:  73%|███████▎  | 19168/26321 [1:50:33<39:09,  3.04it/s]"
     ]
    },
    {
     "name": "stdout",
     "output_type": "stream",
     "text": [
      "❌ Error for URL: ['https://m.media-amazon.com/images/I/71qIdPgl+oL._SL1600_.jpg'] — 404 Client Error: Not Found for url: https://m.media-amazon.com/images/I/71qIdPgl+oL._SL1600_.jpg\n"
     ]
    },
    {
     "name": "stderr",
     "output_type": "stream",
     "text": [
      "Processing Images:  73%|███████▎  | 19238/26321 [1:50:48<45:53,  2.57it/s]"
     ]
    },
    {
     "name": "stdout",
     "output_type": "stream",
     "text": [
      "❌ Error for URL: ['https://m.media-amazon.com/images/I/A1EBzk6qm-L._SL1600_.jpg'] — 404 Client Error: Not Found for url: https://m.media-amazon.com/images/I/A1EBzk6qm-L._SL1600_.jpg\n"
     ]
    },
    {
     "name": "stderr",
     "output_type": "stream",
     "text": [
      "Processing Images:  75%|███████▍  | 19662/26321 [1:52:42<32:11,  3.45it/s]  "
     ]
    },
    {
     "name": "stdout",
     "output_type": "stream",
     "text": [
      "❌ Error for URL: ['https://images-na.ssl-images-amazon.com/images/I/71sSbu+c4ML.jpg'] — 404 Client Error: Not Found for url: https://images-na.ssl-images-amazon.com/images/I/71sSbu+c4ML.jpg\n"
     ]
    },
    {
     "name": "stderr",
     "output_type": "stream",
     "text": [
      "Processing Images:  77%|███████▋  | 20391/26321 [1:57:32<59:58,  1.65it/s]   "
     ]
    },
    {
     "name": "stdout",
     "output_type": "stream",
     "text": [
      "❌ Error for URL: ['https://m.media-amazon.com/images/I/61sMdnVZyoL._SL1600_.jpg', 'https://m.media-amazon.com/images/I/81cYQjcf5RL._SL1600_.jpg'] — 404 Client Error: Not Found for url: https://m.media-amazon.com/images/I/61sMdnVZyoL._SL1600_.jpg\n"
     ]
    },
    {
     "name": "stderr",
     "output_type": "stream",
     "text": [
      "Processing Images:  79%|███████▉  | 20831/26321 [2:00:07<25:16,  3.62it/s]  "
     ]
    },
    {
     "name": "stdout",
     "output_type": "stream",
     "text": [
      "❌ Error for URL: ['https://images-na.ssl-images-amazon.com/images/I/7113pWc-JpL.jpg'] — 404 Client Error: Not Found for url: https://images-na.ssl-images-amazon.com/images/I/7113pWc-JpL.jpg\n"
     ]
    },
    {
     "name": "stderr",
     "output_type": "stream",
     "text": [
      "Processing Images:  79%|███████▉  | 20917/26321 [2:00:22<39:45,  2.27it/s]"
     ]
    },
    {
     "name": "stdout",
     "output_type": "stream",
     "text": [
      "❌ Error for URL: ['https://images-na.ssl-images-amazon.com/images/I/71Qv-WRPUkL.jpg', 'https://images-na.ssl-images-amazon.com/images/I/71qx0L-pzIL.jpg'] — 404 Client Error: Not Found for url: https://images-na.ssl-images-amazon.com/images/I/71Qv-WRPUkL.jpg\n"
     ]
    },
    {
     "name": "stderr",
     "output_type": "stream",
     "text": [
      "Processing Images:  81%|████████  | 21227/26321 [2:01:10<25:35,  3.32it/s]"
     ]
    },
    {
     "name": "stdout",
     "output_type": "stream",
     "text": [
      "❌ Error for URL: ['https://images-na.ssl-images-amazon.com/images/I/A1Io10Q8I2L._SL1600_.jpg', 'https://images-na.ssl-images-amazon.com/images/I/A1car18GYqL._SL1600_.jpg'] — 404 Client Error: Not Found for url: https://images-na.ssl-images-amazon.com/images/I/A1Io10Q8I2L._SL1600_.jpg\n"
     ]
    },
    {
     "name": "stderr",
     "output_type": "stream",
     "text": [
      "Processing Images:  82%|████████▏ | 21540/26321 [2:03:48<52:12,  1.53it/s]  "
     ]
    },
    {
     "name": "stdout",
     "output_type": "stream",
     "text": [
      "❌ Error for URL: ['https://images-na.ssl-images-amazon.com/images/I/71MhTgGhu6L._SL1600_.jpg'] — 404 Client Error: Not Found for url: https://images-na.ssl-images-amazon.com/images/I/71MhTgGhu6L._SL1600_.jpg\n"
     ]
    },
    {
     "name": "stderr",
     "output_type": "stream",
     "text": [
      "Processing Images:  82%|████████▏ | 21595/26321 [2:04:24<42:34,  1.85it/s]  "
     ]
    },
    {
     "name": "stdout",
     "output_type": "stream",
     "text": [
      "❌ Error for URL: ['https://images-na.ssl-images-amazon.com/images/I/61Q6oZw9QSL._SL1600_.jpg', 'https://images-na.ssl-images-amazon.com/images/I/61ncEZTYrdL._SL1600_.jpg'] — 404 Client Error: Not Found for url: https://images-na.ssl-images-amazon.com/images/I/61Q6oZw9QSL._SL1600_.jpg\n"
     ]
    },
    {
     "name": "stderr",
     "output_type": "stream",
     "text": [
      "Processing Images:  83%|████████▎ | 21851/26321 [2:06:42<25:27,  2.93it/s]  "
     ]
    },
    {
     "name": "stdout",
     "output_type": "stream",
     "text": [
      "❌ Error for URL: ['https://images-na.ssl-images-amazon.com/images/I/71ejRGSbntL.jpg', 'https://images-na.ssl-images-amazon.com/images/I/71yjoXLUL-L.jpg'] — 404 Client Error: Not Found for url: https://images-na.ssl-images-amazon.com/images/I/71ejRGSbntL.jpg\n"
     ]
    },
    {
     "name": "stderr",
     "output_type": "stream",
     "text": [
      "Processing Images:  83%|████████▎ | 21857/26321 [2:06:44<25:54,  2.87it/s]"
     ]
    },
    {
     "name": "stdout",
     "output_type": "stream",
     "text": [
      "❌ Error for URL: ['https://m.media-amazon.com/images/I/71+rMin5cXL._SL1600_.jpg'] — 404 Client Error: Not Found for url: https://m.media-amazon.com/images/I/71+rMin5cXL._SL1600_.jpg\n"
     ]
    },
    {
     "name": "stderr",
     "output_type": "stream",
     "text": [
      "Processing Images:  83%|████████▎ | 21931/26321 [2:07:21<41:38,  1.76it/s]  "
     ]
    },
    {
     "name": "stdout",
     "output_type": "stream",
     "text": [
      "❌ Error for URL: ['https://m.media-amazon.com/images/I/61tM8ZEf7mL._SL1600_.jpg'] — 404 Client Error: Not Found for url: https://m.media-amazon.com/images/I/61tM8ZEf7mL._SL1600_.jpg\n"
     ]
    },
    {
     "name": "stderr",
     "output_type": "stream",
     "text": [
      "Processing Images:  85%|████████▍ | 22307/26321 [2:11:28<21:44,  3.08it/s]   "
     ]
    },
    {
     "name": "stdout",
     "output_type": "stream",
     "text": [
      "❌ Error for URL: ['https://images-na.ssl-images-amazon.com/images/I/610aacPB9VL.jpg', 'https://images-na.ssl-images-amazon.com/images/I/71cy3734sGL.jpg', 'https://images-na.ssl-images-amazon.com/images/I/71y3AnOj1OL.jpg'] — 404 Client Error: Not Found for url: https://images-na.ssl-images-amazon.com/images/I/610aacPB9VL.jpg\n"
     ]
    },
    {
     "name": "stderr",
     "output_type": "stream",
     "text": [
      "Processing Images:  85%|████████▌ | 22462/26321 [2:13:03<36:16,  1.77it/s]  "
     ]
    },
    {
     "name": "stdout",
     "output_type": "stream",
     "text": [
      "❌ Error for URL: ['https://m.media-amazon.com/images/I/61fDR264H-L._SL1600_.jpg', 'https://m.media-amazon.com/images/I/61pl6vA+qRL._SL1600_.jpg'] — 404 Client Error: Not Found for url: https://m.media-amazon.com/images/I/61fDR264H-L._SL1600_.jpg\n"
     ]
    },
    {
     "name": "stderr",
     "output_type": "stream",
     "text": [
      "Processing Images:  86%|████████▌ | 22679/26321 [2:15:04<2:43:52,  2.70s/it]"
     ]
    },
    {
     "name": "stdout",
     "output_type": "stream",
     "text": [
      "❌ Error for URL: ['https://images-na.ssl-images-amazon.com/images/I/71ot2DkJpZL.jpg'] — 404 Client Error: Not Found for url: https://images-na.ssl-images-amazon.com/images/I/71ot2DkJpZL.jpg\n"
     ]
    },
    {
     "name": "stderr",
     "output_type": "stream",
     "text": [
      "Processing Images:  90%|████████▉ | 23643/26321 [2:21:12<26:53,  1.66it/s]  "
     ]
    },
    {
     "name": "stdout",
     "output_type": "stream",
     "text": [
      "❌ Error for URL: ['https://images-na.ssl-images-amazon.com/images/I/71IxlBX0nlL.jpg', 'https://images-na.ssl-images-amazon.com/images/I/71sHwlU8ZoL.jpg'] — 404 Client Error: Not Found for url: https://images-na.ssl-images-amazon.com/images/I/71IxlBX0nlL.jpg\n"
     ]
    },
    {
     "name": "stderr",
     "output_type": "stream",
     "text": [
      "Processing Images:  90%|████████▉ | 23677/26321 [2:21:22<21:35,  2.04it/s]"
     ]
    },
    {
     "name": "stdout",
     "output_type": "stream",
     "text": [
      "❌ Error for URL: ['https://images-na.ssl-images-amazon.com/images/I/61A0Hk69GUL.jpg', 'https://images-na.ssl-images-amazon.com/images/I/71Az6RBTekL.jpg', 'https://images-na.ssl-images-amazon.com/images/I/71CYkkh020L.jpg'] — 404 Client Error: Not Found for url: https://images-na.ssl-images-amazon.com/images/I/61A0Hk69GUL.jpg\n"
     ]
    },
    {
     "name": "stderr",
     "output_type": "stream",
     "text": [
      "Processing Images:  91%|█████████▏| 24083/26321 [2:23:50<14:01,  2.66it/s]"
     ]
    },
    {
     "name": "stdout",
     "output_type": "stream",
     "text": [
      "❌ Error for URL: ['https://images-na.ssl-images-amazon.com/images/I/71qzUYj-cJL._SL1600_.jpg'] — 404 Client Error: Not Found for url: https://images-na.ssl-images-amazon.com/images/I/71qzUYj-cJL._SL1600_.jpg\n"
     ]
    },
    {
     "name": "stderr",
     "output_type": "stream",
     "text": [
      "Processing Images:  92%|█████████▏| 24184/26321 [2:24:06<10:26,  3.41it/s]"
     ]
    },
    {
     "name": "stdout",
     "output_type": "stream",
     "text": [
      "❌ Error for URL: ['https://images-na.ssl-images-amazon.com/images/I/519e7LyPySL._SL1600_.jpg', 'https://images-na.ssl-images-amazon.com/images/I/51jiwO1IMeL._SL1600_.jpg', 'https://images-na.ssl-images-amazon.com/images/I/61oR3XuzK1L._SL1600_.jpg'] — 404 Client Error: Not Found for url: https://images-na.ssl-images-amazon.com/images/I/519e7LyPySL._SL1600_.jpg\n"
     ]
    },
    {
     "name": "stderr",
     "output_type": "stream",
     "text": [
      "Processing Images:  93%|█████████▎| 24547/26321 [2:27:17<10:52,  2.72it/s]"
     ]
    },
    {
     "name": "stdout",
     "output_type": "stream",
     "text": [
      "❌ Error for URL: ['https://images-na.ssl-images-amazon.com/images/I/71mCEwuU6hL.jpg'] — 404 Client Error: Not Found for url: https://images-na.ssl-images-amazon.com/images/I/71mCEwuU6hL.jpg\n"
     ]
    },
    {
     "name": "stderr",
     "output_type": "stream",
     "text": [
      "Processing Images:  94%|█████████▍| 24818/26321 [2:27:55<07:49,  3.20it/s]"
     ]
    },
    {
     "name": "stdout",
     "output_type": "stream",
     "text": [
      "❌ Error for URL: ['https://m.media-amazon.com/images/I/51pOPyYyQpL._SL1600_.jpg'] — 404 Client Error: Not Found for url: https://m.media-amazon.com/images/I/51pOPyYyQpL._SL1600_.jpg\n"
     ]
    },
    {
     "name": "stderr",
     "output_type": "stream",
     "text": [
      "Processing Images:  96%|█████████▌| 25317/26321 [2:31:39<09:48,  1.71it/s]  "
     ]
    },
    {
     "name": "stdout",
     "output_type": "stream",
     "text": [
      "❌ Error for URL: ['https://images-na.ssl-images-amazon.com/images/I/91TMsLH-I2L._SL1600_.jpg', 'https://images-na.ssl-images-amazon.com/images/I/A1x0gcRLCvL._SL1600_.jpg'] — 404 Client Error: Not Found for url: https://images-na.ssl-images-amazon.com/images/I/91TMsLH-I2L._SL1600_.jpg\n"
     ]
    },
    {
     "name": "stderr",
     "output_type": "stream",
     "text": [
      "Processing Images:  97%|█████████▋| 25606/26321 [2:34:12<05:12,  2.29it/s]"
     ]
    },
    {
     "name": "stdout",
     "output_type": "stream",
     "text": [
      "❌ Error for URL: ['https://m.media-amazon.com/images/I/71UDoNjvRCL._SL1600_.jpg'] — 404 Client Error: Not Found for url: https://m.media-amazon.com/images/I/71UDoNjvRCL._SL1600_.jpg\n"
     ]
    },
    {
     "name": "stderr",
     "output_type": "stream",
     "text": [
      "Processing Images:  98%|█████████▊| 25914/26321 [2:35:51<03:40,  1.85it/s]"
     ]
    },
    {
     "name": "stdout",
     "output_type": "stream",
     "text": [
      "❌ Error for URL: ['https://images-na.ssl-images-amazon.com/images/I/51kX8-pfRwL._SL1600_.jpg'] — 404 Client Error: Not Found for url: https://images-na.ssl-images-amazon.com/images/I/51kX8-pfRwL._SL1600_.jpg\n"
     ]
    },
    {
     "name": "stderr",
     "output_type": "stream",
     "text": [
      "Processing Images: 100%|█████████▉| 26288/26321 [2:38:54<00:13,  2.48it/s]"
     ]
    },
    {
     "name": "stdout",
     "output_type": "stream",
     "text": [
      "❌ Error for URL: ['https://images-na.ssl-images-amazon.com/images/I/71i50jeu4lL._SL1600_.jpg', 'https://images-na.ssl-images-amazon.com/images/I/71rxE6PpD5L._SL1600_.jpg'] — 404 Client Error: Not Found for url: https://images-na.ssl-images-amazon.com/images/I/71i50jeu4lL._SL1600_.jpg\n"
     ]
    },
    {
     "name": "stderr",
     "output_type": "stream",
     "text": [
      "Processing Images: 100%|██████████| 26321/26321 [2:39:12<00:00,  2.76it/s]\n"
     ]
    }
   ],
   "source": [
    "# Install specific numpy version if needed\n",
    "!pip install \"numpy<2.0\"\n",
    "\n",
    "# Imports\n",
    "from tqdm import tqdm\n",
    "tqdm.pandas(desc=\"Processing Images\")  # Register pandas extension with progress bar\n",
    "\n",
    "from transformers import CLIPProcessor, CLIPModel\n",
    "from PIL import Image\n",
    "import requests\n",
    "import torch\n",
    "import numpy as np  # You missed this import\n",
    "\n",
    "import transformers, PIL\n",
    "print(transformers.__version__)  # Should be 4.44.2 or higher\n",
    "print(torch.__version__)        # Should be 2.3.0 or higher\n",
    "print(PIL.__version__)          # Should be 10.3.0 or higher\n",
    "print(np.__version__)\n",
    "\n",
    "# Load CLIP model and processor\n",
    "try:\n",
    "    clip_model = CLIPModel.from_pretrained(\"openai/clip-vit-base-patch32\")\n",
    "    clip_processor = CLIPProcessor.from_pretrained(\"openai/clip-vit-base-patch32\")\n",
    "except Exception as e:\n",
    "    print(f\"Error loading model or processor: {e}\")\n",
    "    exit(1)\n",
    "\n",
    "# Define image embedding function\n",
    "def get_image_embedding(urls):\n",
    "    try:\n",
    "        if not urls:\n",
    "            return np.zeros(512)\n",
    "        image_url = urls[0]\n",
    "\n",
    "        headers = {\"User-Agent\": \"Mozilla/5.0\"}\n",
    "        response = requests.get(image_url, stream=True, headers=headers, timeout=10)\n",
    "        response.raise_for_status()\n",
    "\n",
    "        image = Image.open(response.raw).convert(\"RGB\")\n",
    "        image = image.resize((224, 224), Image.Resampling.LANCZOS)\n",
    "\n",
    "        inputs = clip_processor(\n",
    "            images=image,\n",
    "            return_tensors=\"pt\",\n",
    "            do_resize=False,\n",
    "            do_center_crop=False,\n",
    "            do_normalize=True,\n",
    "            padding=True\n",
    "        )\n",
    "\n",
    "        with torch.no_grad():\n",
    "            emb = clip_model.get_image_features(**inputs)\n",
    "\n",
    "        return emb.squeeze().numpy()\n",
    "\n",
    "    except Exception as e:\n",
    "        print(f\"❌ Error for URL: {urls} — {e}\")\n",
    "        return np.zeros(512)\n",
    "\n",
    "\n",
    "# ✅ Apply with progress bar\n",
    "df['image_embedding'] = df['image_urls'].progress_apply(get_image_embedding)\n"
   ]
  },
  {
   "cell_type": "code",
   "execution_count": 63,
   "id": "206d02c2",
   "metadata": {},
   "outputs": [
    {
     "name": "stdout",
     "output_type": "stream",
     "text": [
      "✅ DataFrame saved to: processed_images.csv\n"
     ]
    }
   ],
   "source": [
    "output_path = \"processed_images.csv\"\n",
    "df.to_csv(output_path, index=False)\n",
    "print(f\"✅ DataFrame saved to: {output_path}\")\n"
   ]
  },
  {
   "cell_type": "code",
   "execution_count": 64,
   "id": "0900bee5",
   "metadata": {},
   "outputs": [],
   "source": [
    "\n",
    "from transformers import AutoTokenizer\n",
    "\n",
    "tokenizer = AutoTokenizer.from_pretrained(\"bert-base-uncased\")\n",
    "\n",
    "def chunk_text(text, chunk_size=128, stride=32):\n",
    "    tokens = tokenizer(text, truncation=False, return_tensors=\"pt\")[\"input_ids\"][0]\n",
    "    chunks = []\n",
    "    for i in range(0, len(tokens), chunk_size - stride):\n",
    "        chunk = tokens[i:i+chunk_size]\n",
    "        chunks.append(chunk.tolist())\n",
    "        if i + chunk_size >= len(tokens):\n",
    "            break\n",
    "    return chunks\n"
   ]
  },
  {
   "cell_type": "code",
   "execution_count": 65,
   "id": "1da389fa",
   "metadata": {},
   "outputs": [
    {
     "name": "stdout",
     "output_type": "stream",
     "text": [
      "[ 6.85271770e-02  1.26189828e-01  2.83851773e-02  3.15660954e-01\n",
      "  2.36579835e-01 -2.10076123e-02 -7.02859461e-02  1.37963489e-01\n",
      "  3.53205204e-01  3.59326869e-01 -2.29127586e-01 -1.96678817e-01\n",
      " -8.12886655e-03  2.07439125e-01  2.62229025e-01  1.16304345e-01\n",
      "  4.58405435e-01 -1.83797061e-01  7.47132301e-03 -4.77362752e-01\n",
      " -7.52998352e-01 -7.25376308e-02 -1.59005404e-01 -5.75190261e-02\n",
      " -3.04237902e-01  3.54136467e-01 -1.04230508e-01  3.47405195e-01\n",
      " -6.63421154e-02 -2.54648566e-01 -7.53595680e-02  6.41024947e-01\n",
      "  5.41886449e-01 -3.35810184e-02  1.33811474e-01  4.63783592e-01\n",
      " -1.91866174e-01  6.77888691e-02 -5.84838867e-01  1.74281049e+00\n",
      " -3.08044076e-01 -4.90215778e-01  7.74513483e-02 -4.80359308e-02\n",
      "  5.12056500e-02  9.85552967e-02 -7.06999153e-02  1.65635675e-01\n",
      " -9.27927941e-02  9.99877900e-02 -1.84481919e-01  1.94392934e-01\n",
      "  3.09378564e-01  6.57349229e-02 -1.32552370e-01 -4.09587592e-01\n",
      "  2.27522701e-02  2.60896772e-01 -5.48661500e-02  3.79980296e-01\n",
      " -1.10211745e-01  6.50613308e-02 -1.34928524e-01  3.34666669e-01\n",
      "  7.42884040e-01  2.46336371e-01 -1.50673866e-01 -7.16904700e-01\n",
      " -3.23963314e-01 -5.04096329e-01 -2.87898839e-01  2.64627904e-01\n",
      "  1.05452582e-01 -1.71510577e-02  1.25650764e-02 -1.34427428e-01\n",
      " -3.99779558e-01  1.16331965e-01 -2.82186836e-01 -1.16797544e-01\n",
      "  3.80851746e-01 -7.65275061e-02 -1.34458214e-01 -1.40439302e-01\n",
      "  5.84194541e-01  3.01262617e-01  2.71088213e-01 -4.84160602e-01\n",
      "  1.56262517e-01 -2.65725225e-01  1.65268064e-01  4.84561443e-01\n",
      " -4.89798832e+00 -1.95690513e-01  8.92522708e-02  7.61647448e-02\n",
      " -1.92783713e-01  1.46068454e-01 -9.16198343e-02  7.13944256e-01\n",
      "  2.49249414e-01 -4.24999416e-01  3.75033766e-01  1.56497210e-01\n",
      "  3.69806290e-01  6.52981326e-02  8.65367413e-01 -2.98184454e-02\n",
      " -1.38391227e-01  1.31970257e-01 -3.56918514e-01  5.10224462e-01\n",
      " -2.22394720e-01 -1.74446553e-01  7.55557567e-02  4.16390598e-02\n",
      " -3.34696949e-01 -1.32367641e-01  2.04443038e-01 -1.06791019e-01\n",
      "  7.28287756e-01 -4.33507651e-01  1.42116338e-01 -3.56348902e-01\n",
      "  3.58845621e-01 -8.72286022e-01 -4.18538123e-01 -8.71264040e-02\n",
      "  5.38544729e-02  2.31186882e-01  8.17999393e-02 -1.25629872e-01\n",
      " -3.00730169e-02  7.96054959e-01  3.64624679e-01  1.88734859e-01\n",
      "  2.12874174e-01  3.13689232e-01 -5.30674815e-01  9.55548957e-02\n",
      "  6.93693608e-02 -8.17392349e-01 -2.81447887e-01 -1.00702912e-01\n",
      " -1.04547143e-01  2.37801969e-01 -7.08254516e-01  6.86983913e-02\n",
      " -9.04942900e-02  1.46783426e-01  2.25245655e-01  4.05095577e-01\n",
      " -4.64330792e-01  2.38173112e-01  2.56972939e-01 -5.08586526e-01\n",
      " -4.09592450e-01  4.69161600e-01 -7.00318962e-02  4.37869728e-02\n",
      " -3.29445630e-01 -2.65174121e-01  2.40528584e-01  3.69749427e-01\n",
      " -5.01781553e-02  6.38248742e-01  1.09917533e+00 -2.42644906e-01\n",
      "  8.38947535e-01 -3.70467246e-01  4.75127876e-01  6.87029362e-02\n",
      "  1.87350720e-01 -2.34102383e-02 -1.65709570e-01  1.17630631e-01\n",
      "  7.74739742e-01 -1.21460989e-01  3.24643880e-01  2.35199571e-01\n",
      "  4.67065871e-01  1.85333535e-01 -2.76143134e-01  2.17958823e-01\n",
      " -5.43702126e-01  7.81267881e-03  4.24051642e-01 -2.50625283e-01\n",
      " -2.15793788e-01  1.79368123e-01  5.02410769e-01  8.69865119e-02\n",
      "  9.94841754e-02 -7.76306987e-01  4.83280718e-01  2.72841722e-01\n",
      "  5.81618071e-01 -1.76684082e-01  3.56778771e-01 -3.55198622e-01\n",
      "  2.18699127e-02  6.98493347e-02 -3.24809402e-02  2.37264276e-01\n",
      "  1.85042441e-01  1.87513456e-01 -2.96168923e-02 -5.42794585e-01\n",
      "  1.08483210e-02  9.19316635e-02 -2.23356187e-01  4.82774049e-01\n",
      " -4.77247596e-01 -2.30871260e-01 -1.34918973e-01 -1.34511679e-01\n",
      "  5.63012779e-01 -6.61362261e-02  2.70119905e-02 -5.20762563e-01\n",
      "  5.45749068e-02 -4.31860626e-01 -2.29488581e-01  1.14907473e-02\n",
      "  3.01344186e-01  3.01667809e-01  1.46392837e-01 -1.07586920e-01\n",
      " -2.74806976e-01  3.56443018e-01  4.94031131e-01 -3.84811312e-02\n",
      "  1.36982858e-01  4.05320376e-01  3.21279228e-01  1.06176805e+00\n",
      "  2.23688856e-01 -4.55843091e-01 -4.44241941e-01  1.03712045e-01\n",
      " -3.85736823e-02 -1.48314029e-01 -1.17452145e-02 -2.87480950e-01\n",
      "  3.50054145e-01  5.09861469e-01  1.35979354e-01  9.54828635e-02\n",
      "  2.83116698e-01 -3.75885040e-01 -2.64397800e-01 -2.75453508e-01\n",
      "  5.36048055e-01 -3.30507070e-01 -2.96463430e-01  6.02951109e-01\n",
      " -8.87579739e-01 -1.29405528e-01 -1.13515294e+00 -8.63041580e-02\n",
      " -2.12296247e-02  1.28005832e-01  5.03233820e-03  1.34723291e-01\n",
      " -4.69929218e-01  6.16901219e-02  4.92601454e-01  1.39520139e-01\n",
      "  4.28212285e-01  2.36737639e-01  1.58274859e-01  3.74469638e-01\n",
      "  5.82569242e-02 -3.93299088e-02 -1.67948648e-01 -7.25490451e-02\n",
      "  5.41023850e-01 -2.73843348e-01 -5.01262903e-01 -3.44630748e-01\n",
      " -4.90309000e-01  1.25755742e-02 -8.17004219e-02  2.76975036e-01\n",
      "  1.82855397e-01 -3.59570757e-02  8.01904798e-01 -8.11547413e-02\n",
      " -1.80196270e-01 -3.96938562e-01  5.22467792e-01  2.43037879e-01\n",
      "  1.06193125e-03  1.86737448e-01  2.03895614e-01  1.17638648e-01\n",
      "  1.45145804e-02  2.53170848e-01  1.72397032e-01  2.09195480e-01\n",
      " -7.09033728e-01 -4.73869264e-01  3.40685248e-01 -4.17846948e-01\n",
      "  3.17078590e-01 -5.34673572e-01 -4.83348310e-01 -1.30508885e-01\n",
      "  7.64779449e-02  2.02473477e-02 -3.01411450e-01  9.79706720e-02\n",
      "  7.94242978e-01 -3.30395222e-01 -7.35731274e-02 -6.55003488e-02\n",
      " -3.02026793e-02  2.86992610e-01  1.14577875e-01  6.03049755e-01\n",
      "  5.61821163e-02  2.25000095e+00 -6.23968184e-01 -3.84372681e-01\n",
      " -4.59958076e-01  3.96688357e-02 -1.47197038e-01  7.43507594e-02\n",
      "  8.02835584e-01 -2.72534370e-01  2.12974161e-01 -2.99841344e-01\n",
      "  1.09092444e-01  1.67740732e-02 -2.17143387e-01  2.91242421e-01\n",
      " -4.64292884e-01 -7.77061284e-02 -5.32217324e-04 -2.53388077e-01\n",
      " -4.56654012e-01  4.48337793e-02  1.46994621e-01 -5.60189486e-02\n",
      "  5.35816908e-01 -1.71945035e-01 -2.21151873e-01 -2.86523521e-01\n",
      "  1.93956792e-01 -3.20898473e-01 -3.98076028e-02 -4.99024466e-02\n",
      "  4.09419298e-01  5.01367331e-01 -3.36197585e-01  2.06937909e-01\n",
      "  6.70986474e-02 -9.95583832e-02  1.99774772e-01  3.83335739e-01\n",
      " -8.98042917e-02 -8.98638070e-02  3.69111925e-01 -2.32327491e-01\n",
      " -6.71351135e-01 -2.49169469e-01 -6.41407371e-02  4.24874276e-01\n",
      " -2.82672316e-01  7.01571345e-01 -3.12222123e-01  1.86767429e-01\n",
      " -3.69101763e-02  1.93453282e-01  6.81334376e-01 -2.69366503e-01\n",
      "  3.40505093e-01  8.12633038e-02  1.87529504e-01 -2.26827323e-01\n",
      "  2.50586748e-01  4.04225588e-02 -2.76208282e-01  4.20193076e-02\n",
      "  1.47763714e-02  4.39851791e-01  4.63681996e-01  2.43723527e-01\n",
      "  4.99600172e-03  1.12905228e+00  1.68849468e-01 -6.67445958e-01\n",
      "  1.12252533e-01  2.47946024e-01 -6.79313183e-01 -3.49237621e-01\n",
      "  2.85162926e-01  7.06655085e-02 -2.94713497e-01  5.49941659e-01\n",
      " -1.79720044e-01  1.68138936e-01  1.89042020e+00  3.24290514e-01\n",
      " -7.23305345e-01  4.97679174e-01  5.46997190e-02 -4.38618660e-02\n",
      "  2.46628881e-01 -1.63506165e-01 -5.13744235e-01  4.94269669e-01\n",
      " -2.50799835e-01  3.79410326e-01 -5.32413125e-02  1.86708540e-01\n",
      "  1.18076056e-01  1.04915440e-01 -3.15612018e-01 -4.26356822e-01\n",
      "  1.16378412e-01  4.12877947e-02 -2.24796653e-01  6.72436774e-01\n",
      " -3.16513300e-01 -3.06287378e-01  2.01282263e-01 -6.67668730e-02\n",
      " -9.23356354e-01  7.03714937e-02  4.61335421e-01 -5.64019084e-01\n",
      "  6.56205177e-01  3.60171020e-01 -3.19926828e-01 -3.16192985e-01\n",
      "  1.43252820e-01  3.97173464e-01  1.80957586e-01 -2.25062460e-01\n",
      " -3.27825785e-01 -3.66318911e-01  2.41590619e-01  7.67131209e-01\n",
      "  3.74503940e-01  5.15576184e-01  3.68649751e-01 -5.10744393e-01\n",
      " -1.00730956e-02  5.55835143e-02 -2.34723508e-01 -8.52689445e-02\n",
      "  1.13876939e-01 -1.18125081e-02  1.84917793e-01  2.42112935e-01\n",
      "  4.22261029e-01 -1.94956467e-01  3.36431414e-01 -2.30340138e-01\n",
      " -4.23371375e-01 -6.44000530e-01  2.32446671e-01 -9.36316252e-02\n",
      "  1.04927354e-01  3.57532322e-01 -4.27650511e-01  2.12876663e-01\n",
      " -5.28036594e-01  2.75303662e-01 -2.57640660e-01  2.16159031e-01\n",
      " -3.03590208e-01 -6.46847546e-01  2.21408233e-01 -2.17243478e-01\n",
      "  1.96732223e-01  4.44879711e-01 -1.21876150e-01  3.60692322e-01\n",
      "  1.16085008e-01 -1.72510535e-01 -1.64749436e-02 -2.64722228e-01\n",
      " -2.71086633e-01 -4.17187572e-01 -1.60320520e-01  2.06707641e-01\n",
      " -1.10411428e-01 -3.51015717e-01  2.22063839e-01 -5.87744564e-02\n",
      "  2.11704761e-01  2.05545723e-02 -5.24330378e-01 -2.29838490e-01\n",
      "  2.34263867e-01  1.01719238e-01 -3.53365839e-01 -2.00553343e-01\n",
      " -3.02885890e-01  4.22126681e-01  1.47132233e-01  1.44729242e-02\n",
      "  9.10581797e-02 -4.62097883e-01 -1.51839852e-03  2.38155007e-01\n",
      " -2.98236609e-01 -1.32825091e-01  1.82148427e-01  2.83293873e-01]\n",
      "       rating  \\\n",
      "0         5.0   \n",
      "1         4.0   \n",
      "2         5.0   \n",
      "3         5.0   \n",
      "4         3.0   \n",
      "...       ...   \n",
      "26316     1.0   \n",
      "26317     5.0   \n",
      "26318     5.0   \n",
      "26319     5.0   \n",
      "26320     5.0   \n",
      "\n",
      "                                                                                                   title_x  \\\n",
      "0                                                                           Doesn't Sting or Burn My Eyes!   \n",
      "1                                                                                              Fun to Use!   \n",
      "2                                                                                             Looks Great!   \n",
      "3                                                          Big Bottle of Acetone-Based Nail Polish Remover   \n",
      "4                  This fragrance is neither offensive nor enticing; it is very subtle & lasts a few hours   \n",
      "...                                                                                                    ...   \n",
      "26316  Huge red flags. Website printed on box does not exist. Product arrived opened and label peeing off.   \n",
      "26317                                             If you’re looking for a reason to buy these, here it is!   \n",
      "26318                                                                                        Super simple!   \n",
      "26319                                                                     Just like Queen B braiding hair!   \n",
      "26320                                                                              Perfect hair choice!!!!   \n",
      "\n",
      "                                                                                                                                                                                                                                                                                                                                                                                                                                                                                                                                                                                                                                                                                                                                                                                                                                                                                                                                                                                                                                                                                                                                                                                                                                                                                                                                                                                                                                                                                                                                                                                                                                                                                                 text  \\\n",
      "0                                                                                                                                                                                                                                                                                                                                                                                                                                                                                                                                                                         I am in my late 40's and started using anti-aging products a few years ago. Because I have been using products to work on wrinkles and younger looking skin regularly for the past few years, it's difficult to see new results. This eye cream is a nice creamy consistency. I don't notice any smell from it at all. I am able to apply this to the eye area of both of my eyes with just one dispense from the pump. It absorbs nicely into my skin and keeps my delicate eye skin well hydrated. One thing that I especially like is that it doesn't sting my eyes! I have ultra sensitive eyes and if I sweat, make up and skin care products will often get rubbed into my eyes. Some products cause them to sting or burn. We're having a hot summer here in Georgia and even with sweating, I have not had any issues with it stinging or burning. I've had to stop using some of my favorite beauty products in the past for that problem. I'm very happy with this eye cream so far!<br /><br />*I received this for free in exchange for my honest &amp; unbiased review. My thoughts &amp; opinions are my own.   \n",
      "1      My daughter and I discovered facial sheet masks over the summer and have become fans of them. They are easy and fun to use. This box of Anti-Aging sheet masks comes with 5 masks. Each mask is individually wrapped. When you open up a mask and remove it from the packing, you see that there are 2 layers. One is the sheet mask which is thin and papery like. The other is a plastic type material. The two layers are together, so I put both of them on my face. The other masks that I have used didn't have this plastic layer. I couldn't get it to lay flat on my skin very well, so I peeled the plastic layer off leaving just the paper one. This was what I was more familiar with. That layer was easy to mold to my face. The mask was very cold which felt refreshing. It's very wet - not to the point of dripping off my face, but enough that you want to spread it around more on the mask as it is on your face. It says to leave it on for 15-20 minutes. I opted for the lesser time because my coffee was ready & I didn't want to wait any longer for it! Then you are supposed to rub any left over &#34;goo&#34; (for a lack of a better word) into you skin. I accidently got a little into my eye, but it didn't burn or sting at all, which surprised me. I have very sensitive eyes and was expecting to feel some pain. I regularly use anti-aging products, plus I have only used one of these sheet masks so far, so I don't notice any difference to my skin, but I would definitely add this to my beauty routine.<br /><br />*I purchased these masks at a reduced price for the purpose of trying out & reviewing. My thoughts & opinions are my own.   \n",
      "2                                                                                                                                                                                                                                                                                                                                                                                    I am very happy with my Marrywindix acrylic organizer! I have limited counter space for my cosmetics and beauty products. Prior to ordering this organizer, I had all of my lipsticks & lip glosses shoved in a small drawer. Because they were over crowded, I had difficulties finding the ones that I wanted when I wanted them. Now I can easily see most of my lip products at a quick glance. The organizer is only 6 inches wide and 4 inches deep, so it doesn't take up a whole lot of counter space. The acrylic is sturdy & solid and is easy to clean. Recently I have been looking at acrylic organizers recently in my local stores and they seem to be over priced! This one is bargain!! My teenage daughter tried to claim this one from me, but since it is such a reasonable price, I will probably just go ahead & order her one, too.<br /><br />****Update - I ended up ordering another style of the Marrywindix acrylic organizer for my daughter. This one has drawers in addition to storage on top for brushes & bottles. She LOVES it! It is very well made and looks great! Each drawer comes with a liner to keep things nice and neat.<br /><br />*I received my acrylic organizer from Marrywindix for the purpose of trying out & reviewing. My thoughts & opinions are my own.   \n",
      "3                                                                                                                                                                                                                                                                                                                                                                                                                                                                                                                                                                                                                                                                                                                                                                                                                      Like other nail polish removers, this MOUNTAIN FALLS REGULAR NAIL POLISH REMOVER (for Natural Nails with Vitamin E and Panthenol, 16 Fluid Ounce) is mostly acetone.  It smells like all the other nail polish removers that I’ve tried, and works like them, too.<br /><br />I use nail polish remover to take gummy stuff off my hands and other things.  If you use it this way, it’s important to remember that it can damage synthetic fabrics, wood finishes, and plastic.  Also, when using or storing it, remember that it’s highly flammable, and should NOT be used or stored near fire, flames, or heat.  (See my photo of the bottle label, with all the warnings.)<br /><br />The big 16-oz. bottle is equivalent to two of the regular-size bottles (e.g., [[ASIN:B004X8IFEI Sally Hansen Nail Polish Remover]]) that you find at local grocery and drug stores.   \n",
      "4                                                                                                                                                                                                                                                                                                                                                                                                                                                                                                                                                                                                                                                                                                                                                                                                                                                                                                                                                                                                                                                                                                                                                                                                                                  I wish I loved this. This is a nicely packaged perfume in an attractive bottle with a gold-colored tassel hanging from the side. The scent is neither offensive nor enticing. I can't even describe what it smells like. It is so very subtle but it lasts a few hours.<br /><br />The current price of $44.99 ($49.99 minus $5) is competitively priced for perfume like this but it is not one I would order again as I have to really love it to pay that much.   \n",
      "...                                                                                                                                                                                                                                                                                                                                                                                                                                                                                                                                                                                                                                                                                                                                                                                                                                                                                                                                                                                                                                                                                                                                                                                                                                                                                                                                                                                                                                                                                                                                                                                                                                                                                               ...   \n",
      "26316                                                                                                                                                                                                                                                                                                                                                                                                                                                                                                                                                                                                                                                                                                                                                                                                                                                                                                                                                                                                                                                                                                                                                                                                                                                                                                                                                                                                                                                                             The website printed on the box does not exist. No other website seems to exist to provide information.  Product came with the box open, no type of seal. Label is peeling off. Extremely suspicious, huge red flag.   \n",
      "26317                                                                                                                                                                                                                                                                                                                                                                                                                                                                                                                                                                                                                                                                                                                                                                                                                  I have been on the hunt for the perfect pair of lashes for 9 months now... I’ve had my eyes on these for a couple of months and finally took the plunge and purchased. I was always scared of volume lashes because from my past experiences with them, the band was way too hard to work with. Let me tell you about these mf’in lashes. They’re light, soft, noticeable, durable and hands down the easiest to apply. I am in awe of just how amazing these are. Ticked every one of my boxes; and for the price I feel like I should buy 20 boxes for the off chance they may not be available someday (terrifying thought). I’m not an eyeshadow type of girl but still want to look feminine and these absolutely do the trick. I receive compliments on these every. single. damn. day. I am seriously considering dropping half a paycheck to stock up. I 500% approve.   \n",
      "26318                                                                                                                                                                                                                                                                                                                                                                                                                                                                                                                                                                                                                                                                                                                                                                                                                                                                                                                                                                                                                                                                                                                                                                                                                                                                                                                                                                                                                                                                                                  Works perfect! Took maybe 5 minutes to switch out the old module with the new one. Looks identical to my OEM mod, lights are exact same blue as the rest of the interior lights. Super simple!   \n",
      "26319                                                                                                                                                                                                                                                                                                                                                                                                                                                                                                                                                                                                                                                                                                                                                                                                                                                                                                                                                                                                                                                                                                                                                                                                                                                                                                                                                                                                                                                                                                   This is great. Just like Queen B pre stretched braiding hair. A little bit shorter and not quite as much in a bundle tho. The color is very accurate, looks just like the photo above. Happy!   \n",
      "26320                                                                                                                                                                                                                                                                                                                                                                                                                                                                                                                                                                                                                                                                                                                                                                                                                                                                                                                                                                                                                                                                                                                                                                                                                                                                                                                                                                                                                                                                                                                                                                          Absolutely love!! It hold curls well. It dyed perfectly. Little to no tangling or shedding! Just five stars all around   \n",
      "\n",
      "                                                                                                                                                                                                                                                                                                                                                                                                                                                                                                                                                                                                                                                                                                                                                                                                                                                                                                                                                                                      images_x  \\\n",
      "0                                                                                                                                                                                                                                                                                                                                   [{'attachment_type': 'IMAGE', 'large_image_url': 'https://images-na.ssl-images-amazon.com/images/I/41FMcmkZDLL._SL1600_.jpg', 'medium_image_url': 'https://images-na.ssl-images-amazon.com/images/I/41FMcmkZDLL._SL800_.jpg', 'small_image_url': 'https://images-na.ssl-images-amazon.com/images/I/41FMcmkZDLL._SL256_.jpg'}, {'attachment_type': 'IMAGE', 'large_image_url': 'https://images-na.ssl-images-amazon.com/images/I/41pcNrIv9YL._SL1600_.jpg', 'medium_image_url': 'https://images-na.ssl-images-amazon.com/images/I/41pcNrIv9YL._SL800_.jpg', 'small_image_url': 'https://images-na.ssl-images-amazon.com/images/I/41pcNrIv9YL._SL256_.jpg'}]   \n",
      "1      [{'attachment_type': 'IMAGE', 'large_image_url': 'https://images-na.ssl-images-amazon.com/images/I/51FFKVqctXL._SL1600_.jpg', 'medium_image_url': 'https://images-na.ssl-images-amazon.com/images/I/51FFKVqctXL._SL800_.jpg', 'small_image_url': 'https://images-na.ssl-images-amazon.com/images/I/51FFKVqctXL._SL256_.jpg'}, {'attachment_type': 'IMAGE', 'large_image_url': 'https://images-na.ssl-images-amazon.com/images/I/51U-Jj8nvvL._SL1600_.jpg', 'medium_image_url': 'https://images-na.ssl-images-amazon.com/images/I/51U-Jj8nvvL._SL800_.jpg', 'small_image_url': 'https://images-na.ssl-images-amazon.com/images/I/51U-Jj8nvvL._SL256_.jpg'}, {'attachment_type': 'IMAGE', 'large_image_url': 'https://images-na.ssl-images-amazon.com/images/I/51WbXeRwNwL._SL1600_.jpg', 'medium_image_url': 'https://images-na.ssl-images-amazon.com/images/I/51WbXeRwNwL._SL800_.jpg', 'small_image_url': 'https://images-na.ssl-images-amazon.com/images/I/51WbXeRwNwL._SL256_.jpg'}]   \n",
      "2                                                                                                                                                                                                                                                                                                                                                                                                                                                                                                                                                                                                                                                                         [{'attachment_type': 'IMAGE', 'large_image_url': 'https://images-na.ssl-images-amazon.com/images/I/71x9TGPNYpL.jpg', 'medium_image_url': 'https://images-na.ssl-images-amazon.com/images/I/71x9TGPNYpL._SL800_.jpg', 'small_image_url': 'https://images-na.ssl-images-amazon.com/images/I/71x9TGPNYpL._SL256_.jpg'}]   \n",
      "3                                                                                                                                                                                                                                                                                                                                                                                                                                                                                                                                                                                                                                                                         [{'attachment_type': 'IMAGE', 'large_image_url': 'https://images-na.ssl-images-amazon.com/images/I/71OmgsRmxCL.jpg', 'medium_image_url': 'https://images-na.ssl-images-amazon.com/images/I/71OmgsRmxCL._SL800_.jpg', 'small_image_url': 'https://images-na.ssl-images-amazon.com/images/I/71OmgsRmxCL._SL256_.jpg'}]   \n",
      "4                                                                                                                                                                                                                                                                                                                                                                                                                                                                                                                                                                                                                                                                                                       [{'attachment_type': 'IMAGE', 'large_image_url': 'https://m.media-amazon.com/images/I/61ZRsMPnINL._SL1600_.jpg', 'medium_image_url': 'https://m.media-amazon.com/images/I/61ZRsMPnINL._SL800_.jpg', 'small_image_url': 'https://m.media-amazon.com/images/I/61ZRsMPnINL._SL256_.jpg'}]   \n",
      "...                                                                                                                                                                                                                                                                                                                                                                                                                                                                                                                                                                                                                                                                                                                                                                                                                                                                                                                                                                                        ...   \n",
      "26316                                                                                                                                                                                                                                                                                                                                                 [{'attachment_type': 'IMAGE', 'large_image_url': 'https://images-na.ssl-images-amazon.com/images/I/71+lIPLHBSL.jpg', 'medium_image_url': 'https://images-na.ssl-images-amazon.com/images/I/71+lIPLHBSL._SL800_.jpg', 'small_image_url': 'https://images-na.ssl-images-amazon.com/images/I/71+lIPLHBSL._SL256_.jpg'}, {'attachment_type': 'IMAGE', 'large_image_url': 'https://images-na.ssl-images-amazon.com/images/I/81z9aaorDuL.jpg', 'medium_image_url': 'https://images-na.ssl-images-amazon.com/images/I/81z9aaorDuL._SL800_.jpg', 'small_image_url': 'https://images-na.ssl-images-amazon.com/images/I/81z9aaorDuL._SL256_.jpg'}]   \n",
      "26317                                                                                                                                                                                                                                                                                                                                                 [{'attachment_type': 'IMAGE', 'large_image_url': 'https://images-na.ssl-images-amazon.com/images/I/71RYp6iSvlL.jpg', 'medium_image_url': 'https://images-na.ssl-images-amazon.com/images/I/71RYp6iSvlL._SL800_.jpg', 'small_image_url': 'https://images-na.ssl-images-amazon.com/images/I/71RYp6iSvlL._SL256_.jpg'}, {'attachment_type': 'IMAGE', 'large_image_url': 'https://images-na.ssl-images-amazon.com/images/I/71wIt-CUFpL.jpg', 'medium_image_url': 'https://images-na.ssl-images-amazon.com/images/I/71wIt-CUFpL._SL800_.jpg', 'small_image_url': 'https://images-na.ssl-images-amazon.com/images/I/71wIt-CUFpL._SL256_.jpg'}]   \n",
      "26318                                                                                                                                                                                                                                                                                                                                                                                                                                                                                                                                                                                                                                                                     [{'attachment_type': 'IMAGE', 'large_image_url': 'https://images-na.ssl-images-amazon.com/images/I/719DHG1W3gL.jpg', 'medium_image_url': 'https://images-na.ssl-images-amazon.com/images/I/719DHG1W3gL._SL800_.jpg', 'small_image_url': 'https://images-na.ssl-images-amazon.com/images/I/719DHG1W3gL._SL256_.jpg'}]   \n",
      "26319                                                                                                                                                                                                                                                                                                                               [{'attachment_type': 'IMAGE', 'large_image_url': 'https://images-na.ssl-images-amazon.com/images/I/81AudihFZTL._SL1600_.jpg', 'medium_image_url': 'https://images-na.ssl-images-amazon.com/images/I/81AudihFZTL._SL800_.jpg', 'small_image_url': 'https://images-na.ssl-images-amazon.com/images/I/81AudihFZTL._SL256_.jpg'}, {'attachment_type': 'IMAGE', 'large_image_url': 'https://images-na.ssl-images-amazon.com/images/I/91aJ+0p6UVL._SL1600_.jpg', 'medium_image_url': 'https://images-na.ssl-images-amazon.com/images/I/91aJ+0p6UVL._SL800_.jpg', 'small_image_url': 'https://images-na.ssl-images-amazon.com/images/I/91aJ+0p6UVL._SL256_.jpg'}]   \n",
      "26320  [{'attachment_type': 'IMAGE', 'large_image_url': 'https://images-na.ssl-images-amazon.com/images/I/71KbVMbHeiL._SL1600_.jpg', 'medium_image_url': 'https://images-na.ssl-images-amazon.com/images/I/71KbVMbHeiL._SL800_.jpg', 'small_image_url': 'https://images-na.ssl-images-amazon.com/images/I/71KbVMbHeiL._SL256_.jpg'}, {'attachment_type': 'IMAGE', 'large_image_url': 'https://images-na.ssl-images-amazon.com/images/I/71WGtdmYCVL._SL1600_.jpg', 'medium_image_url': 'https://images-na.ssl-images-amazon.com/images/I/71WGtdmYCVL._SL800_.jpg', 'small_image_url': 'https://images-na.ssl-images-amazon.com/images/I/71WGtdmYCVL._SL256_.jpg'}, {'attachment_type': 'IMAGE', 'large_image_url': 'https://images-na.ssl-images-amazon.com/images/I/71zybs2u9qL._SL1600_.jpg', 'medium_image_url': 'https://images-na.ssl-images-amazon.com/images/I/71zybs2u9qL._SL800_.jpg', 'small_image_url': 'https://images-na.ssl-images-amazon.com/images/I/71zybs2u9qL._SL256_.jpg'}]   \n",
      "\n",
      "             asin parent_asin                       user_id      timestamp  \\\n",
      "0      B01CO73OIQ  B01CO73OIQ  AHV6QCNBJNSGLATP56JAWJ3C4G2A  1467123218000   \n",
      "1      B015ZXMSFQ  B015ZXMSFQ  AHV6QCNBJNSGLATP56JAWJ3C4G2A  1455464933000   \n",
      "2      B010B0S67C  B010B0S67C  AHV6QCNBJNSGLATP56JAWJ3C4G2A  1442016268000   \n",
      "3      B07S8F3LRC  B07S8F3LRC  AEYGPUCRKH7G4VM22FM3VAKSQ23Q  1577295338919   \n",
      "4      B0B8F6MWFJ  B0B8F6MWFJ  AFXF3EGQTQDXMRLDWFU7UBFQZB7Q  1666268588427   \n",
      "...           ...         ...                           ...            ...   \n",
      "26316  B07YF5CH4G  B07YF5CH4G  AEUB5ZWAR3TECNESU6UCKQLD77FQ  1581287565083   \n",
      "26317  B07Q7FXWCY  B07Q7FXWCY  AFDVJMYGJZJ35XTWAIGVUZMXHDGA  1570688420824   \n",
      "26318  B07HC84V8D  B07HC84V8D  AECZXE5ELSQIX4C2RKA2Z36HNHZA  1561144994576   \n",
      "26319  B08144D28M  B08144D28M  AEAPDTDZCYVGL6FNVOZNMZRSWNTA  1618072412265   \n",
      "26320  B00H1L4RAU  B00H1L4RAU  AHMU2NL2V6PT7KCAR6FNCM2GAYSA  1433552959000   \n",
      "\n",
      "       helpful_vote  verified_purchase main_category  \\\n",
      "0                 8                  1    All Beauty   \n",
      "1                 3                  0    All Beauty   \n",
      "2                 1                  0    All Beauty   \n",
      "3                 1                  0    All Beauty   \n",
      "4                 1                  0    All Beauty   \n",
      "...             ...                ...           ...   \n",
      "26316             2                  1    All Beauty   \n",
      "26317            84                  1    All Beauty   \n",
      "26318             3                  1    All Beauty   \n",
      "26319             1                  1    All Beauty   \n",
      "26320             9                  1    All Beauty   \n",
      "\n",
      "                                                                                                                                                                                                      title_y  \\\n",
      "0      Anti Wrinkle Eye Cream by VEBELLE Anti Aging Company - Top Rated Under Eye, Crows Feet Moisturizer Treatment, Natural Organic Instant Moisturizing & Hydrating, Best for Fine Lines & Wrinkles - 1.7oz   \n",
      "1                 Anti Aging Facial Masks by ERH with Intensive Care Serum to Help Reduce the Appearance of Fine Lines and Wrinkles. New Version Exclusive to Amazon with Expanded Mask Coverage. 5-Mask Pack   \n",
      "2       Blackhead Mask,Sky-shop Facial Mask Nose Mask Face Mask Blackhead Cream with Activated Charcoal Deep Pore Cleanse, Peel Off Deep Skin Clean Purifying Face Mask for Acne and Blackheads (100g) (110G)   \n",
      "3                                                                                                   Mountain Falls Regular Nail Polish Remover for Natural Nails with Vitamin E and Panthenol, 16 Fluid Ounce   \n",
      "4      Folie for Women EDP - Eau De Parfum 100ml(3.4 oz) | Saffron, Red Fruits, Hedione, Jasmine, Moss, Amber | Perfume, Perfumes for women, Women's fragrances, Fragrance, Womens perfume | by Intense Elite   \n",
      "...                                                                                                                                                                                                       ...   \n",
      "26316            Verita Peptide Mascara - All Natural Long Lasting Lash Lengthening And Volume Enhancing Mascara - Define Nourish And Conditions Encouraging Healthy Growth Perfect For Noticeable Eye Makeup   \n",
      "26317                                                                                                                    False Eyelashes 3D Lashes Pack, Fur Long Lashes Reusable Soft Fake Eyelashes 7 Pairs   \n",
      "26318                                                                                             WeifangInspire Dual USB Interface Module for Ford Apple Carplay SYNC3,USB Interface Hub, HC3Z-19A387-B Blue   \n",
      "26319                                                   24 '' Pre-stretched Braiding Hair Original Kanekalon Braid Hair Extensions Yaki Texture Crochet Twist Hair Braids without Irritation 7 bundles (99J#)   \n",
      "26320                                          Eayon Hair® 100% Virgin Brazilian Weave for Cheap Body Wave 3pcs 10\"-26\" and Virgin Brazilian Wavy Hair Closure (4 * 4) Natural Color (18 20 22 + 12\" Closure)   \n",
      "\n",
      "       average_rating  rating_number  \\\n",
      "0                 3.1             20   \n",
      "1                 3.2             87   \n",
      "2                 3.6             41   \n",
      "3                 4.3             71   \n",
      "4                 3.7             31   \n",
      "...               ...            ...   \n",
      "26316             3.1             58   \n",
      "26317             4.2            936   \n",
      "26318             4.5            260   \n",
      "26319             4.3            108   \n",
      "26320             3.4             21   \n",
      "\n",
      "                                                                                                                                                                                                                                                                                                                                                                                                                                                                                                                                                                                                                                                                                                                                                                                                                                                                                                                                                                                                                                                                                                                                                                                                                                                                                                                                                                                                                                                                                                                                                                                                                                                                                                                                                                                                                                                                                                                                                                                                                                                                                                                                                                                                                                                                                                                                                                                                                                                                                   features  \\\n",
      "0                                                                                                                                                                                                                                                                                                                                                                                                                                                                                                                                                                                                                                                                                                                                                                                                                                                                                                                                                                                                                                                                                                                                                                                                                                                                                                                                                                                                                                                                                                                                                                                                                                                                                                                                                                                                                                                                                                                                                                                                                                                                                                                                                                                                                                                                                                                                                                                                                                                                                        []   \n",
      "1                                                                                                                                                                                                                                                                                                                                                                                                                                                                                                                                                                                                                                                                                                                                                                                                                                                                                                                                                                                                                                                                                                                                                                                                                                                                                                                                                                                                                                                                                                                                                                                                                                                                                                                                                                                                                                                                                                                                                                                                 [PAMPER YOURSELF - Relax and spend 15-20 minutes of quality ‘me’ time with these age-defying masks, PLANT-DERIVED INGREDIENTS - Natural, hypoallergenic, oil-free, paraben-free, not tested on animals, QUICK & EFFECTIVE ABSORPTION - New and upgraded version exclusively available on Amazon.com, SUITABLE FOR ALL SKIN TYPES, even oily, acne-prone, dry or sensitive skin, CONVENIENT - No need to fuss with applicators etc., simply put the mask sheet on and let it work wonders]   \n",
      "2                                                                                                                                                                                                                                                                                                                                                                                                                                                                                                                                                                                                                                                                                                                                                                                                                                                                                                                                                                                                                                                                                                                                                                                                                                                                                                                                                                                                                                                                                                                                                                                                                                                                                                                                                                                                                                                                                                                                                                                                                                                                                                                                                                                                                                                                                                                                                                                                                                                                                        []   \n",
      "3                                                                                                                                                                                                                                                                                                                                                                                                                                                                                                                                                                                                                                                                                                                                                                                                                                                                                                                                                                                                                                                                                                                                                                                                                                                                                                                                                                                                                                                                                                                                                                                                                                                                                                                                                                                                                                                                                                                                                                                                                                                                                                                                                                                                                                                                                                                                                                                  [Salon Formula, Professional, use on natural nails, With Panthenol and Vitamin E, not tested on animals]   \n",
      "4      [BLEND: A warm and sweet fragrance for women with the aroma of royalty. Folie opens with the etherealism of saffron notes along with the playfulness of red fruits, proceeds to floral notes of jasmine and Hedione on a sweet, warm, and gentle base of moss and amber. This is a fragrance for all boss ladies who carry themselves with pride of a go-getter yet manifest an affectionate womanly warmth. ate womanly warmth., FRUITY: Red Fruits and Jasmine provide a foundation which is rich, fruity, and resinous with the perfect subtle dose of sweetness. It's a floral scent that's perfect for warmer days., FLORAL: This classic floral scent has warm and inviting twist. The sweet notes of saffron and red fruits blend the floral Hedione and jasmine together for a light and diffusive scent. Hedione lends a lovely light, floral note and gives natural smoothness and radiance. Folie does bestow presence, noticeability, and diffusion., MOSS: Moss is a spicy, woody and citrus scent with a wet green earthy vibe and a bit of dry sweetness. Folie is the perfect blend of florals, spices and oakmoss. Oakmoss infuses warmth, intensity and depth to an amber or chypre fragrance. Its aroma is very faceted. A spicy twist of Saffron provides the perfect counterpoint., AMBER: At the base of the perfume, bitter moss sits alongside precious ambergris. In the world of perfumery, “amber” is not a unique ingredient, but it's the name given to a fragrance accord, often built up of resinous ingredients like benzoin, vanilla and tonka bean. The scent of amber is rich and powerful, adding depth and fullness to a fragrance., SILLAGE & PERFORMANCE: Illuminated by sweet florals like Saffron and Jasmine, Red Fruits, and Hedione it smells great. Folie gives off strong and powerful smell and lasts well over time. A little goes a long way and it remains fragrant for hours after application. It has a great sillage rating while it stays close to the skin., BOTTLE: It was designed as a golden round glass bottle with a golden designed cap giving the masterful attention to every aspect of development and packaging. It lures the consumer into the luxurious cosmos of the fragrance captured within the bottle. Imagine the feeling of curling up by the fireplace. Now put it in a bottle. That's what this fragrance is., TOP NOTES: Saffron, Red Fruits, MIDDLE NOTES: Hedione, Jasmine, BASE NOTES: Moss, Amber]   \n",
      "...                                                                                                                                                                                                                                                                                                                                                                                                                                                                                                                                                                                                                                                                                                                                                                                                                                                                                                                                                                                                                                                                                                                                                                                                                                                                                                                                                                                                                                                                                                                                                                                                                                                                                                                                                                                                                                                                                                                                                                                                                                                                                                                                                                                                                                                                                                                                                                                                                                                                                     ...   \n",
      "26316                                                                                                                                                                                                                                                                                                                                                                                                                                                                                                                                                                                                                                                                                                                                                                                                                                                                                                                                                                                                                                                                                                                                                                                                                                                                                                                                                                                                                                                                                                                                                                                                                                                                                                                                                                                                                                                                                                                                                                                                                                                                                                                                                                                                                                                                                                                                                                                                                                                                                    []   \n",
      "26317                                                                                                                                                                                                                                                                                                                                                                                                                                                                                                                                                                                                                                                                                                                                                                                                                                                                                                                                                                                                                                                                                                                                                                                                                                                                                                                                                                                                                                                                                                                                                                                                                                                                                                                                                                                                                                                                                                                                                                                                                                                                                                                                                                                                                                                                                                                                                                                                                                                                                    []   \n",
      "26318                                                                                                                                                                                                                                                                                                                                                                                                                                                                                                                                                                                                                                                                                                                                                                                                                                                                                                                                                                                                                                                                                                                                                                                                                                                                                                                                                                                                                                                                                                                                                                                                                                                                                                                                                                                                                                                                                                                                                                                                                                                                                                                                                                                                                                                                                                                                                                                                                                                                                    []   \n",
      "26319                                                                                                                                                                                                                                                                                                                                                                                                                                                                                                                                                                                                                                                                                                                                                                                                                                                                                                                                                                                                                                                                                                                                                                                                                                                                                                                                                                                                                                                                                                                                                                                                                                                                                                                                                                                                                                                                                                                                                                                                                                                                                                                                                                                                                                                                                                                                                                                                                                                                                    []   \n",
      "26320                                                                                                                                                                                                                                                                                                                                                                                                                                                                                                                                                                                                                                                                                                                                                                                                                                                                                                                                                                                                                                                                                                                                                                                                                                                                                                                                                                                                                                                                                                                                                                                                                                                                                                                                                                                                                                                                                                                                                                                                                                                                                                                                                                                                                                                                                                                                                                                                                                                                                    []   \n",
      "\n",
      "                                                                                                                                                                                                                                                                                                                                                                                                                                                                                                                                                                                                                                                                                                                                                                                                                                                                                                                                                                                                                                                                                                                                                                                                                                                                                                                                                                                                                                                                                                                                                                                                                                                                                                             description  \\\n",
      "0                                                                                                                                                                                                                                                                                                                                                                                                                                                                                                                                                                                                                                                                                                                                                                                                                                                                                                                                                                                                                                                                                                                                                                                                                                                                                                                                                                                                                                                                                                                                                                                                                                                                                                                     []   \n",
      "1      [Love going to the spa?, Chances are you don't get there nearly as often as you'd like. On those special occasions when you do make it to a spa, being pampered by treating your body and skin to the finest botanicals on Earth...now THAT feeling is indescribable., Well, now you can enjoy the relaxing and healthful infusion of the planet's finest right in the comfort of your own home., Introducing the ERH Anti-aging Facial Mask. This all natural, botanically derived facial mask basks your face in intensive care essence containing Argireline, Q10, ginkgo biloba extract, vitamin B5, and gold to help reduce fine lines and wrinkles, replenish moisture to dehydrated areas,, giving you a smoother, more youthful appearance with regular use, ., You'll get a deep facial cleanse and when you're done, you'll feel refreshed and revitalized. And your skin will look and feel GREAT!, The Anti-aging Facial Mask by ERH is great for any skin type; whether you have dry skin, sensitive, acne-prone or oily skin., ERH products are made with love & care in Taiwan with certified organic ingredients sourced from the US. ERH Masks use plant-derived ingredients and never contain any of the 26 harmful fragrance allergens regulated by the European Union nor any other ingredients that can cause skin dysfunction and/or are harmful to health., This amazing spa in a box experience is backed by a 30-day Satisfaction Guarantee. We know you’ll love it. If for any reason you’re not satisfied, simply send us an email and we’ll stand by our commitment 100%., Click the 'Add to Cart' button now to take care of your skin and give yourself the pampering you deserve.]   \n",
      "2                                                                                                                                                                                                                                                                                                                                                                                                                                                                                                                                                                                                                                                                                                                                                                                                                                                                                                                                                                                                                                                                                                                                                                                                                                                                                                                                                                                                                                                                                                                                                                                                                                                                                                                     []   \n",
      "3                                                                                                                                                                                                                                                                                                                                                                                                                                                                                                                                                                                                                                                                                                                                                                                                                                                                                                                                                                                                                                                                                                                                                                                                                                                                                                                                                                                                                                                                                                                               [This nail polish remover is formulated to help soften cuticles and add strength and resiliency for more beautiful nails. Trust this product to quickly and gently care for your nails.]   \n",
      "4                                                                                                                                                                                                                                                                                                                                                                                                                                                                                                                                                                                                                                                                                                                                                                                                                                                                                                                                                                                                                                                                                                                                                                                                                                                                                                                                                                                                                                                                                                                                                                                                                                                                                                                     []   \n",
      "...                                                                                                                                                                                                                                                                                                                                                                                                                                                                                                                                                                                                                                                                                                                                                                                                                                                                                                                                                                                                                                                                                                                                                                                                                                                                                                                                                                                                                                                                                                                                                                                                                                                                                                                  ...   \n",
      "26316                                                                                                                                                                                                                                                                                                                                                                                                                                                                                                                                                                                                                                                                                                                                                                                                                                                                                                                                                                                                                                                                                                                                                                                                                                                                                                                                                                                                                                                                                                                                                                                                                                                                                                                 []   \n",
      "26317                                                                                                                                                                                                                                                                                                                                                                                                                                                                                                                                                                                                                                                                                                                                                                                                                                                                                                                                                                                                                                                                                                                                                                                                                                                                                                                                                                                                                                                                                                                                                                                                                                                                                                                 []   \n",
      "26318                                                                                                                                                                                                                                                                                                                                                                                                                                                                                                                                                                                                                                                                                                                                                                                                                                                                                                                                                                                                                                                                                                                                                                                                                                                                                                                                                                                                                                                                                                                                                                                                                                                                                                                 []   \n",
      "26319                                                                                                                                                                                                                                                                                                                                                                                                                                                                                                                                                                                                                                                                                                                                                                                                                                                                                                                                                                                                                                                                                                                                                                                                                                                                                                                                                                                                                                                                                                                                                                                                                                                                                                                 []   \n",
      "26320                                                                                                                                                                                                                                                                                                                                                                                                                                                                                                                                                                                                                                                                                                                                                                                                                                                                                                                                                                                                                                                                                                                                                                                                                                                                                                                                                                                                                                                                                                                                                                                                                                                                                                                 []   \n",
      "\n",
      "      price  \\\n",
      "0      None   \n",
      "1      None   \n",
      "2      None   \n",
      "3      None   \n",
      "4      49.9   \n",
      "...     ...   \n",
      "26316  None   \n",
      "26317  None   \n",
      "26318  None   \n",
      "26319  None   \n",
      "26320  None   \n",
      "\n",
      "                                                                                                                                                                                                                                                                                                                                                                                                                                                                                                                                                                                                                                                                                                                                                                                                                                                                                                                                                                                                                                                                                                                                                                                                                                                                                                                                                                                                                                                                                                                                                                                                                                                                                                                                                                                                                   images_y  \\\n",
      "0                                                                {'hi_res': ['https://m.media-amazon.com/images/I/81M4MTU7+UL._SL1500_.jpg', 'https://m.media-amazon.com/images/I/815xBxUjoaL._SL1500_.jpg', 'https://m.media-amazon.com/images/I/812KVNzlFTL._SL1500_.jpg', 'https://m.media-amazon.com/images/I/81FjD1g-h8L._SL1500_.jpg', 'https://m.media-amazon.com/images/I/81HkGs+3lAL._SL1500_.jpg', 'https://m.media-amazon.com/images/I/71SZph6yxtL._SL1332_.jpg', 'https://m.media-amazon.com/images/I/81eyP-dTBtL._SL1500_.jpg', 'https://m.media-amazon.com/images/I/71SopVmZ+8L._SL1500_.jpg', None], 'large': ['https://m.media-amazon.com/images/I/51MaIqe64PL.jpg', 'https://m.media-amazon.com/images/I/51B-P6Xs9uL.jpg', 'https://m.media-amazon.com/images/I/51n2CvBT7sL.jpg', 'https://m.media-amazon.com/images/I/51Voq-coJ9L.jpg', 'https://m.media-amazon.com/images/I/61yqD-Xeh1L.jpg', 'https://m.media-amazon.com/images/I/51oBV9mCvbL.jpg', 'https://m.media-amazon.com/images/I/51xcvv-EszL.jpg', 'https://m.media-amazon.com/images/I/41R7Q3VL7DL.jpg', 'https://m.media-amazon.com/images/I/51I2AHnxvoL.jpg'], 'thumb': ['https://m.media-amazon.com/images/I/51MaIqe64PL._SS40_.jpg', 'https://m.media-amazon.com/images/I/51B-P6Xs9uL._SS40_.jpg', 'https://m.media-amazon.com/images/I/51n2CvBT7sL._SS40_.jpg', 'https://m.media-amazon.com/images/I/51Voq-coJ9L._SS40_.jpg', 'https://m.media-amazon.com/images/I/61yqD-Xeh1L._SS40_.jpg', 'https://m.media-amazon.com/images/I/51oBV9mCvbL._SS40_.jpg', 'https://m.media-amazon.com/images/I/51xcvv-EszL._SS40_.jpg', 'https://m.media-amazon.com/images/I/41R7Q3VL7DL._SS40_.jpg', 'https://m.media-amazon.com/images/I/51I2AHnxvoL._SS40_.jpg'], 'variant': ['MAIN', 'PT01', 'PT02', 'PT03', 'PT04', 'PT05', 'PT06', 'PT07', 'PT08']}   \n",
      "1      {'hi_res': ['https://m.media-amazon.com/images/I/61C+nlCFSaL._SL1000_.jpg', 'https://m.media-amazon.com/images/I/61E-N-6otrL._SL1000_.jpg', 'https://m.media-amazon.com/images/I/81pAR5lhPZL._SL1500_.jpg', 'https://m.media-amazon.com/images/I/81kYnJ2me3L._SL1500_.jpg', 'https://m.media-amazon.com/images/I/81TNAsoc7VL._SL1500_.jpg', 'https://m.media-amazon.com/images/I/818hRieJdEL._SL1500_.jpg', 'https://m.media-amazon.com/images/I/819V43srhOL._SL1500_.jpg', 'https://m.media-amazon.com/images/I/81MjrdfMInL._SL1500_.jpg', 'https://m.media-amazon.com/images/I/81Il7Nwwp4L._SL1500_.jpg'], 'large': ['https://m.media-amazon.com/images/I/51Nee0XSI6L.jpg', 'https://m.media-amazon.com/images/I/41PVruDdHLL.jpg', 'https://m.media-amazon.com/images/I/51VFIKULbeL.jpg', 'https://m.media-amazon.com/images/I/51iUZY60u8L.jpg', 'https://m.media-amazon.com/images/I/51hG18xCJrL.jpg', 'https://m.media-amazon.com/images/I/519WgMTeIbL.jpg', 'https://m.media-amazon.com/images/I/51gWNaqP4xL.jpg', 'https://m.media-amazon.com/images/I/51ITunIgogL.jpg', 'https://m.media-amazon.com/images/I/51dEEiR75DL.jpg'], 'thumb': ['https://m.media-amazon.com/images/I/51Nee0XSI6L._SS40_.jpg', 'https://m.media-amazon.com/images/I/41PVruDdHLL._SS40_.jpg', 'https://m.media-amazon.com/images/I/51VFIKULbeL._SS40_.jpg', 'https://m.media-amazon.com/images/I/51iUZY60u8L._SS40_.jpg', 'https://m.media-amazon.com/images/I/51hG18xCJrL._SS40_.jpg', 'https://m.media-amazon.com/images/I/519WgMTeIbL._SS40_.jpg', 'https://m.media-amazon.com/images/I/51gWNaqP4xL._SS40_.jpg', 'https://m.media-amazon.com/images/I/51ITunIgogL._SS40_.jpg', 'https://m.media-amazon.com/images/I/51dEEiR75DL._SS40_.jpg'], 'variant': ['MAIN', 'PT01', 'PT02', 'PT03', 'PT04', 'PT05', 'PT06', 'PT07', 'PT08']}   \n",
      "2                                                                                                                                                                                                                                                                                                                                                                                                                                                                                                                                                                                                                                                                                                                                                                                                                                                                                                                                                                                                                                                                                                                                                                                    {'hi_res': ['https://m.media-amazon.com/images/I/71gTKh0CsbL._SL1200_.jpg', 'https://m.media-amazon.com/images/I/61E-AlvrKlL._SL1200_.jpg', 'https://m.media-amazon.com/images/I/71g9QPvoUtL._SL1200_.jpg'], 'large': ['https://m.media-amazon.com/images/I/51Z9pbSrB3L.jpg', 'https://m.media-amazon.com/images/I/41jq12SCeNL.jpg', 'https://m.media-amazon.com/images/I/51Dq-t4VlZL.jpg'], 'thumb': ['https://m.media-amazon.com/images/I/51Z9pbSrB3L._SS40_.jpg', 'https://m.media-amazon.com/images/I/41jq12SCeNL._SS40_.jpg', 'https://m.media-amazon.com/images/I/51Dq-t4VlZL._SS40_.jpg'], 'variant': ['MAIN', 'PT01', 'PT04']}   \n",
      "3                                                                                                                                                                                                                                                                                                                                                                                                                                                                                                                                                                                                                                                                                                                                                                                                                                                                                                                                                                                       {'hi_res': ['https://m.media-amazon.com/images/I/71xxC236hDL._SL1500_.jpg', 'https://m.media-amazon.com/images/I/81-10OeqX4L._SL1500_.jpg', 'https://m.media-amazon.com/images/I/61SOT9upLvL._SL1500_.jpg', 'https://m.media-amazon.com/images/I/61dWuZWUpfL._SL1500_.jpg'], 'large': ['https://m.media-amazon.com/images/I/31QW+FCtweL.jpg', 'https://m.media-amazon.com/images/I/31L6tale1ZL.jpg', 'https://m.media-amazon.com/images/I/41KtYhJB9+L.jpg', 'https://m.media-amazon.com/images/I/51T2VvOtKDL.jpg'], 'thumb': ['https://m.media-amazon.com/images/I/31QW+FCtweL._SS40_.jpg', 'https://m.media-amazon.com/images/I/31L6tale1ZL._SS40_.jpg', 'https://m.media-amazon.com/images/I/41KtYhJB9+L._SS40_.jpg', 'https://m.media-amazon.com/images/I/51T2VvOtKDL._SS40_.jpg'], 'variant': ['MAIN', 'BACK', 'PT01', 'PT02']}   \n",
      "4                                                                {'hi_res': ['https://m.media-amazon.com/images/I/61LD34XkqIL._SL1080_.jpg', 'https://m.media-amazon.com/images/I/51uQ-lVf3RL._SL1080_.jpg', 'https://m.media-amazon.com/images/I/51tbHFxG3nL._SL1080_.jpg', 'https://m.media-amazon.com/images/I/51cqW5SMpFL._SL1080_.jpg', None, 'https://m.media-amazon.com/images/I/61NaM2yJRoL._SL1080_.jpg', 'https://m.media-amazon.com/images/I/81QJEriZ86L._SL1500_.jpg', 'https://m.media-amazon.com/images/I/61KliNl5gHL._SL1080_.jpg', 'https://m.media-amazon.com/images/I/51yww9BTlGL._SL1500_.jpg'], 'large': ['https://m.media-amazon.com/images/I/41R8G4j+CgL.jpg', 'https://m.media-amazon.com/images/I/31dY7jXm25L.jpg', 'https://m.media-amazon.com/images/I/412--Rx-iIL.jpg', 'https://m.media-amazon.com/images/I/31IhmGZztnL.jpg', 'https://m.media-amazon.com/images/I/51+6b-kEylL.jpg', 'https://m.media-amazon.com/images/I/51zB5K3XiCL.jpg', 'https://m.media-amazon.com/images/I/417qJNEtsbL.jpg', 'https://m.media-amazon.com/images/I/41w9qR6MCHL.jpg', 'https://m.media-amazon.com/images/I/31P5WQxFudL.jpg'], 'thumb': ['https://m.media-amazon.com/images/I/41R8G4j+CgL._SS40_.jpg', 'https://m.media-amazon.com/images/I/31dY7jXm25L._SS40_.jpg', 'https://m.media-amazon.com/images/I/412--Rx-iIL._SS40_.jpg', 'https://m.media-amazon.com/images/I/31IhmGZztnL._SS40_.jpg', 'https://m.media-amazon.com/images/I/51+6b-kEylL._SS40_.jpg', 'https://m.media-amazon.com/images/I/51zB5K3XiCL._SS40_.jpg', 'https://m.media-amazon.com/images/I/417qJNEtsbL._SS40_.jpg', 'https://m.media-amazon.com/images/I/41w9qR6MCHL._SS40_.jpg', 'https://m.media-amazon.com/images/I/31P5WQxFudL._SS40_.jpg'], 'variant': ['MAIN', 'PT01', 'PT02', 'PT03', 'PT04', 'PT05', 'PT06', 'PT07', 'PT08']}   \n",
      "...                                                                                                                                                                                                                                                                                                                                                                                                                                                                                                                                                                                                                                                                                                                                                                                                                                                                                                                                                                                                                                                                                                                                                                                                                                                                                                                                                                                                                                                                                                                                                                                                                                                                                                                                                                                                                     ...   \n",
      "26316                                                                                                                                                                                                                                                                                                                                                                                            {'hi_res': ['https://m.media-amazon.com/images/I/51a9MfsxzHL._SL1000_.jpg', 'https://m.media-amazon.com/images/I/61h9nV3gShL._SL1000_.jpg', 'https://m.media-amazon.com/images/I/615qZcw90fL._SL1000_.jpg', 'https://m.media-amazon.com/images/I/61oGUhQlelL._SL1000_.jpg', 'https://m.media-amazon.com/images/I/61feMAkpWWL._SL1000_.jpg', 'https://m.media-amazon.com/images/I/612v7zuNi5L._SL1000_.jpg', 'https://m.media-amazon.com/images/I/7116HFOD4VL._SL1000_.jpg'], 'large': ['https://m.media-amazon.com/images/I/417bWM5GNOL.jpg', 'https://m.media-amazon.com/images/I/51USflHsvUL.jpg', 'https://m.media-amazon.com/images/I/51axeF6MZJL.jpg', 'https://m.media-amazon.com/images/I/51MGf3iV43L.jpg', 'https://m.media-amazon.com/images/I/515XuvWv-lL.jpg', 'https://m.media-amazon.com/images/I/51XdjMk7L0L.jpg', 'https://m.media-amazon.com/images/I/51CONiqeVuL.jpg'], 'thumb': ['https://m.media-amazon.com/images/I/417bWM5GNOL._SS40_.jpg', 'https://m.media-amazon.com/images/I/51USflHsvUL._SS40_.jpg', 'https://m.media-amazon.com/images/I/51axeF6MZJL._SS40_.jpg', 'https://m.media-amazon.com/images/I/51MGf3iV43L._SS40_.jpg', 'https://m.media-amazon.com/images/I/515XuvWv-lL._SS40_.jpg', 'https://m.media-amazon.com/images/I/51XdjMk7L0L._SS40_.jpg', 'https://m.media-amazon.com/images/I/51CONiqeVuL._SS40_.jpg'], 'variant': ['MAIN', 'PT01', 'PT02', 'PT03', 'PT04', 'PT05', 'PT06']}   \n",
      "26317                                                                                                                                                                                                                                                                                                                                                                                            {'hi_res': ['https://m.media-amazon.com/images/I/717-IluHVHL._SL1500_.jpg', 'https://m.media-amazon.com/images/I/71j5i44ts9L._SL1346_.jpg', 'https://m.media-amazon.com/images/I/71wNmR5DFoL._SL1500_.jpg', 'https://m.media-amazon.com/images/I/715P5TDZAWL._SL1500_.jpg', 'https://m.media-amazon.com/images/I/71medmwJrqL._SL1500_.jpg', 'https://m.media-amazon.com/images/I/71Ha84LxlWL._SL1500_.jpg', 'https://m.media-amazon.com/images/I/71AJDcdI2TL._SL1500_.jpg'], 'large': ['https://m.media-amazon.com/images/I/51R2DckT0tL.jpg', 'https://m.media-amazon.com/images/I/51gK+wwJlgL.jpg', 'https://m.media-amazon.com/images/I/41zkE4Q0iKL.jpg', 'https://m.media-amazon.com/images/I/51yob56GyeL.jpg', 'https://m.media-amazon.com/images/I/51IMR2HwHJL.jpg', 'https://m.media-amazon.com/images/I/51wcwtXhDLL.jpg', 'https://m.media-amazon.com/images/I/51BGKmNZJ7L.jpg'], 'thumb': ['https://m.media-amazon.com/images/I/51R2DckT0tL._SS40_.jpg', 'https://m.media-amazon.com/images/I/51gK+wwJlgL._SS40_.jpg', 'https://m.media-amazon.com/images/I/41zkE4Q0iKL._SS40_.jpg', 'https://m.media-amazon.com/images/I/51yob56GyeL._SS40_.jpg', 'https://m.media-amazon.com/images/I/51IMR2HwHJL._SS40_.jpg', 'https://m.media-amazon.com/images/I/51wcwtXhDLL._SS40_.jpg', 'https://m.media-amazon.com/images/I/51BGKmNZJ7L._SS40_.jpg'], 'variant': ['MAIN', 'PT01', 'PT02', 'PT03', 'PT04', 'PT05', 'PT06']}   \n",
      "26318                                                                                                                                                                                                                                                                                                                                                                                            {'hi_res': ['https://m.media-amazon.com/images/I/61ZQtjELyBL._SL1000_.jpg', 'https://m.media-amazon.com/images/I/51svryRwSzL._SL1000_.jpg', 'https://m.media-amazon.com/images/I/513Ok6ae+BL._SL1000_.jpg', 'https://m.media-amazon.com/images/I/61aOscOipxL._SL1200_.jpg', 'https://m.media-amazon.com/images/I/71NVPeDZOHL._SL1500_.jpg', 'https://m.media-amazon.com/images/I/71-Cqu7afYL._SL1500_.jpg', 'https://m.media-amazon.com/images/I/61-QtTHSr0L._SL1500_.jpg'], 'large': ['https://m.media-amazon.com/images/I/41tKH4QjwNL.jpg', 'https://m.media-amazon.com/images/I/316d3B7dMLL.jpg', 'https://m.media-amazon.com/images/I/41GwLO6DeDL.jpg', 'https://m.media-amazon.com/images/I/417HlAeQplL.jpg', 'https://m.media-amazon.com/images/I/41reaI06vTL.jpg', 'https://m.media-amazon.com/images/I/41CHXi7IULL.jpg', 'https://m.media-amazon.com/images/I/41L6u8fAy3L.jpg'], 'thumb': ['https://m.media-amazon.com/images/I/41tKH4QjwNL._SS40_.jpg', 'https://m.media-amazon.com/images/I/316d3B7dMLL._SS40_.jpg', 'https://m.media-amazon.com/images/I/41GwLO6DeDL._SS40_.jpg', 'https://m.media-amazon.com/images/I/417HlAeQplL._SS40_.jpg', 'https://m.media-amazon.com/images/I/41reaI06vTL._SS40_.jpg', 'https://m.media-amazon.com/images/I/41CHXi7IULL._SS40_.jpg', 'https://m.media-amazon.com/images/I/41L6u8fAy3L._SS40_.jpg'], 'variant': ['MAIN', 'PT01', 'PT02', 'PT03', 'PT04', 'PT05', 'PT06']}   \n",
      "26319                                                                                                                                                                                                                                                                                                                                                                                            {'hi_res': ['https://m.media-amazon.com/images/I/71rYaJ78rsL._SL1200_.jpg', 'https://m.media-amazon.com/images/I/51KzOlIQv-L._SL1010_.jpg', 'https://m.media-amazon.com/images/I/81fm80VudeL._SL1200_.jpg', 'https://m.media-amazon.com/images/I/61gRzzNjVGL._SL1200_.jpg', 'https://m.media-amazon.com/images/I/81BwPBiKa-L._SL1200_.jpg', 'https://m.media-amazon.com/images/I/718EEyxjf0L._SL1200_.jpg', 'https://m.media-amazon.com/images/I/81yLDXRqOuL._SL1200_.jpg'], 'large': ['https://m.media-amazon.com/images/I/51MP2MnMv3L.jpg', 'https://m.media-amazon.com/images/I/31gBNi5qU6L.jpg', 'https://m.media-amazon.com/images/I/51XHeX8rldL.jpg', 'https://m.media-amazon.com/images/I/41zxtLIatdL.jpg', 'https://m.media-amazon.com/images/I/51Gf8630wTL.jpg', 'https://m.media-amazon.com/images/I/51j4fOpZxrL.jpg', 'https://m.media-amazon.com/images/I/51ZwOskdhOL.jpg'], 'thumb': ['https://m.media-amazon.com/images/I/51MP2MnMv3L._SS40_.jpg', 'https://m.media-amazon.com/images/I/31gBNi5qU6L._SS40_.jpg', 'https://m.media-amazon.com/images/I/51XHeX8rldL._SS40_.jpg', 'https://m.media-amazon.com/images/I/41zxtLIatdL._SS40_.jpg', 'https://m.media-amazon.com/images/I/51Gf8630wTL._SS40_.jpg', 'https://m.media-amazon.com/images/I/51j4fOpZxrL._SS40_.jpg', 'https://m.media-amazon.com/images/I/51ZwOskdhOL._SS40_.jpg'], 'variant': ['MAIN', 'PT01', 'PT02', 'PT03', 'PT04', 'PT05', 'PT06']}   \n",
      "26320                                                                                                                                                                                                                                                                                                                                                                                            {'hi_res': ['https://m.media-amazon.com/images/I/71oe3+QlfpL._SL1000_.jpg', 'https://m.media-amazon.com/images/I/71214fbMhKL._SL1001_.jpg', 'https://m.media-amazon.com/images/I/61b2svS1sRL._SL1001_.jpg', 'https://m.media-amazon.com/images/I/61GyzamMqOL._SL1001_.jpg', 'https://m.media-amazon.com/images/I/71SKBJ7meYL._SL1001_.jpg', 'https://m.media-amazon.com/images/I/71ro95HvfxL._SL1001_.jpg', 'https://m.media-amazon.com/images/I/61rAa2G4fNL._SL1024_.jpg'], 'large': ['https://m.media-amazon.com/images/I/51lu7nE7vkL.jpg', 'https://m.media-amazon.com/images/I/511Nbyb+qhL.jpg', 'https://m.media-amazon.com/images/I/51K6OOz7DfL.jpg', 'https://m.media-amazon.com/images/I/41J6jhvLT+L.jpg', 'https://m.media-amazon.com/images/I/51ecDx3rtTL.jpg', 'https://m.media-amazon.com/images/I/51Xwpt-TEUL.jpg', 'https://m.media-amazon.com/images/I/419UT47wgyL.jpg'], 'thumb': ['https://m.media-amazon.com/images/I/51lu7nE7vkL._SS40_.jpg', 'https://m.media-amazon.com/images/I/511Nbyb+qhL._SS40_.jpg', 'https://m.media-amazon.com/images/I/51K6OOz7DfL._SS40_.jpg', 'https://m.media-amazon.com/images/I/41J6jhvLT+L._SS40_.jpg', 'https://m.media-amazon.com/images/I/51ecDx3rtTL._SS40_.jpg', 'https://m.media-amazon.com/images/I/51Xwpt-TEUL._SS40_.jpg', 'https://m.media-amazon.com/images/I/419UT47wgyL._SS40_.jpg'], 'variant': ['MAIN', 'PT01', 'PT02', 'PT03', 'PT04', 'PT05', 'PT06']}   \n",
      "\n",
      "                                                                                                                                                                                                                                                                                                                                                                                                                                                                                                                                                                                                                                                                                                                                                                                                                                                                                                        videos  \\\n",
      "0                                                                                                                                                                                                                                                                                                                                                                                                                                                                                                                                                                                                                                                                                                                                                                                                                                                                      {'title': [], 'url': [], 'user_id': []}   \n",
      "1                                                                                                                                                                                                                                                                                                                                                                                                                                                                                                                                                                                                                                                                                                                                                                                                                                                                      {'title': [], 'url': [], 'user_id': []}   \n",
      "2                                                                                                                                                                                                                                                                                                                                                                                                                                                                                                                                                                                                                                                                                                                                                                                                                                                                      {'title': [], 'url': [], 'user_id': []}   \n",
      "3                                                                                                                                                                                                                                                                                                                                                                                                                                                                                                                                                                                                                                                                                                                                                                                                                                                                      {'title': [], 'url': [], 'user_id': []}   \n",
      "4      {'title': ['Wintery scent in a generous sized and gorgeous bottle', 'Folie for women ', 'Elite flora women ', 'Lattafa Khaltaat Al arabia Royal Blends ', 'Halston Z-14 FOR MEN Fragrance Full Review', 'Arabian Spring Perfumes #beauty #fragrance'], 'url': ['https://www.amazon.com/vdp/090705b62a884747bb555306c72fc218?ref=dp_vse_rvc_0', 'https://www.amazon.com/vdp/0d405e40c6cd4e4ba7413c52e928b938?ref=dp_vse_rvc_1', 'https://www.amazon.com/vdp/0d507b2a3ea74e209b02d2f18599d5c9?ref=dp_vse_rvc_2', 'https://www.amazon.com/vdp/09f1fcc89bd543a98c24966ee76d9476?ref=dp_vse_rvc_3', 'https://www.amazon.com/vdp/0bc404a955d1493faecbf1d6c260c33e?ref=dp_vse_rvc_4', 'https://www.amazon.com/vdp/01942b314a9c4cb2bbec26f43b55c24e?ref=dp_vse_rvc_5'], 'user_id': ['AFNHJAVF2ZVDYCEMZSXRVTYZXQQA', '', '', '/shop/bestbrandsperfume', '/shop/bestbrandsperfume', '/shop/influencer-99029ed3']}   \n",
      "...                                                                                                                                                                                                                                                                                                                                                                                                                                                                                                                                                                                                                                                                                                                                                                                                                                                                                                        ...   \n",
      "26316                                                                                                                                                                                                                                                                                                                                                                                                                                                                                                                                                                                                                                                                                                                                                                                                                                                                  {'title': [], 'url': [], 'user_id': []}   \n",
      "26317                                                                                                                                                                                                                                                                                                                                                                                                                                                                                                                                                                                                                                                                                                                                                                                                                                                                  {'title': [], 'url': [], 'user_id': []}   \n",
      "26318                                                                                                                                                                                                                                                                                                                                                                                                                                  {'title': ['very good, works on my F150 2016', 'ford apple carplay usb hub module sync 3 carplay usb module', 'ford sync 3 usb hub carplay USB module '], 'url': ['https://www.amazon.com/vdp/f4e6d46472c64b979f959e4f18e909bb?ref=dp_vse_rvc_0', 'https://www.amazon.com/vdp/03b3ca3f10b94336bad24db81a4b8a3d?ref=dp_vse_rvc_1', 'https://www.amazon.com/vdp/0bf1b0bec1f443c1ad47183684ff3e7c?ref=dp_vse_rvc_2'], 'user_id': ['AHJVBMIX67URM6SPPGAOS4LIWSNA', '', '']}   \n",
      "26319                                                                                                                                                                                                                                                                                                                                                                                                                                                                                                                                                                                                                                                                                                                          {'title': ['Winning hair for beginners'], 'url': ['https://www.amazon.com/vdp/060d271576e54c329a53614f8822a230?ref=dp_vse_rvc_0'], 'user_id': ['AEMWLR6WATY3CYJ5W2IMQJ3OLG5A']}   \n",
      "26320                                                                                                                                                                                                                                                                                                                                                                                                                                                                                                                                                                                                                                                                                                                                                                                                                                                                  {'title': [], 'url': [], 'user_id': []}   \n",
      "\n",
      "                store categories  \\\n",
      "0                None         []   \n",
      "1                 HRE         []   \n",
      "2             Pei Mei         []   \n",
      "3      Mountain Falls         []   \n",
      "4       INTENSE ELITE         []   \n",
      "...               ...        ...   \n",
      "26316          VERITA         []   \n",
      "26317   ALICROWN HAIR         []   \n",
      "26318          Vimorg         []   \n",
      "26319        DAN NING         []   \n",
      "26320      EAYON HAIR         []   \n",
      "\n",
      "                                                                                                                                                                                                                                                                         details  \\\n",
      "0      {\"Item Form\": \"Cream\", \"Unit Count\": \"1.7 Ounce\", \"Skin Type\": \"All\", \"Item Volume\": \"1.7 Fluid Ounces\", \"Age Range (Description)\": \"Adult\", \"Is Discontinued By Manufacturer\": \"No\", \"Product Dimensions\": \"1.25 x 1.25 x 6 inches; 0.48 Ounces\", \"UPC\": \"687927811966\"}   \n",
      "1                          {\"Brand\": \"HRE\", \"Item Form\": \"Sachets\", \"Scent\": \"Rose\", \"Skin Type\": \"All\", \"Special Feature\": \"Hypoallergenic\", \"Is Discontinued By Manufacturer\": \"No\", \"Product Dimensions\": \"6.3 x 6.3 x 0.9 inches; 0.35 Ounces\", \"Manufacturer\": \"ERH Group\"}   \n",
      "2                                                                                                                                                             {\"Brand\": \"Pei Mei\", \"Item Form\": \"Cream\", \"Scent\": \"Honey\", \"Unit Count\": \"3.5274 Ounce\", \"Number of Items\": \"2\"}   \n",
      "3                                                                                  {\"Brand\": \"Mountain Falls\", \"Item Form\": \"Liquid\", \"Item Weight\": \"1.1 Pounds\", \"Unit Count\": \"16 Fl Oz\", \"Package Dimensions\": \"8 x 2.5 x 2.5 inches; 1.1 Pounds\", \"Manufacturer\": \"Vi-Jon\"}   \n",
      "4                                                                {\"Brand\": \"INTENSE ELITE\", \"Item Volume\": \"100 Milliliters\", \"Age Range (Description)\": \"Adult\", \"Style\": \"Modern\", \"Item Weight\": \"3.4 Ounces\", \"Package Dimensions\": \"5.63 x 3.39 x 3.35 inches; 3.4 Ounces\"}   \n",
      "...                                                                                                                                                                                                                                                                          ...   \n",
      "26316                                                                                                                                                                                         {\"Package Dimensions\": \"6 x 1.5 x 0.8 inches; 0.81 Ounces\", \"UPC\": \"860000826099\"}   \n",
      "26317                                                {\"Brand\": \"ALICROWN HAIR\", \"Material\": \"Fur\", \"Material Feature\": \"Cruelty Free\", \"Item Form\": \"Pair\", \"Mounting Type\": \"Eyelash Glue\", \"Package Dimensions\": \"6.6 x 6.6 x 0.2 inches; 5.61 Ounces\", \"UPC\": \"680613003706\"}   \n",
      "26318                                                                                                                                                {\"Is Discontinued By Manufacturer\": \"No\", \"Package Dimensions\": \"6.7 x 6.1 x 2 inches; 3.21 Ounces\", \"UPC\": \"680727819231\"}   \n",
      "26319                                          {\"Brand\": \"DAN NING\", \"Material\": \"Human Hair\", \"Extension Length\": \"24 Inches\", \"Hair Type\": \"Straight\", \"Material Feature\": \"Natural\", \"Package Dimensions\": \"13.58 x 13.43 x 2.01 inches; 1.41 Pounds\", \"UPC\": \"791352395257\"}   \n",
      "26320                                                                                {\"Brand\": \"EAYON HAIR\", \"Material\": \"Human Hair\", \"Hair Type\": \"Wavy\", \"Material Feature\": \"Natural\", \"Installation Type\": \"Sew-In\", \"Package Dimensions\": \"12 x 8 x 2.1 inches; 1 Pounds\"}   \n",
      "\n",
      "      bought_together subtitle author  helpfulness_score  \\\n",
      "0                None     None   None           0.014467   \n",
      "1                None     None   None           0.005425   \n",
      "2                None     None   None           0.001808   \n",
      "3                None     None   None           0.001808   \n",
      "4                None     None   None           0.001808   \n",
      "...               ...      ...    ...                ...   \n",
      "26316            None     None   None           0.003617   \n",
      "26317            None     None   None           0.151899   \n",
      "26318            None     None   None           0.005425   \n",
      "26319            None     None   None           0.001808   \n",
      "26320            None     None   None           0.016275   \n",
      "\n",
      "                                                                                                                                                                                                                                                                                                                                                                                                                                                                                                                                                                                                                                                                                                                                                                                                                                                                                                        cleaned_text  \\\n",
      "0                                                                                                                                                                                                                                                       late 40 started using antiaging product year ago using product work wrinkle younger looking skin regularly past year difficult see new result eye cream nice creamy consistency dont notice smell able apply eye area eye one dispense pump absorbs nicely skin keep delicate eye skin well hydrated one thing especially like doesnt sting eye ultra sensitive eye sweat make skin care product often get rubbed eye product cause sting burn hot summer georgia even sweating issue stinging burning ive stop using favorite beauty product past problem im happy eye cream farbr br received free exchange honest amp unbiased review thought amp opinion   \n",
      "1      daughter discovered facial sheet mask summer become fan easy fun use box antiaging sheet mask come 5 mask mask individually wrapped open mask remove packing see 2 layer one sheet mask thin papery like plastic type material two layer together put face mask used didnt plastic layer couldnt get lay flat skin well peeled plastic layer leaving paper one familiar layer easy mold face mask cold felt refreshing wet point dripping face enough want spread around mask face say leave 1520 minute opted lesser time coffee ready didnt want wait longer supposed rub left 34goo34 lack better word skin accidently got little eye didnt burn sting surprised sensitive eye expecting feel pain regularly use antiaging product plus used one sheet mask far dont notice difference skin would definitely add beauty routinebr br purchased mask reduced price purpose trying reviewing thought opinion   \n",
      "2                                                                                                                happy marrywindix acrylic organizer limited counter space cosmetic beauty product prior ordering organizer lipstick lip gloss shoved small drawer crowded difficulty finding one wanted wanted easily see lip product quick glance organizer 6 inch wide 4 inch deep doesnt take whole lot counter space acrylic sturdy solid easy clean recently looking acrylic organizer recently local store seem priced one bargain teenage daughter tried claim one since reasonable price probably go ahead order one toobr br update ended ordering another style marrywindix acrylic organizer daughter one drawer addition storage top brush bottle love well made look great drawer come liner keep thing nice neatbr br received acrylic organizer marrywindix purpose trying reviewing thought opinion   \n",
      "3                                                                                                                                                                                                                                                                                                                                     like nail polish remover mountain fall regular nail polish remover natural nail vitamin e panthenol 16 fluid ounce mostly acetone smell like nail polish remover ive tried work like toobr br use nail polish remover take gummy stuff hand thing use way important remember damage synthetic fabric wood finish plastic also using storing remember highly flammable used stored near fire flame heat see photo bottle label warningsbr br big 16oz bottle equivalent two regularsize bottle eg asinb004x8ifei sally hansen nail polish remover find local grocery drug store   \n",
      "4                                                                                                                                                                                                                                                                                                                                                                                                                                                                                                                                                                                                                                  wish loved nicely packaged perfume attractive bottle goldcolored tassel hanging side scent neither offensive enticing cant even describe smell like subtle last hoursbr br current price 4499 4999 minus 5 competitively priced perfume like one would order really love pay much   \n",
      "...                                                                                                                                                                                                                                                                                                                                                                                                                                                                                                                                                                                                                                                                                                                                                                                                                                                                                                              ...   \n",
      "26316                                                                                                                                                                                                                                                                                                                                                                                                                                                                                                                                                                                                                                                                                                                                                             website printed box exist website seems exist provide information product came box open type seal label peeling extremely suspicious huge red flag   \n",
      "26317                                                                                                                                                                                                                                                                                                                                                                                                 hunt perfect pair lash 9 month ive eye couple month finally took plunge purchased always scared volume lash past experience band way hard work let tell mfin lash theyre light soft noticeable durable hand easiest apply awe amazing ticked every one box price feel like buy 20 box chance may available someday terrifying thought im eyeshadow type girl still want look feminine absolutely trick receive compliment every single damn day seriously considering dropping half paycheck stock 500 approve   \n",
      "26318                                                                                                                                                                                                                                                                                                                                                                                                                                                                                                                                                                                                                                                                                                                                                                            work perfect took maybe 5 minute switch old module new one look identical oem mod light exact blue rest interior light super simple   \n",
      "26319                                                                                                                                                                                                                                                                                                                                                                                                                                                                                                                                                                                                                                                                                                                                                                                   great like queen b pre stretched braiding hair little bit shorter quite much bundle tho color accurate look like photo happy   \n",
      "26320                                                                                                                                                                                                                                                                                                                                                                                                                                                                                                                                                                                                                                                                                                                                                                                                                        absolutely love hold curl well dyed perfectly little tangling shedding five star around   \n",
      "\n",
      "                                                                                                                                                                                                                                                                                                                                                                                                                                                                                                                                                                                                                                                                                                                                                                                                                                                                                                                                                                                                                                                                                                                                                                                                                                                                                                                                                                                                                                                                                                                                                                                                                                                                                                                        bert_embedding  \\\n",
      "0            [[tensor(-0.0950), tensor(0.0420), tensor(0.6244), tensor(-0.1249), tensor(0.1551), tensor(-0.0276), tensor(0.1672), tensor(0.2039), tensor(0.0357), tensor(-0.3475), tensor(0.1828), tensor(-0.0439), tensor(-0.0295), tensor(0.1713), tensor(-0.4107), tensor(0.3574), tensor(0.2231), tensor(0.1049), tensor(-0.2172), tensor(0.4436), tensor(0.4832), tensor(-0.0931), tensor(0.1963), tensor(0.1508), tensor(0.1030), tensor(-0.2550), tensor(-0.1828), tensor(-0.0823), tensor(-0.0655), tensor(-0.2650), tensor(0.4350), tensor(0.2307), tensor(-0.0499), tensor(-0.0756), tensor(-0.0311), tensor(0.0900), tensor(-0.0366), tensor(0.1228), tensor(0.1070), tensor(0.1425), tensor(-0.2172), tensor(-0.2381), tensor(0.0097), tensor(-0.0919), tensor(-0.2625), tensor(-0.2838), tensor(-0.4520), tensor(0.2671), tensor(-0.0067), tensor(0.0452), tensor(-0.1424), tensor(0.0432), tensor(0.1772), tensor(-0.3682), tensor(-0.0688), tensor(0.4452), tensor(-0.1452), tensor(-0.2475), tensor(-0.2001), tensor(-0.1712), tensor(0.1726), tensor(-0.2160), tensor(0.2057), tensor(-0.1583), tensor(-0.1464), tensor(0.0597), tensor(-0.1451), tensor(-0.0174), tensor(-0.4312), tensor(-0.1213), tensor(-0.0363), tensor(-0.1590), tensor(-0.2862), tensor(0.0177), tensor(-0.0058), tensor(0.0286), tensor(-0.2203), tensor(0.0819), tensor(0.4191), tensor(0.1371), tensor(-0.2960), tensor(0.0584), tensor(-0.4619), tensor(0.2856), tensor(0.1010), tensor(0.0536), tensor(0.2004), tensor(0.2543), tensor(-0.4135), tensor(0.4332), tensor(0.3806), tensor(-0.2048), tensor(0.3673), tensor(0.0834), tensor(0.1361), tensor(-0.4152), tensor(0.1033), tensor(0.0619), tensor(-0.0689), tensor(0.4166), ...]]   \n",
      "1       [[tensor(0.0527), tensor(-0.0792), tensor(0.6104), tensor(-0.0712), tensor(0.0886), tensor(-0.0425), tensor(0.1471), tensor(0.1433), tensor(0.0288), tensor(-0.4046), tensor(0.1499), tensor(-0.1270), tensor(0.1768), tensor(0.2733), tensor(-0.5520), tensor(0.0845), tensor(0.2559), tensor(-0.0878), tensor(-0.2623), tensor(0.4296), tensor(0.6386), tensor(-0.0811), tensor(0.2248), tensor(-0.0337), tensor(0.2787), tensor(-0.3700), tensor(-0.2023), tensor(-0.2240), tensor(0.0611), tensor(-0.0232), tensor(0.2453), tensor(0.0481), tensor(-0.1883), tensor(-0.2001), tensor(-0.0301), tensor(-0.1278), tensor(-0.0886), tensor(0.0909), tensor(-0.0921), tensor(0.2429), tensor(-0.2643), tensor(-0.1914), tensor(-0.0607), tensor(-0.1800), tensor(-0.0882), tensor(-0.1901), tensor(-0.1894), tensor(0.0981), tensor(-0.0155), tensor(-0.0987), tensor(-0.0878), tensor(0.0026), tensor(-0.0849), tensor(-0.2964), tensor(0.0697), tensor(0.4187), tensor(-0.0346), tensor(-0.2123), tensor(-0.3632), tensor(-0.1018), tensor(0.0787), tensor(0.0678), tensor(0.3585), tensor(-0.0591), tensor(0.0875), tensor(0.1902), tensor(-0.1182), tensor(0.0311), tensor(-0.4640), tensor(-0.1950), tensor(-0.2805), tensor(-0.0215), tensor(-0.1332), tensor(0.1237), tensor(0.0576), tensor(0.1036), tensor(-0.2129), tensor(-0.0348), tensor(0.5138), tensor(0.1843), tensor(-0.3629), tensor(-0.0817), tensor(-0.5647), tensor(0.3012), tensor(0.3297), tensor(-0.0529), tensor(0.2546), tensor(0.1487), tensor(-0.3567), tensor(0.4585), tensor(0.3377), tensor(-0.2643), tensor(0.2891), tensor(-0.0439), tensor(0.0130), tensor(-0.1820), tensor(-0.1269), tensor(0.3031), tensor(-0.0403), tensor(0.4011), ...]]   \n",
      "2              [[tensor(-0.2020), tensor(-0.0347), tensor(0.5591), tensor(0.0731), tensor(0.5574), tensor(-0.0024), tensor(-0.0840), tensor(0.1530), tensor(0.1281), tensor(-0.2906), tensor(0.3114), tensor(-0.0601), tensor(0.2304), tensor(0.4695), tensor(-0.5478), tensor(0.3365), tensor(0.0440), tensor(0.1007), tensor(-0.1706), tensor(0.2528), tensor(0.4908), tensor(-0.2493), tensor(-0.0027), tensor(0.1359), tensor(0.1710), tensor(-0.0916), tensor(-0.0532), tensor(-0.1435), tensor(-0.0139), tensor(-0.0772), tensor(0.0688), tensor(0.1165), tensor(0.0722), tensor(-0.2434), tensor(0.0796), tensor(-0.3123), tensor(-0.1599), tensor(0.0946), tensor(-0.0348), tensor(0.1450), tensor(-0.2188), tensor(-0.1208), tensor(0.2072), tensor(0.0260), tensor(-0.2129), tensor(-0.0985), tensor(-0.5182), tensor(0.0716), tensor(0.0381), tensor(-0.0820), tensor(-0.2118), tensor(0.0626), tensor(0.1745), tensor(-0.1093), tensor(0.1373), tensor(0.3935), tensor(-0.0300), tensor(-0.2796), tensor(-0.1694), tensor(-0.2234), tensor(0.0315), tensor(-0.0746), tensor(0.2981), tensor(0.0451), tensor(0.0883), tensor(-0.0590), tensor(-0.0819), tensor(0.0413), tensor(-0.5396), tensor(-0.2367), tensor(-0.0922), tensor(-0.0811), tensor(0.1340), tensor(-0.0334), tensor(-0.0732), tensor(0.0224), tensor(-0.1756), tensor(0.1222), tensor(0.5068), tensor(-0.0178), tensor(-0.3092), tensor(0.0946), tensor(-0.2482), tensor(0.1959), tensor(0.0575), tensor(0.1128), tensor(0.0256), tensor(0.1755), tensor(-0.3353), tensor(0.5045), tensor(0.1412), tensor(-0.3016), tensor(0.1668), tensor(0.0132), tensor(0.0980), tensor(-0.0897), tensor(-0.0799), tensor(0.2631), tensor(0.0415), tensor(0.3069), ...]]   \n",
      "3             [[tensor(0.0527), tensor(0.1598), tensor(0.4965), tensor(-0.0371), tensor(0.4854), tensor(-0.0774), tensor(0.1246), tensor(0.2104), tensor(0.0450), tensor(-0.1776), tensor(0.1578), tensor(-0.0584), tensor(0.0428), tensor(0.4285), tensor(-0.3895), tensor(0.3560), tensor(0.1745), tensor(0.0938), tensor(-0.1339), tensor(0.1758), tensor(0.4550), tensor(-0.1861), tensor(0.1902), tensor(0.1945), tensor(0.3261), tensor(-0.0638), tensor(-0.1636), tensor(-0.0033), tensor(-0.0367), tensor(-0.0114), tensor(0.2941), tensor(0.2540), tensor(0.0642), tensor(-0.2470), tensor(0.2294), tensor(0.0217), tensor(-0.0618), tensor(0.0769), tensor(0.0027), tensor(0.1873), tensor(-0.1364), tensor(-0.0196), tensor(-0.0564), tensor(0.1047), tensor(-0.1674), tensor(-0.0327), tensor(-0.3253), tensor(0.1438), tensor(0.0648), tensor(-0.1932), tensor(-0.1101), tensor(0.0442), tensor(0.1849), tensor(-0.2601), tensor(-0.0888), tensor(0.4121), tensor(-0.0500), tensor(-0.3349), tensor(-0.0974), tensor(-0.1384), tensor(-0.1004), tensor(-0.2111), tensor(0.0589), tensor(0.0075), tensor(0.1035), tensor(0.0234), tensor(-0.1133), tensor(0.2574), tensor(-0.6222), tensor(-0.0027), tensor(-0.1677), tensor(0.0660), tensor(-0.1024), tensor(-0.0462), tensor(-0.0235), tensor(0.1458), tensor(-0.1119), tensor(-0.0272), tensor(0.2971), tensor(0.1845), tensor(-0.1130), tensor(-0.0117), tensor(-0.2996), tensor(0.2003), tensor(0.0772), tensor(0.1478), tensor(-0.0094), tensor(0.1540), tensor(-0.3514), tensor(0.3918), tensor(0.1484), tensor(-0.0436), tensor(0.2082), tensor(-0.0151), tensor(0.1020), tensor(-0.2459), tensor(-0.0039), tensor(0.1907), tensor(-0.0259), tensor(0.5257), ...]]   \n",
      "4            [[tensor(0.1633), tensor(-0.0792), tensor(0.6548), tensor(-0.0197), tensor(0.3122), tensor(-0.0746), tensor(0.0328), tensor(0.1160), tensor(0.4129), tensor(-0.1392), tensor(0.2724), tensor(-0.2961), tensor(0.1813), tensor(0.5513), tensor(-0.3270), tensor(0.3435), tensor(0.0335), tensor(0.1105), tensor(-0.1336), tensor(0.0934), tensor(0.3436), tensor(-0.0842), tensor(0.0120), tensor(0.2582), tensor(0.4256), tensor(0.0010), tensor(-0.0562), tensor(-0.0888), tensor(-0.1406), tensor(0.0937), tensor(0.6128), tensor(0.1408), tensor(0.0195), tensor(-0.2476), tensor(-0.1000), tensor(-0.1030), tensor(-0.1566), tensor(-0.1271), tensor(-0.2096), tensor(0.0979), tensor(-0.5632), tensor(-0.1879), tensor(0.3627), tensor(0.0490), tensor(-0.3572), tensor(-0.4345), tensor(-0.5212), tensor(-0.1449), tensor(0.0306), tensor(-0.1135), tensor(-0.0945), tensor(-0.0398), tensor(-0.2297), tensor(-0.1518), tensor(0.1406), tensor(0.8458), tensor(-0.3352), tensor(-0.4869), tensor(-0.3191), tensor(-0.1708), tensor(-0.0180), tensor(-0.1639), tensor(0.2006), tensor(-0.2669), tensor(0.0964), tensor(0.1570), tensor(-0.0474), tensor(0.0377), tensor(-0.6670), tensor(-0.1920), tensor(-0.0459), tensor(-0.0263), tensor(0.2015), tensor(0.1581), tensor(-0.4187), tensor(0.1590), tensor(-0.2834), tensor(0.2784), tensor(0.1517), tensor(0.0115), tensor(-0.2440), tensor(0.0713), tensor(-0.0459), tensor(0.3448), tensor(0.2116), tensor(0.3441), tensor(0.0806), tensor(0.3103), tensor(-0.2536), tensor(0.4812), tensor(0.2884), tensor(-0.3348), tensor(0.1929), tensor(-0.1645), tensor(0.0287), tensor(-0.2551), tensor(-0.0196), tensor(0.1464), tensor(-0.0573), tensor(0.5987), ...]]   \n",
      "...                                                                                                                                                                                                                                                                                                                                                                                                                                                                                                                                                                                                                                                                                                                                                                                                                                                                                                                                                                                                                                                                                                                                                                                                                                                                                                                                                                                                                                                                                                                                                                                                                                                                                                                                ...   \n",
      "26316          [[tensor(0.2508), tensor(0.1665), tensor(0.4249), tensor(-0.1253), tensor(0.3942), tensor(-0.2753), tensor(0.2136), tensor(0.1193), tensor(-0.0088), tensor(0.0080), tensor(0.0211), tensor(-0.4153), tensor(0.1468), tensor(0.7123), tensor(-0.5291), tensor(0.0462), tensor(-0.0189), tensor(0.2354), tensor(0.0006), tensor(0.3143), tensor(0.2111), tensor(-0.2499), tensor(-0.1915), tensor(-0.3654), tensor(0.3554), tensor(-0.1709), tensor(0.0335), tensor(-0.2241), tensor(-0.1671), tensor(0.0299), tensor(0.2554), tensor(0.2764), tensor(0.1533), tensor(0.0799), tensor(-0.2580), tensor(-0.6023), tensor(-0.1953), tensor(0.1400), tensor(-0.3247), tensor(0.3100), tensor(-0.2091), tensor(-0.1562), tensor(0.4687), tensor(0.0749), tensor(-0.2543), tensor(-0.1871), tensor(-0.0701), tensor(0.0637), tensor(-0.0554), tensor(0.2670), tensor(0.0057), tensor(-0.0626), tensor(-0.5733), tensor(-0.2803), tensor(0.2941), tensor(0.3259), tensor(-0.0073), tensor(-0.2994), tensor(-0.1161), tensor(-0.2122), tensor(0.3097), tensor(-0.2624), tensor(0.3966), tensor(-0.4083), tensor(0.3262), tensor(0.0628), tensor(-0.0422), tensor(0.4514), tensor(-0.4965), tensor(-0.1602), tensor(-0.3082), tensor(-0.1092), tensor(0.0639), tensor(-0.0988), tensor(-0.0019), tensor(0.1925), tensor(-0.1721), tensor(0.1773), tensor(0.0524), tensor(-0.2742), tensor(0.0221), tensor(0.2306), tensor(-0.2653), tensor(0.2045), tensor(0.2088), tensor(0.1668), tensor(-0.0158), tensor(0.1013), tensor(-0.2638), tensor(0.9912), tensor(0.4553), tensor(-0.1587), tensor(0.0974), tensor(-0.1522), tensor(-0.0649), tensor(-0.1365), tensor(-0.1118), tensor(0.1730), tensor(0.0118), tensor(0.2561), ...]]   \n",
      "26317         [[tensor(-0.0556), tensor(-0.0866), tensor(0.6209), tensor(0.0064), tensor(0.1495), tensor(-0.1382), tensor(0.2405), tensor(0.0427), tensor(-0.0938), tensor(-0.3337), tensor(0.2109), tensor(0.0449), tensor(0.2721), tensor(0.2296), tensor(-0.3905), tensor(0.2529), tensor(0.1678), tensor(0.0138), tensor(-0.1379), tensor(0.1670), tensor(0.3832), tensor(-0.0671), tensor(0.1559), tensor(-0.0761), tensor(0.2378), tensor(-0.1120), tensor(-0.1399), tensor(-0.2648), tensor(-0.0063), tensor(-0.0126), tensor(0.2455), tensor(-0.0152), tensor(-0.1329), tensor(0.0106), tensor(-0.1169), tensor(-0.1436), tensor(-0.1715), tensor(0.0606), tensor(0.0781), tensor(0.0412), tensor(-0.1590), tensor(-0.3241), tensor(0.1555), tensor(-0.0842), tensor(-0.4218), tensor(-0.2677), tensor(-0.3831), tensor(-0.0334), tensor(0.1439), tensor(-0.0225), tensor(0.0163), tensor(0.0840), tensor(-0.0788), tensor(-0.2625), tensor(0.0188), tensor(0.2708), tensor(-0.0636), tensor(-0.2711), tensor(-0.2385), tensor(-0.1016), tensor(0.2137), tensor(-0.1559), tensor(0.2620), tensor(-0.0055), tensor(0.0320), tensor(0.2115), tensor(0.0483), tensor(0.1011), tensor(-0.4803), tensor(-0.1040), tensor(0.0354), tensor(0.0210), tensor(-0.0402), tensor(-0.0745), tensor(-0.1514), tensor(-0.0259), tensor(-0.2164), tensor(0.2129), tensor(0.3689), tensor(0.2079), tensor(-0.0930), tensor(0.1334), tensor(-0.1462), tensor(0.2326), tensor(0.1218), tensor(0.0115), tensor(0.2297), tensor(0.3301), tensor(-0.2933), tensor(0.6574), tensor(0.3631), tensor(-0.1346), tensor(0.1420), tensor(0.0256), tensor(0.0682), tensor(-0.2193), tensor(-0.1755), tensor(0.1064), tensor(-0.0132), tensor(0.3930), ...]]   \n",
      "26318           [[tensor(0.0697), tensor(-0.3215), tensor(0.6580), tensor(0.1543), tensor(0.3559), tensor(0.0371), tensor(0.2410), tensor(-0.0463), tensor(0.1225), tensor(-0.1966), tensor(0.4324), tensor(-0.0314), tensor(0.0733), tensor(0.2033), tensor(-0.6720), tensor(0.2006), tensor(0.1906), tensor(-0.1078), tensor(-0.3926), tensor(0.3452), tensor(0.3619), tensor(0.0909), tensor(0.0089), tensor(0.2145), tensor(0.0547), tensor(-0.0863), tensor(0.0625), tensor(-0.2086), tensor(-0.0829), tensor(0.0163), tensor(0.0142), tensor(0.0296), tensor(-0.3101), tensor(-0.1577), tensor(-0.2729), tensor(-0.3118), tensor(-0.0646), tensor(0.1864), tensor(-0.1279), tensor(0.3603), tensor(-0.4562), tensor(-0.3474), tensor(0.4379), tensor(-0.1542), tensor(-0.0377), tensor(-0.0366), tensor(-0.0376), tensor(0.1867), tensor(0.1466), tensor(0.2016), tensor(-0.0864), tensor(-0.1825), tensor(-0.4355), tensor(-0.0869), tensor(0.1722), tensor(0.5674), tensor(-0.1448), tensor(-0.6961), tensor(-0.1231), tensor(0.0309), tensor(0.1100), tensor(0.0846), tensor(0.0953), tensor(-0.3844), tensor(0.4088), tensor(-0.0771), tensor(-0.1463), tensor(0.1035), tensor(-0.4918), tensor(0.2188), tensor(-0.2525), tensor(-0.0524), tensor(0.0812), tensor(0.0513), tensor(0.0632), tensor(-0.2417), tensor(-0.2549), tensor(0.1862), tensor(0.3538), tensor(-0.2517), tensor(-0.1607), tensor(0.4139), tensor(-0.1190), tensor(0.2399), tensor(0.3585), tensor(0.2478), tensor(-0.1443), tensor(-0.0887), tensor(-0.6278), tensor(0.6606), tensor(0.1214), tensor(-0.3928), tensor(0.1034), tensor(0.2277), tensor(0.0861), tensor(-0.0408), tensor(-0.0367), tensor(0.3659), tensor(-0.0197), tensor(0.4701), ...]]   \n",
      "26319  [[tensor(0.4048), tensor(-0.3733), tensor(0.6260), tensor(-0.3048), tensor(0.4071), tensor(-0.2174), tensor(0.4956), tensor(0.4900), tensor(-0.0052), tensor(-0.0574), tensor(0.2839), tensor(-0.3687), tensor(0.2244), tensor(0.5828), tensor(-0.9411), tensor(0.1158), tensor(0.2056), tensor(-0.1047), tensor(-0.3804), tensor(0.3621), tensor(0.5005), tensor(-0.1552), tensor(-0.2766), tensor(-0.0464), tensor(0.2062), tensor(-0.2989), tensor(0.0993), tensor(0.3218), tensor(0.2692), tensor(-0.0091), tensor(0.4518), tensor(-0.1211), tensor(-0.1310), tensor(-0.0143), tensor(-0.0747), tensor(-0.5027), tensor(-0.0591), tensor(0.4141), tensor(-0.5221), tensor(0.0003), tensor(-0.6527), tensor(-0.2325), tensor(0.4305), tensor(-0.1098), tensor(-0.4207), tensor(-0.9376), tensor(-0.1530), tensor(0.4540), tensor(0.0620), tensor(-0.1791), tensor(0.1346), tensor(-0.1676), tensor(-0.4546), tensor(-0.4544), tensor(0.0406), tensor(0.7680), tensor(-0.1184), tensor(-0.5674), tensor(-0.4234), tensor(-0.1012), tensor(0.0909), tensor(-0.1009), tensor(0.2177), tensor(-0.4387), tensor(-0.0667), tensor(-0.1529), tensor(-0.2334), tensor(-0.0413), tensor(-0.6824), tensor(-0.4082), tensor(0.0376), tensor(0.3040), tensor(0.2567), tensor(0.2885), tensor(-0.3624), tensor(0.2085), tensor(-0.1508), tensor(0.1489), tensor(0.3483), tensor(-0.2660), tensor(-0.4789), tensor(0.2811), tensor(-0.2917), tensor(0.7140), tensor(0.2867), tensor(-0.0670), tensor(0.0976), tensor(-0.0009), tensor(-0.4810), tensor(0.9983), tensor(0.3119), tensor(-0.2123), tensor(-0.0509), tensor(-0.1361), tensor(0.3218), tensor(0.0127), tensor(-0.0386), tensor(0.0779), tensor(-0.1351), tensor(0.8316), ...]]   \n",
      "26320          [[tensor(0.3242), tensor(-0.4541), tensor(0.6955), tensor(0.0135), tensor(0.2312), tensor(-0.2245), tensor(0.1704), tensor(0.1437), tensor(0.2004), tensor(-0.1257), tensor(0.3579), tensor(-0.3625), tensor(-0.0712), tensor(0.6982), tensor(-0.4806), tensor(0.2753), tensor(-0.0027), tensor(-0.0163), tensor(0.2645), tensor(0.0718), tensor(0.3799), tensor(-0.1714), tensor(-0.2217), tensor(0.2594), tensor(0.5056), tensor(-0.0812), tensor(0.0679), tensor(-0.1476), tensor(0.4388), tensor(-0.1249), tensor(0.4548), tensor(0.1500), tensor(0.0304), tensor(-0.2571), tensor(-0.2528), tensor(-0.2363), tensor(-0.2806), tensor(0.0200), tensor(-0.4227), tensor(0.0164), tensor(-0.4005), tensor(-0.1552), tensor(0.5979), tensor(-0.2189), tensor(-0.2295), tensor(-0.7648), tensor(-0.8448), tensor(0.1807), tensor(0.3304), tensor(-0.1303), tensor(0.1756), tensor(-0.1164), tensor(-0.3160), tensor(-0.3992), tensor(0.0408), tensor(1.1089), tensor(-0.2593), tensor(-0.4653), tensor(-0.5344), tensor(-0.0738), tensor(-0.2838), tensor(0.0078), tensor(0.3517), tensor(-0.0590), tensor(0.1531), tensor(0.2759), tensor(-0.0209), tensor(0.2277), tensor(-0.8075), tensor(-0.2691), tensor(0.1101), tensor(0.1475), tensor(0.2548), tensor(0.2272), tensor(-0.7377), tensor(0.0973), tensor(-0.6340), tensor(0.2155), tensor(0.4892), tensor(-0.1782), tensor(-0.3774), tensor(0.0846), tensor(-0.3492), tensor(0.5883), tensor(0.2991), tensor(0.1464), tensor(-0.1329), tensor(0.3134), tensor(-0.2110), tensor(0.8711), tensor(0.2384), tensor(-0.3367), tensor(0.0485), tensor(0.1042), tensor(0.1824), tensor(-0.4172), tensor(-0.0145), tensor(0.3526), tensor(-0.1251), tensor(0.6834), ...]]   \n",
      "\n",
      "       sentiment  readability  review_length  punctuation_count  \\\n",
      "0         0.9738       -32.06            636                 12   \n",
      "1         0.9640       -71.65            877                 21   \n",
      "2         0.9810       -68.61            771                 12   \n",
      "3         0.8625       -33.76            558                 10   \n",
      "4         0.9709        21.40            273                  8   \n",
      "...          ...          ...            ...                ...   \n",
      "26316    -0.0553        32.22            146                  5   \n",
      "26317     0.7888       -16.16            494                 16   \n",
      "26318     0.8225        48.13            131                  2   \n",
      "26319     0.9153        67.08            124                  4   \n",
      "26320     0.8955        49.82             87                  2   \n",
      "\n",
      "                                                                                                                                                                                                                              image_urls  \\\n",
      "0                                                                                 [https://images-na.ssl-images-amazon.com/images/I/41FMcmkZDLL._SL1600_.jpg, https://images-na.ssl-images-amazon.com/images/I/41pcNrIv9YL._SL1600_.jpg]   \n",
      "1      [https://images-na.ssl-images-amazon.com/images/I/51FFKVqctXL._SL1600_.jpg, https://images-na.ssl-images-amazon.com/images/I/51U-Jj8nvvL._SL1600_.jpg, https://images-na.ssl-images-amazon.com/images/I/51WbXeRwNwL._SL1600_.jpg]   \n",
      "2                                                                                                                                                                     [https://images-na.ssl-images-amazon.com/images/I/71x9TGPNYpL.jpg]   \n",
      "3                                                                                                                                                                     [https://images-na.ssl-images-amazon.com/images/I/71OmgsRmxCL.jpg]   \n",
      "4                                                                                                                                                                         [https://m.media-amazon.com/images/I/61ZRsMPnINL._SL1600_.jpg]   \n",
      "...                                                                                                                                                                                                                                  ...   \n",
      "26316                                                                                               [https://images-na.ssl-images-amazon.com/images/I/71+lIPLHBSL.jpg, https://images-na.ssl-images-amazon.com/images/I/81z9aaorDuL.jpg]   \n",
      "26317                                                                                               [https://images-na.ssl-images-amazon.com/images/I/71RYp6iSvlL.jpg, https://images-na.ssl-images-amazon.com/images/I/71wIt-CUFpL.jpg]   \n",
      "26318                                                                                                                                                                 [https://images-na.ssl-images-amazon.com/images/I/719DHG1W3gL.jpg]   \n",
      "26319                                                                             [https://images-na.ssl-images-amazon.com/images/I/81AudihFZTL._SL1600_.jpg, https://images-na.ssl-images-amazon.com/images/I/91aJ+0p6UVL._SL1600_.jpg]   \n",
      "26320  [https://images-na.ssl-images-amazon.com/images/I/71KbVMbHeiL._SL1600_.jpg, https://images-na.ssl-images-amazon.com/images/I/71WGtdmYCVL._SL1600_.jpg, https://images-na.ssl-images-amazon.com/images/I/71zybs2u9qL._SL1600_.jpg]   \n",
      "\n",
      "      image_url  avg_quality_score  has_image  \\\n",
      "0          None          55.118628          1   \n",
      "1          None          47.852516          1   \n",
      "2          None          45.324541          1   \n",
      "3          None          40.549181          1   \n",
      "4          None          48.759136          1   \n",
      "...         ...                ...        ...   \n",
      "26316      None          55.683654          1   \n",
      "26317      None          53.396350          1   \n",
      "26318      None          29.684640          1   \n",
      "26319      None          49.879295          1   \n",
      "26320      None          43.479069          1   \n",
      "\n",
      "                                                                                                                                                                                                                                                                                                                                                                                                                                                                                                                                                                                                                                                                                                                                                                                                                                                                                                                                                                                                                                                                                                                                                                                                                                                                                               image_embedding  \n",
      "0                    [-0.540599, 0.07865639, -0.10508759, 0.384321, 0.65837204, 0.2851305, 0.23978296, 0.37792477, -0.017229497, 0.22071873, 0.23883155, -0.443454, 0.041513667, -0.04700198, 0.72528183, -0.08505139, 0.43320337, -0.25934535, 0.14184506, -0.597857, 0.009864643, -0.13507678, -0.06989759, 0.120252, -0.30194968, 0.3036285, -0.093896925, -0.42927003, -0.16951573, -0.28059825, -0.030816123, 0.392667, -0.51149166, -0.21125473, 0.47118136, 0.1046675, -0.16049352, -0.64431024, -0.64709413, -0.20834884, -0.16702688, -0.2718055, 0.19708273, -0.23792133, 0.29712605, -0.46475115, 0.672607, 0.25906, -0.6356013, -0.093519524, 0.30662268, 0.30149257, 0.14782836, -0.33829647, 0.24389714, 0.33734924, -0.106777176, 0.16236717, 0.20084399, -0.36416608, 0.037466027, 0.0015418679, -0.13166101, 0.0693728, 0.017519534, -0.25359243, 0.11798003, 0.17097461, 0.091002166, -0.6017529, -0.14433788, -0.45547327, -0.35289335, -0.63467026, -0.13191636, 0.05622685, -0.20434977, 0.115415074, -0.18526797, -0.85385907, -0.037153706, -0.5901215, 0.010904079, -0.6793287, 0.19961505, -0.19220766, 1.4326285, -0.08884296, 0.26603758, -0.44360065, 0.36648712, 0.24309836, -6.7237873, -0.27643886, -0.040587157, -0.04414396, 0.45350218, 0.3488767, 0.148368, 0.5200579, ...]  \n",
      "1                 [0.07688691, 0.3659165, -0.087102205, 0.6199508, -0.26357406, 0.017288536, 0.32276225, -0.011176683, -0.19205302, 0.3111674, -0.2623573, -0.006986648, 0.17257339, 0.15557772, 0.0037804246, 0.022371352, 1.0165088, 0.42518902, -0.2028021, -0.21543832, -1.6462734, -0.3109837, -0.59348583, -0.331917, -0.07804157, 0.24888588, -0.20367908, 0.16205603, -0.19688065, 0.16806042, -0.35453394, 0.44855887, -0.17848627, -0.295331, 0.32009518, 0.37150908, -0.6594089, 0.011832267, -0.23585036, -0.16436553, -0.15257753, -0.028862193, -0.17294031, 0.10349697, 0.7414362, -0.41195893, 0.88015145, 0.1151536, 0.4521708, 0.17479032, 0.42074952, -0.0063558146, -0.19240358, -0.41590333, -0.18962795, -0.14745948, 0.15809546, -0.4428854, 0.17515406, -0.007590398, 0.34810054, 0.1312083, 0.44192052, 0.3130308, 0.014423236, 0.011609629, -0.123965904, 0.32290792, -0.24184932, -0.4868027, 0.12845924, 0.23105797, 0.45137727, 0.42787838, 0.0069592297, 0.42244828, -0.14939882, 0.023214847, -0.46167848, 0.22439456, 0.33030125, -0.5147072, 0.2599252, -0.74191207, 0.3360227, 0.12971666, 0.10310477, -0.057348073, 0.437307, 0.08962646, 0.29452518, -0.035445496, -5.8627405, 0.22166835, 0.2470786, -0.1705379, -0.011153117, -0.051181033, 0.014497742, 1.2279534, ...]  \n",
      "2          [-0.5628851, 0.06676587, -0.013108544, 0.7306708, 0.07779495, -0.29585752, 0.04950787, -0.39647928, 0.53371966, 0.026883807, 0.294438, -0.539832, -0.65196776, -0.035322912, 0.70633066, 0.14296594, -0.081023686, -0.0830839, -0.02098548, -0.598501, -0.1185115, 0.03850631, 0.015814155, -0.06839475, -0.48649526, 0.26111948, -0.15462321, -0.26475924, -0.02142024, -0.09206415, 0.06503893, 0.024553567, 0.09296924, -0.2655771, -0.29931724, 0.33394372, -0.08404821, 0.11516553, -0.1935804, 0.7950577, 0.060899034, -0.22358468, -0.33698356, 0.10809307, 0.15605259, 0.6356138, 0.0858924, 0.13076234, -0.6727849, 0.32374525, -0.24122545, 0.1326306, -0.053772867, 0.18832633, -0.25868052, 0.5879457, -0.035009682, -0.10560198, 0.22694616, 0.86159086, -0.6567334, -0.0046166927, 0.40225798, 0.43621993, 0.112996735, -0.021620866, -0.12519696, -0.5540226, -0.052454352, -0.07457991, 0.57808644, -0.15084395, 0.42257422, 0.12927535, -0.08506645, -0.21380173, -0.0045559406, -0.007340558, -0.5236497, -0.5955633, 0.2932326, -0.018668368, -0.11208242, 0.17812222, 0.046315573, -0.16488439, 0.49528664, -0.059453197, 0.557923, -0.104543895, 0.15270157, 0.39097494, -4.867715, -0.24890648, 0.21265325, 0.09798775, -0.13764493, 0.13363975, 0.02480644, 0.65563065, ...]  \n",
      "3          [-0.62650657, 0.4515555, -0.07181434, 0.48025215, 0.47315362, 0.13601357, 0.15614963, 0.7352151, -0.011673659, 0.32218024, 0.02218169, -0.5051794, 0.2217186, -0.2953257, 0.77026486, -0.4466536, 0.33424926, -0.13201927, -0.12321973, -0.037374288, -0.73854816, 0.08229916, -0.030302234, 0.10337262, -0.41353387, 0.3190045, 0.099073276, -0.047775663, -0.12396985, -0.21807924, -0.0060824156, 0.48932952, 0.2801243, -0.021869235, 0.20531714, -0.28275362, -0.3557005, -0.63937676, 0.2425712, 0.12335141, -0.38460055, -0.10035713, -0.071321905, -0.17485628, 0.07340424, -0.06952363, 0.66135895, 0.16472566, 0.18441221, -0.29177856, 0.45496163, -0.15160616, 0.39207694, -0.019967578, -0.2595776, -0.07660614, -0.31392324, -0.04824868, 0.11671183, 0.6496324, -0.4244359, -0.2827726, 0.3221652, -0.06465769, 0.049735084, 0.16382404, 0.41408896, 0.47804058, -0.08296853, -0.17185381, -0.24737848, -0.09942211, -0.44986644, -0.5276997, -0.17247798, 0.07351058, -0.34164947, -0.25751263, -0.3554923, 0.02121672, 0.78507054, 0.08044435, 0.16759607, -0.5224808, -0.19321121, 0.17730829, 0.2557597, 0.34490752, -0.11008039, -0.18056652, 0.62611246, 0.19251108, -6.9426355, 0.41126665, -0.0031973273, -0.08400338, -0.31333148, -0.05387318, -0.5588219, 0.6511207, ...]  \n",
      "4      [0.06852718, 0.12618983, 0.028385177, 0.31566095, 0.23657984, -0.021007612, -0.070285946, 0.13796349, 0.3532052, 0.35932687, -0.22912759, -0.19667882, -0.008128867, 0.20743912, 0.26222903, 0.116304345, 0.45840544, -0.18379706, 0.007471323, -0.47736275, -0.75299835, -0.07253763, -0.1590054, -0.057519026, -0.3042379, 0.35413647, -0.10423051, 0.3474052, -0.066342115, -0.25464857, -0.07535957, 0.64102495, 0.54188645, -0.03358102, 0.13381147, 0.4637836, -0.19186617, 0.06778887, -0.58483887, 1.7428105, -0.30804408, -0.49021578, 0.07745135, -0.04803593, 0.05120565, 0.0985553, -0.070699915, 0.16563568, -0.092792794, 0.09998779, -0.18448192, 0.19439293, 0.30937856, 0.06573492, -0.13255237, -0.4095876, 0.02275227, 0.26089677, -0.05486615, 0.3799803, -0.110211745, 0.06506133, -0.13492852, 0.33466667, 0.74288404, 0.24633637, -0.15067387, -0.7169047, -0.3239633, -0.5040963, -0.28789884, 0.2646279, 0.10545258, -0.017151058, 0.012565076, -0.13442743, -0.39977956, 0.116331965, -0.28218684, -0.116797544, 0.38085175, -0.076527506, -0.13445821, -0.1404393, 0.58419454, 0.30126262, 0.2710882, -0.4841606, 0.15626252, -0.26572523, 0.16526806, 0.48456144, -4.8979883, -0.19569051, 0.08925227, 0.076164745, -0.19278371, 0.14606845, -0.091619834, 0.71394426, ...]  \n",
      "...                                                                                                                                                                                                                                                                                                                                                                                                                                                                                                                                                                                                                                                                                                                                                                                                                                                                                                                                                                                                                                                                                                                                                                                                                                                                                                        ...  \n",
      "26316                    [0.39813685, -0.17158338, -0.39251825, 0.085862905, -0.13610867, -0.34274486, -0.016017124, 0.4377081, 0.47167128, 0.104241095, -0.20273094, 0.12453528, -0.028123967, -0.2257205, 0.25438866, -0.25445092, 0.6119952, -0.08499901, -0.35341248, -0.21725315, -0.41345078, 0.12567684, -0.10241324, 0.2420297, -0.032788515, 0.13986593, -0.058957417, -0.0771891, -0.48794284, -0.10576178, -0.11707591, 0.39413643, 0.10449665, 0.036753222, 0.24503568, 0.1562835, -0.511879, -0.23192745, -0.3355581, -0.14099285, -0.16111249, -0.03412336, 0.34838223, -0.13418114, -0.0010286644, -0.9140766, 0.308569, 0.44620904, -0.2363343, -0.52116853, 0.1064431, 0.2415654, 0.25972924, 0.22115858, -0.17560878, -0.34968477, -0.1377381, 0.51982266, 0.6062915, -0.04792498, -0.78738415, -0.4354647, 0.21055143, 0.44526199, 0.26633954, -0.1458917, -0.06480704, -0.3615372, 0.1742168, -0.7083609, 0.17771691, 0.3588829, 0.30508935, -0.03672391, -0.40495735, -0.55456996, -0.56934786, -0.043005124, -0.6467963, -0.8990743, 0.5850101, -0.20041464, 0.04452225, -0.8564656, 0.017729603, -0.2842837, 1.0470788, -0.12611379, 0.38041806, -0.08382411, 0.5510731, 0.5742641, -5.797421, 0.1313045, 0.1135405, 0.17909981, -0.22700848, -0.13004401, -0.16048461, 0.5049106, ...]  \n",
      "26317         [0.11691955, 0.28686085, -0.0698484, -0.3248527, -0.012831293, -0.20282198, -0.024964042, 0.7353481, 1.2613833e-05, -0.25443712, -0.09808794, -0.16307482, 0.061530672, -0.26794675, 0.34383202, -0.57349944, -0.237764, 0.052150577, -0.034209132, 0.33805254, 0.52130306, -0.014044352, -0.40618357, -0.0373179, 0.3340513, 0.34849477, 0.25655675, 0.12648278, 0.064657554, -0.2220279, 0.112421766, -0.06909281, 0.024111882, 0.13837692, 0.25701052, 0.08218803, -0.26922593, 0.11085987, 0.44641334, 0.4572087, -0.15615533, -0.17200965, -0.34420645, 0.27650574, -0.2308065, 0.5412691, 0.14487898, 0.5571779, 0.83674616, 0.100179836, -0.18702705, 0.50029784, -0.004728332, -0.16149442, 0.345307, -0.009441763, 0.74145985, 0.502457, 0.083805785, -0.21820132, -0.66058457, 0.12780015, 0.22953044, -0.046539903, -0.073118016, -0.23552811, -0.499791, -0.5508994, 0.16953078, -0.37840378, -0.13010514, -0.18194354, -0.11800419, -0.20316617, 0.1344523, 0.37653857, -0.17177539, 0.31331578, -0.27100503, -0.14680615, 0.37443757, 0.10364719, -0.35452703, 0.031520367, 0.092965454, 0.29956245, 0.013234943, -0.18713626, 1.0888999, -0.3061475, 0.4726496, 0.2751482, -5.7757034, 0.22660047, -0.07226368, 0.03699913, 0.29664958, 0.3621152, -0.5401528, -0.013505012, ...]  \n",
      "26318           [-0.22797525, 0.60044223, -0.2543665, 0.01350376, 0.54270506, -0.31616935, -0.07471343, 0.7161263, 0.124546334, 0.084523425, 0.30466902, 0.018470392, 0.20733312, -0.21627049, 0.5231468, -0.6028155, 0.35665026, -0.108438194, -0.2351486, 0.08831019, 1.10041, 0.47680753, 0.7548975, -0.110214874, -0.20877495, 0.6282269, 0.051501237, -0.49155158, -0.16092497, 0.4732944, -0.020273417, 0.10191341, -0.06503383, 0.23535416, -0.6065867, 0.42614037, -0.22642118, -0.5282011, 0.045105964, 0.3043289, -0.039332774, -0.086732, -0.12472441, -0.22011839, 0.07624724, -1.7290534, -0.022377122, 0.19293553, 0.25155127, 0.1557912, 0.28255615, 0.48001164, 0.21151458, 0.15094385, -0.263422, -0.20747453, 0.46127242, 0.007930905, -0.26394176, -0.27184573, -0.62473905, -0.16631037, 0.022981256, 0.45526618, -0.054148756, -0.13865529, 0.039100066, 0.27521625, -0.0045916587, -0.21585846, 0.32711855, 0.059684202, 0.07432979, 0.068905935, -0.44788408, -0.024763316, -0.48512113, 0.13600814, 0.05881232, 0.10573484, -0.09103801, 0.35751474, 0.85678893, -0.67331696, 0.15816584, -0.35151762, 1.392588, -0.5879872, 0.06846443, -0.53158575, 0.39252475, -0.39752066, -6.116005, -0.28855997, -0.2766047, 0.061333425, -0.21106185, -0.093340136, 0.517326, -0.43302724, ...]  \n",
      "26319                           [-0.14222051, -0.039220072, 0.119490676, 0.15337309, 0.29338992, -0.29434982, 0.11047846, 0.5942695, 1.0292425, 0.277646, 0.07476822, -0.107825965, -0.9157197, -0.516487, 0.06754772, -0.041702226, -0.7584187, 0.5696176, 0.02677074, 0.0257297, 0.6763924, 0.2547402, 0.27549326, -0.25063458, -0.016130164, 0.11010249, -0.29840294, -0.50056994, 0.49697837, -0.19554402, 0.1212015, 0.14150646, 0.24919835, -0.078333765, -0.23070681, 0.2259889, -0.31367356, 0.16365656, 0.33999258, -0.18881884, -0.6037905, 0.10333425, 0.040186137, -0.109963804, -0.19992578, 2.1027265, 0.20280112, 0.17385969, 0.18236051, 0.11927006, -0.24587823, 0.20898408, 0.407694, -0.04993391, 0.5260272, 0.054222405, -0.23583178, 0.19034137, -0.04854469, 0.4190673, -1.7265304, -0.13724703, -0.066877946, 0.1884771, 0.22641863, -0.26181254, 0.35416138, 0.52497935, -0.18468386, -0.23216295, -0.32804552, 0.5818597, 0.23531246, 0.27163532, -0.12945116, -0.22996901, -0.658942, 0.22784509, -0.16980106, -0.5013161, 0.2801971, -0.42845598, -0.24152675, 0.7706758, 0.22991237, -0.059300765, 0.5105565, -0.2987996, -0.04261662, -0.2435053, 0.08474351, 0.22001821, -7.201997, 0.42280746, -0.34540087, 0.39863744, 0.14557192, 0.079247296, -0.33119392, -0.21876729, ...]  \n",
      "26320     [-0.13906232, -0.023149252, 0.015660098, -0.41021216, -0.25397256, -0.1899623, -0.083374545, -0.6738317, 0.9549144, 0.33135805, 0.23778626, -0.1827395, -0.988292, -0.6628387, 0.51355106, -0.112792, 1.2523525, 0.6590336, 0.1599982, -0.31044593, 0.93040276, -0.062723234, 0.46487874, 0.17123783, 0.52541816, 0.013441876, -0.25180173, -0.49759936, -0.06649017, -0.16085972, 0.20004028, 0.43174943, 0.44602552, -0.48597002, 0.714462, -0.0315969, -0.39329448, 0.21613918, 0.08772788, 0.24549466, -0.019143313, -0.015883535, -0.14397126, -0.21803221, -0.16583484, 2.330875, 0.17739981, 0.019300386, -0.056441903, 0.42198673, -0.100009434, 0.08923304, -0.09183397, 0.7366824, 0.13330239, 0.12402271, 0.11192797, 0.18663514, 0.17773704, 0.45832568, -0.06027171, -0.37834322, 0.20127007, 0.09355073, -0.27962187, -0.087031126, -0.058685996, -0.7837833, -0.65027857, -0.087587245, 0.063221715, 0.43847716, 0.026271105, -0.008431248, -0.07394183, -0.06483622, -0.60228354, -0.34304452, -0.32409695, -0.46723044, -0.02481661, -0.53951705, 0.06529803, 0.8603149, -0.08722298, 0.23954105, 0.24273443, -0.08611332, -0.103201404, -0.34161812, 0.32100895, -0.2322104, -5.227172, -0.095638394, -0.21380413, 0.18349685, 0.1657433, 0.07125169, 0.09170966, -0.3820141, ...]  \n",
      "\n",
      "[26321 rows x 37 columns]\n"
     ]
    }
   ],
   "source": [
    "from sklearn.preprocessing import MinMaxScaler\n",
    "import pandas as pd\n",
    "from datetime import datetime\n",
    "from textstat import flesch_reading_ease\n",
    "from nltk.sentiment import SentimentIntensityAnalyzer\n",
    "\n",
    "# Show all columns in output\n",
    "pd.set_option('display.max_columns', None)\n",
    "print(df['image_embedding'][4])\n",
    "print(df)\n",
    "\n",
    "# Convert timestamp to datetime and calculate days since\n",
    "df['timestamp'] = pd.to_datetime(df['timestamp'], errors='coerce')\n",
    "df['days_since_review'] = (datetime.now() - df['timestamp']).dt.days\n",
    "\n",
    "# Calculate review length (number of words in 'text')\n",
    "df['review_length'] = df['text'].apply(lambda x: len(str(x).split()))\n",
    "\n",
    "# Normalize helpful votes (as proxy for helpfulness score)\n",
    "df['helpfulness_score'] = df['helpful_vote'] / df['helpful_vote'].max()\n",
    "\n",
    "# Calculate readability and sentiment score\n",
    "df['readability'] = df['text'].apply(lambda x: flesch_reading_ease(str(x)))\n",
    "sia = SentimentIntensityAnalyzer()\n",
    "df['sentiment'] = df['text'].apply(lambda x: sia.polarity_scores(str(x))['compound'])\n"
   ]
  },
  {
   "cell_type": "code",
   "execution_count": 66,
   "id": "605e2316",
   "metadata": {},
   "outputs": [
    {
     "name": "stdout",
     "output_type": "stream",
     "text": [
      "✅ DataFrame saved to: processed_images.csv\n"
     ]
    }
   ],
   "source": [
    "output_path = \"processed_images.csv\"\n",
    "df.to_csv(output_path, index=False)\n",
    "print(f\"✅ DataFrame saved to: {output_path}\")\n"
   ]
  },
  {
   "cell_type": "code",
   "execution_count": null,
   "id": "5d0c34db",
   "metadata": {},
   "outputs": [],
   "source": [
    "\n",
    "# # Optional: If your metadata has image URLs\n",
    "# if 'imageURLHighRes' in df_meta.columns:\n",
    "#     df_meta['image_embedding'] = df_meta['imageURLHighRes'].apply(lambda x: get_image_embedding(x[0]) if isinstance(x, list) and len(x) > 0 else np.zeros(512))\n",
    "\n",
    "# # Merge metadata with reviews\n",
    "# df_merged = df_reviews.merge(df_meta, on='asin', how='left')\n",
    "\n",
    "# # Chunk the review text\n",
    "# df_merged['text_chunks'] = df_merged['review_body'].apply(chunk_text)\n"
   ]
  },
  {
   "cell_type": "code",
   "execution_count": null,
   "id": "6301fcfd",
   "metadata": {},
   "outputs": [],
   "source": [
    "# # CLIP-based image-text similarity (alignment) score\n",
    "# def image_text_similarity(text, image):\n",
    "#     inputs = clip_processor(text=[text], images=image, return_tensors=\"pt\", padding=True)\n",
    "#     outputs = clip_model(**inputs)\n",
    "#     return torch.cosine_similarity(outputs.image_embeds, outputs.text_embeds).item()\n"
   ]
  },
  {
   "cell_type": "code",
   "execution_count": null,
   "id": "5d361ff5",
   "metadata": {},
   "outputs": [],
   "source": [
    "# # Reviewer-level features (if reviewerID is available)\n",
    "# reviewer_stats = df.groupby(\"reviewerID\").agg({\n",
    "#     \"reviewText\": \"count\",\n",
    "#     \"helpful\": lambda x: sum([h[0]/h[1] if h[1] != 0 else 0 for h in x])\n",
    "# }).rename(columns={\n",
    "#     \"reviewText\": \"review_count_by_user\",\n",
    "#     \"helpful\": \"avg_helpfulness_by_user\"\n",
    "# })\n",
    "\n",
    "# df = df.merge(reviewer_stats, on=\"reviewerID\", how=\"left\")\n"
   ]
  },
  {
   "cell_type": "code",
   "execution_count": null,
   "id": "f921e5d9",
   "metadata": {},
   "outputs": [],
   "source": [
    "# # Add target labels\n",
    "# def label_helpfulness(row):\n",
    "#     if row['total_votes'] == 0:\n",
    "#         return \"no_votes\"\n",
    "#     ratio = row['helpful_votes'] / row['total_votes']\n",
    "#     if ratio >= 0.75:\n",
    "#         return \"helpful\"\n",
    "#     elif ratio >= 0.5:\n",
    "#         return \"somewhat_helpful\"\n",
    "#     else:\n",
    "#         return \"not_helpful\"\n",
    "\n",
    "# df[\"helpfulness_label\"] = df.apply(label_helpfulness, axis=1)\n",
    "# df[\"helpfulness_regression\"] = df[\"helpful_votes\"] / df[\"total_votes\"].replace(0, 1)\n"
   ]
  },
  {
   "cell_type": "code",
   "execution_count": null,
   "id": "06594b0b",
   "metadata": {},
   "outputs": [],
   "source": [
    "# # Filter bad data\n",
    "# df = df[df['total_votes'] > 0]\n",
    "# df = df[df['reviewText'].str.len() > 5]\n",
    "# df = df[df['imageURLHighRes'].notna() & df['imageURLHighRes'].str.len() > 0]\n"
   ]
  }
 ],
 "metadata": {
  "kernelspec": {
   "display_name": "venv",
   "language": "python",
   "name": "python3"
  },
  "language_info": {
   "codemirror_mode": {
    "name": "ipython",
    "version": 3
   },
   "file_extension": ".py",
   "mimetype": "text/x-python",
   "name": "python",
   "nbconvert_exporter": "python",
   "pygments_lexer": "ipython3",
   "version": "3.12.0"
  }
 },
 "nbformat": 4,
 "nbformat_minor": 5
}
